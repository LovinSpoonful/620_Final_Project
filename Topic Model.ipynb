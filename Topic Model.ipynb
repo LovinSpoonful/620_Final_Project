{
 "cells": [
  {
   "cell_type": "code",
   "execution_count": 2,
   "id": "167d2b3c",
   "metadata": {},
   "outputs": [],
   "source": [
    "import pandas as pd\n",
    "import os\n",
    "from bertopic import BERTopic"
   ]
  },
  {
   "cell_type": "code",
   "execution_count": 4,
   "id": "1855fdd6",
   "metadata": {},
   "outputs": [],
   "source": [
    "os.chdir('C:\\\\Data\\\\')\n",
    "df = pd.read_csv('Sources100.csv')\n",
    "docs = df['UserContent'].tolist()"
   ]
  },
  {
   "cell_type": "code",
   "execution_count": 12,
   "id": "9d29f207",
   "metadata": {},
   "outputs": [
    {
     "data": {
      "application/vnd.jupyter.widget-view+json": {
       "model_id": "49aac5631f834eabb1e12e04d11f0eed",
       "version_major": 2,
       "version_minor": 0
      },
      "text/plain": [
       "Batches:   0%|          | 0/86 [00:00<?, ?it/s]"
      ]
     },
     "metadata": {},
     "output_type": "display_data"
    },
    {
     "name": "stderr",
     "output_type": "stream",
     "text": [
      "2022-05-23 15:41:57,156 - BERTopic - Transformed documents to Embeddings\n",
      "2022-05-23 15:42:05,413 - BERTopic - Reduced dimensionality\n",
      "2022-05-23 15:42:05,723 - BERTopic - Clustered reduced embeddings\n"
     ]
    }
   ],
   "source": [
    "model = BERTopic(verbose=True)\n",
    "topics, probabilities = model.fit_transform(docs)\n"
   ]
  },
  {
   "cell_type": "code",
   "execution_count": 15,
   "id": "0d141e80",
   "metadata": {},
   "outputs": [
    {
     "data": {
      "text/html": [
       "<div>\n",
       "<style scoped>\n",
       "    .dataframe tbody tr th:only-of-type {\n",
       "        vertical-align: middle;\n",
       "    }\n",
       "\n",
       "    .dataframe tbody tr th {\n",
       "        vertical-align: top;\n",
       "    }\n",
       "\n",
       "    .dataframe thead th {\n",
       "        text-align: right;\n",
       "    }\n",
       "</style>\n",
       "<table border=\"1\" class=\"dataframe\">\n",
       "  <thead>\n",
       "    <tr style=\"text-align: right;\">\n",
       "      <th></th>\n",
       "      <th>Topic</th>\n",
       "      <th>Count</th>\n",
       "      <th>Name</th>\n",
       "    </tr>\n",
       "  </thead>\n",
       "  <tbody>\n",
       "    <tr>\n",
       "      <th>0</th>\n",
       "      <td>-1</td>\n",
       "      <td>1076</td>\n",
       "      <td>-1_the_twitter_to_elonmusk</td>\n",
       "    </tr>\n",
       "    <tr>\n",
       "      <th>1</th>\n",
       "      <td>0</td>\n",
       "      <td>132</td>\n",
       "      <td>0_speech_free_elon_musk</td>\n",
       "    </tr>\n",
       "    <tr>\n",
       "      <th>2</th>\n",
       "      <td>1</td>\n",
       "      <td>106</td>\n",
       "      <td>1_elonmusk_speech_free_left</td>\n",
       "    </tr>\n",
       "    <tr>\n",
       "      <th>3</th>\n",
       "      <td>2</td>\n",
       "      <td>70</td>\n",
       "      <td>2_board_join_directors_meeting</td>\n",
       "    </tr>\n",
       "    <tr>\n",
       "      <th>4</th>\n",
       "      <td>3</td>\n",
       "      <td>61</td>\n",
       "      <td>3_billion_buy_cash_43</td>\n",
       "    </tr>\n",
       "    <tr>\n",
       "      <th>5</th>\n",
       "      <td>4</td>\n",
       "      <td>54</td>\n",
       "      <td>4_takeover_hostile_poised_against</td>\n",
       "    </tr>\n",
       "    <tr>\n",
       "      <th>6</th>\n",
       "      <td>5</td>\n",
       "      <td>51</td>\n",
       "      <td>5_stake_92_passive_filing</td>\n",
       "    </tr>\n",
       "    <tr>\n",
       "      <th>7</th>\n",
       "      <td>6</td>\n",
       "      <td>47</td>\n",
       "      <td>6_teslaownerssv_tesla_vaibhavsisinty_woonomic</td>\n",
       "    </tr>\n",
       "    <tr>\n",
       "      <th>8</th>\n",
       "      <td>7</td>\n",
       "      <td>47</td>\n",
       "      <td>7_musk_elon_why_try</td>\n",
       "    </tr>\n",
       "    <tr>\n",
       "      <th>9</th>\n",
       "      <td>8</td>\n",
       "      <td>45</td>\n",
       "      <td>8_poison_pill_shareholders_hostile</td>\n",
       "    </tr>\n",
       "    <tr>\n",
       "      <th>10</th>\n",
       "      <td>9</td>\n",
       "      <td>42</td>\n",
       "      <td>9_twtr_per_as_to</td>\n",
       "    </tr>\n",
       "    <tr>\n",
       "      <th>11</th>\n",
       "      <td>10</td>\n",
       "      <td>42</td>\n",
       "      <td>10_billym2k_yes_erdayastronaut_slashdot</td>\n",
       "    </tr>\n",
       "    <tr>\n",
       "      <th>12</th>\n",
       "      <td>11</td>\n",
       "      <td>42</td>\n",
       "      <td>11_what_buying_buy_next</td>\n",
       "    </tr>\n",
       "    <tr>\n",
       "      <th>13</th>\n",
       "      <td>12</td>\n",
       "      <td>40</td>\n",
       "      <td>12_pmarca_renatakonkoly_ggreenwald_billym2k</td>\n",
       "    </tr>\n",
       "    <tr>\n",
       "      <th>14</th>\n",
       "      <td>13</td>\n",
       "      <td>39</td>\n",
       "      <td>13_leadership_drama_employees_eventful</td>\n",
       "    </tr>\n",
       "    <tr>\n",
       "      <th>15</th>\n",
       "      <td>14</td>\n",
       "      <td>37</td>\n",
       "      <td>14_laptop_hunter_story_biden</td>\n",
       "    </tr>\n",
       "    <tr>\n",
       "      <th>16</th>\n",
       "      <td>15</td>\n",
       "      <td>33</td>\n",
       "      <td>15_tesla_shares_billion_stake</td>\n",
       "    </tr>\n",
       "    <tr>\n",
       "      <th>17</th>\n",
       "      <td>16</td>\n",
       "      <td>33</td>\n",
       "      <td>16_shareholders_board_owns_offer</td>\n",
       "    </tr>\n",
       "    <tr>\n",
       "      <th>18</th>\n",
       "      <td>17</td>\n",
       "      <td>32</td>\n",
       "      <td>17_followers_conservative_gained_accounts</td>\n",
       "    </tr>\n",
       "    <tr>\n",
       "      <th>19</th>\n",
       "      <td>18</td>\n",
       "      <td>31</td>\n",
       "      <td>18_distraction_analysts_hostile_say</td>\n",
       "    </tr>\n",
       "    <tr>\n",
       "      <th>20</th>\n",
       "      <td>19</td>\n",
       "      <td>30</td>\n",
       "      <td>19_dorsey_jack_former_ceo</td>\n",
       "    </tr>\n",
       "    <tr>\n",
       "      <th>21</th>\n",
       "      <td>20</td>\n",
       "      <td>30</td>\n",
       "      <td>20_liberals_buying_cnns_stelter</td>\n",
       "    </tr>\n",
       "    <tr>\n",
       "      <th>22</th>\n",
       "      <td>21</td>\n",
       "      <td>28</td>\n",
       "      <td>21_elonmusk_board_next_waiting</td>\n",
       "    </tr>\n",
       "    <tr>\n",
       "      <th>23</th>\n",
       "      <td>22</td>\n",
       "      <td>27</td>\n",
       "      <td>22_elonmusk_buying_stake_reactions</td>\n",
       "    </tr>\n",
       "    <tr>\n",
       "      <th>24</th>\n",
       "      <td>23</td>\n",
       "      <td>25</td>\n",
       "      <td>23_ceo_temporary_expected_cnbc</td>\n",
       "    </tr>\n",
       "    <tr>\n",
       "      <th>25</th>\n",
       "      <td>24</td>\n",
       "      <td>24</td>\n",
       "      <td>24_shareholder_largest_twitters_becomes</td>\n",
       "    </tr>\n",
       "    <tr>\n",
       "      <th>26</th>\n",
       "      <td>25</td>\n",
       "      <td>23</td>\n",
       "      <td>25_owns_own_bezos_washington</td>\n",
       "    </tr>\n",
       "    <tr>\n",
       "      <th>27</th>\n",
       "      <td>26</td>\n",
       "      <td>22</td>\n",
       "      <td>26_tender_offer_financing_465</td>\n",
       "    </tr>\n",
       "    <tr>\n",
       "      <th>28</th>\n",
       "      <td>27</td>\n",
       "      <td>21</td>\n",
       "      <td>27_bond_leftleaning_sealed_bw</td>\n",
       "    </tr>\n",
       "    <tr>\n",
       "      <th>29</th>\n",
       "      <td>28</td>\n",
       "      <td>20</td>\n",
       "      <td>28_saudi_prince_arabia_rejects</td>\n",
       "    </tr>\n",
       "    <tr>\n",
       "      <th>30</th>\n",
       "      <td>29</td>\n",
       "      <td>18</td>\n",
       "      <td>29_financing_equity_bound_reduce</td>\n",
       "    </tr>\n",
       "    <tr>\n",
       "      <th>31</th>\n",
       "      <td>30</td>\n",
       "      <td>18</td>\n",
       "      <td>30_gates_bill_farmland_buying</td>\n",
       "    </tr>\n",
       "    <tr>\n",
       "      <th>32</th>\n",
       "      <td>31</td>\n",
       "      <td>17</td>\n",
       "      <td>31_httpstcotealjwlsdp_httpstcolmvilxmkhk_https...</td>\n",
       "    </tr>\n",
       "    <tr>\n",
       "      <th>33</th>\n",
       "      <td>32</td>\n",
       "      <td>17</td>\n",
       "      <td>32_homeless_shelter_into_hq</td>\n",
       "    </tr>\n",
       "    <tr>\n",
       "      <th>34</th>\n",
       "      <td>33</td>\n",
       "      <td>17</td>\n",
       "      <td>33_reexamines_bid_musks_receptive</td>\n",
       "    </tr>\n",
       "    <tr>\n",
       "      <th>35</th>\n",
       "      <td>34</td>\n",
       "      <td>16</td>\n",
       "      <td>34_texas_state_acres_hq</td>\n",
       "    </tr>\n",
       "    <tr>\n",
       "      <th>36</th>\n",
       "      <td>35</td>\n",
       "      <td>16</td>\n",
       "      <td>35_billiondollar_position_put_its</td>\n",
       "    </tr>\n",
       "    <tr>\n",
       "      <th>37</th>\n",
       "      <td>36</td>\n",
       "      <td>16</td>\n",
       "      <td>36_executive_slash_costs_meta</td>\n",
       "    </tr>\n",
       "    <tr>\n",
       "      <th>42</th>\n",
       "      <td>43</td>\n",
       "      <td>15</td>\n",
       "      <td>43_reinstate_trumps_trump_account</td>\n",
       "    </tr>\n",
       "    <tr>\n",
       "      <th>46</th>\n",
       "      <td>37</td>\n",
       "      <td>15</td>\n",
       "      <td>37_fcc_law_allowed_many</td>\n",
       "    </tr>\n",
       "    <tr>\n",
       "      <th>45</th>\n",
       "      <td>38</td>\n",
       "      <td>15</td>\n",
       "      <td>38_fee_include_billion_agreement</td>\n",
       "    </tr>\n",
       "    <tr>\n",
       "      <th>43</th>\n",
       "      <td>40</td>\n",
       "      <td>15</td>\n",
       "      <td>40_china_influence_give_site</td>\n",
       "    </tr>\n",
       "    <tr>\n",
       "      <th>44</th>\n",
       "      <td>39</td>\n",
       "      <td>15</td>\n",
       "      <td>39_power_solar_waitbutwhy_earth</td>\n",
       "    </tr>\n",
       "    <tr>\n",
       "      <th>41</th>\n",
       "      <td>42</td>\n",
       "      <td>15</td>\n",
       "      <td>42_tesla_2014_dismissed_baron</td>\n",
       "    </tr>\n",
       "    <tr>\n",
       "      <th>40</th>\n",
       "      <td>44</td>\n",
       "      <td>15</td>\n",
       "      <td>44_aoc_hitting_stop_tells</td>\n",
       "    </tr>\n",
       "    <tr>\n",
       "      <th>39</th>\n",
       "      <td>45</td>\n",
       "      <td>15</td>\n",
       "      <td>45_net_billion_worth_dollars</td>\n",
       "    </tr>\n",
       "    <tr>\n",
       "      <th>38</th>\n",
       "      <td>41</td>\n",
       "      <td>15</td>\n",
       "      <td>41_users_casual_pay_slight</td>\n",
       "    </tr>\n",
       "    <tr>\n",
       "      <th>47</th>\n",
       "      <td>46</td>\n",
       "      <td>14</td>\n",
       "      <td>46_sued_shareholder_disclosing_sues</td>\n",
       "    </tr>\n",
       "    <tr>\n",
       "      <th>48</th>\n",
       "      <td>47</td>\n",
       "      <td>14</td>\n",
       "      <td>47_verified_crypto_bots_scam</td>\n",
       "    </tr>\n",
       "    <tr>\n",
       "      <th>49</th>\n",
       "      <td>48</td>\n",
       "      <td>13</td>\n",
       "      <td>48_billionaires_groups_httpstcopgtrfelvdx_pols</td>\n",
       "    </tr>\n",
       "    <tr>\n",
       "      <th>50</th>\n",
       "      <td>49</td>\n",
       "      <td>13</td>\n",
       "      <td>49_music_videos_elonmusk_strongly</td>\n",
       "    </tr>\n",
       "    <tr>\n",
       "      <th>51</th>\n",
       "      <td>50</td>\n",
       "      <td>13</td>\n",
       "      <td>50_edit_button_an_poll</td>\n",
       "    </tr>\n",
       "    <tr>\n",
       "      <th>52</th>\n",
       "      <td>51</td>\n",
       "      <td>12</td>\n",
       "      <td>51_rogan_joe_superhero_movie</td>\n",
       "    </tr>\n",
       "    <tr>\n",
       "      <th>53</th>\n",
       "      <td>52</td>\n",
       "      <td>12</td>\n",
       "      <td>52_bee_babylon_satire_before</td>\n",
       "    </tr>\n",
       "    <tr>\n",
       "      <th>54</th>\n",
       "      <td>53</td>\n",
       "      <td>11</td>\n",
       "      <td>53_dogecoin_doge_memebased_surged</td>\n",
       "    </tr>\n",
       "    <tr>\n",
       "      <th>55</th>\n",
       "      <td>54</td>\n",
       "      <td>11</td>\n",
       "      <td>54_differently_each_both_theyre</td>\n",
       "    </tr>\n",
       "    <tr>\n",
       "      <th>56</th>\n",
       "      <td>55</td>\n",
       "      <td>11</td>\n",
       "      <td>55_happens_actually_44_next</td>\n",
       "    </tr>\n",
       "    <tr>\n",
       "      <th>57</th>\n",
       "      <td>56</td>\n",
       "      <td>11</td>\n",
       "      <td>56_step_lift_political_back</td>\n",
       "    </tr>\n",
       "    <tr>\n",
       "      <th>58</th>\n",
       "      <td>57</td>\n",
       "      <td>11</td>\n",
       "      <td>57_partner_ny_bravo_thoma</td>\n",
       "    </tr>\n",
       "  </tbody>\n",
       "</table>\n",
       "</div>"
      ],
      "text/plain": [
       "    Topic  Count                                               Name\n",
       "0      -1   1076                         -1_the_twitter_to_elonmusk\n",
       "1       0    132                            0_speech_free_elon_musk\n",
       "2       1    106                        1_elonmusk_speech_free_left\n",
       "3       2     70                     2_board_join_directors_meeting\n",
       "4       3     61                              3_billion_buy_cash_43\n",
       "5       4     54                  4_takeover_hostile_poised_against\n",
       "6       5     51                          5_stake_92_passive_filing\n",
       "7       6     47      6_teslaownerssv_tesla_vaibhavsisinty_woonomic\n",
       "8       7     47                                7_musk_elon_why_try\n",
       "9       8     45                 8_poison_pill_shareholders_hostile\n",
       "10      9     42                                   9_twtr_per_as_to\n",
       "11     10     42            10_billym2k_yes_erdayastronaut_slashdot\n",
       "12     11     42                            11_what_buying_buy_next\n",
       "13     12     40        12_pmarca_renatakonkoly_ggreenwald_billym2k\n",
       "14     13     39             13_leadership_drama_employees_eventful\n",
       "15     14     37                       14_laptop_hunter_story_biden\n",
       "16     15     33                      15_tesla_shares_billion_stake\n",
       "17     16     33                   16_shareholders_board_owns_offer\n",
       "18     17     32          17_followers_conservative_gained_accounts\n",
       "19     18     31                18_distraction_analysts_hostile_say\n",
       "20     19     30                          19_dorsey_jack_former_ceo\n",
       "21     20     30                    20_liberals_buying_cnns_stelter\n",
       "22     21     28                     21_elonmusk_board_next_waiting\n",
       "23     22     27                 22_elonmusk_buying_stake_reactions\n",
       "24     23     25                     23_ceo_temporary_expected_cnbc\n",
       "25     24     24            24_shareholder_largest_twitters_becomes\n",
       "26     25     23                       25_owns_own_bezos_washington\n",
       "27     26     22                      26_tender_offer_financing_465\n",
       "28     27     21                      27_bond_leftleaning_sealed_bw\n",
       "29     28     20                     28_saudi_prince_arabia_rejects\n",
       "30     29     18                   29_financing_equity_bound_reduce\n",
       "31     30     18                      30_gates_bill_farmland_buying\n",
       "32     31     17  31_httpstcotealjwlsdp_httpstcolmvilxmkhk_https...\n",
       "33     32     17                        32_homeless_shelter_into_hq\n",
       "34     33     17                  33_reexamines_bid_musks_receptive\n",
       "35     34     16                            34_texas_state_acres_hq\n",
       "36     35     16                  35_billiondollar_position_put_its\n",
       "37     36     16                      36_executive_slash_costs_meta\n",
       "42     43     15                  43_reinstate_trumps_trump_account\n",
       "46     37     15                            37_fcc_law_allowed_many\n",
       "45     38     15                   38_fee_include_billion_agreement\n",
       "43     40     15                       40_china_influence_give_site\n",
       "44     39     15                    39_power_solar_waitbutwhy_earth\n",
       "41     42     15                      42_tesla_2014_dismissed_baron\n",
       "40     44     15                          44_aoc_hitting_stop_tells\n",
       "39     45     15                       45_net_billion_worth_dollars\n",
       "38     41     15                         41_users_casual_pay_slight\n",
       "47     46     14                46_sued_shareholder_disclosing_sues\n",
       "48     47     14                       47_verified_crypto_bots_scam\n",
       "49     48     13     48_billionaires_groups_httpstcopgtrfelvdx_pols\n",
       "50     49     13                  49_music_videos_elonmusk_strongly\n",
       "51     50     13                             50_edit_button_an_poll\n",
       "52     51     12                       51_rogan_joe_superhero_movie\n",
       "53     52     12                       52_bee_babylon_satire_before\n",
       "54     53     11                  53_dogecoin_doge_memebased_surged\n",
       "55     54     11                    54_differently_each_both_theyre\n",
       "56     55     11                        55_happens_actually_44_next\n",
       "57     56     11                        56_step_lift_political_back\n",
       "58     57     11                          57_partner_ny_bravo_thoma"
      ]
     },
     "execution_count": 15,
     "metadata": {},
     "output_type": "execute_result"
    }
   ],
   "source": [
    "#model.get_topic_freq().head(12)\n",
    "model.get_topic_info()\n"
   ]
  },
  {
   "cell_type": "code",
   "execution_count": 16,
   "id": "c4238e44",
   "metadata": {},
   "outputs": [
    {
     "data": {
      "text/plain": [
       "[('speech', 0.04508059584338124),\n",
       " ('free', 0.039298776918602674),\n",
       " ('elon', 0.016746692294313678),\n",
       " ('musk', 0.01638473970759543),\n",
       " ('and', 0.016354265839468213),\n",
       " ('social', 0.014020967395559818),\n",
       " ('twitter', 0.013410733470313461),\n",
       " ('the', 0.013345687057828187),\n",
       " ('that', 0.01240187497504128),\n",
       " ('is', 0.012170973121439431)]"
      ]
     },
     "execution_count": 16,
     "metadata": {},
     "output_type": "execute_result"
    }
   ],
   "source": [
    "model.get_topic(0)\n"
   ]
  },
  {
   "cell_type": "code",
   "execution_count": 17,
   "id": "2c7aef7d",
   "metadata": {},
   "outputs": [
    {
     "data": {
      "application/vnd.plotly.v1+json": {
       "config": {
        "plotlyServerURL": "https://plot.ly"
       },
       "data": [
        {
         "marker": {
          "color": "#D55E00"
         },
         "orientation": "h",
         "type": "bar",
         "x": [
          0.016354265839468213,
          0.01638473970759543,
          0.016746692294313678,
          0.039298776918602674,
          0.04508059584338124
         ],
         "xaxis": "x",
         "y": [
          "and  ",
          "musk  ",
          "elon  ",
          "free  ",
          "speech  "
         ],
         "yaxis": "y"
        },
        {
         "marker": {
          "color": "#0072B2"
         },
         "orientation": "h",
         "type": "bar",
         "x": [
          0.018660351233318207,
          0.018941985510020694,
          0.02412979552162274,
          0.028371880402167305,
          0.02966197127021689
         ],
         "xaxis": "x2",
         "y": [
          "censorship  ",
          "left  ",
          "free  ",
          "speech  ",
          "elonmusk  "
         ],
         "yaxis": "y2"
        },
        {
         "marker": {
          "color": "#CC79A7"
         },
         "orientation": "h",
         "type": "bar",
         "x": [
          0.029065575018856805,
          0.032724378536043125,
          0.04949150034322558,
          0.05460262459398946,
          0.07762188815637251
         ],
         "xaxis": "x3",
         "y": [
          "musk  ",
          "meeting  ",
          "directors  ",
          "join  ",
          "board  "
         ],
         "yaxis": "y3"
        },
        {
         "marker": {
          "color": "#E69F00"
         },
         "orientation": "h",
         "type": "bar",
         "x": [
          0.027882041528835926,
          0.028284081659947048,
          0.03101323280030892,
          0.044604766764283356,
          0.050426969201693164
         ],
         "xaxis": "x4",
         "y": [
          "offers  ",
          "43  ",
          "cash  ",
          "buy  ",
          "billion  "
         ],
         "yaxis": "y4"
        },
        {
         "marker": {
          "color": "#56B4E9"
         },
         "orientation": "h",
         "type": "bar",
         "x": [
          0.03399610446184623,
          0.038373907213385884,
          0.04964790555498401,
          0.07635399452896173,
          0.08565589327000064
         ],
         "xaxis": "x5",
         "y": [
          "abebrown716  ",
          "against  ",
          "poised  ",
          "hostile  ",
          "takeover  "
         ],
         "yaxis": "y5"
        },
        {
         "marker": {
          "color": "#009E73"
         },
         "orientation": "h",
         "type": "bar",
         "x": [
          0.036775855218415164,
          0.041127278009047905,
          0.049428672162403105,
          0.07228876974074622,
          0.08103859854509772
         ],
         "xaxis": "x6",
         "y": [
          "in  ",
          "filing  ",
          "passive  ",
          "92  ",
          "stake  "
         ],
         "yaxis": "y6"
        },
        {
         "marker": {
          "color": "#F0E442"
         },
         "orientation": "h",
         "type": "bar",
         "x": [
          0.03791843949426851,
          0.053651051292760474,
          0.053651051292760474,
          0.05815905983562079,
          0.08668624896102092
         ],
         "xaxis": "x7",
         "y": [
          "was  ",
          "woonomic  ",
          "vaibhavsisinty  ",
          "tesla  ",
          "teslaownerssv  "
         ],
         "yaxis": "y7"
        },
        {
         "marker": {
          "color": "#D55E00"
         },
         "orientation": "h",
         "type": "bar",
         "x": [
          0.021078043042363354,
          0.02120873175135749,
          0.023257178076607418,
          0.02466749423748677,
          0.030447792713227805
         ],
         "xaxis": "x8",
         "y": [
          "twitter  ",
          "try  ",
          "why  ",
          "elon  ",
          "musk  "
         ],
         "yaxis": "y8"
        }
       ],
       "layout": {
        "annotations": [
         {
          "font": {
           "size": 16
          },
          "showarrow": false,
          "text": "Topic 0",
          "x": 0.0875,
          "xanchor": "center",
          "xref": "paper",
          "y": 1,
          "yanchor": "bottom",
          "yref": "paper"
         },
         {
          "font": {
           "size": 16
          },
          "showarrow": false,
          "text": "Topic 1",
          "x": 0.36250000000000004,
          "xanchor": "center",
          "xref": "paper",
          "y": 1,
          "yanchor": "bottom",
          "yref": "paper"
         },
         {
          "font": {
           "size": 16
          },
          "showarrow": false,
          "text": "Topic 2",
          "x": 0.6375000000000001,
          "xanchor": "center",
          "xref": "paper",
          "y": 1,
          "yanchor": "bottom",
          "yref": "paper"
         },
         {
          "font": {
           "size": 16
          },
          "showarrow": false,
          "text": "Topic 3",
          "x": 0.9125,
          "xanchor": "center",
          "xref": "paper",
          "y": 1,
          "yanchor": "bottom",
          "yref": "paper"
         },
         {
          "font": {
           "size": 16
          },
          "showarrow": false,
          "text": "Topic 4",
          "x": 0.0875,
          "xanchor": "center",
          "xref": "paper",
          "y": 0.4,
          "yanchor": "bottom",
          "yref": "paper"
         },
         {
          "font": {
           "size": 16
          },
          "showarrow": false,
          "text": "Topic 5",
          "x": 0.36250000000000004,
          "xanchor": "center",
          "xref": "paper",
          "y": 0.4,
          "yanchor": "bottom",
          "yref": "paper"
         },
         {
          "font": {
           "size": 16
          },
          "showarrow": false,
          "text": "Topic 6",
          "x": 0.6375000000000001,
          "xanchor": "center",
          "xref": "paper",
          "y": 0.4,
          "yanchor": "bottom",
          "yref": "paper"
         },
         {
          "font": {
           "size": 16
          },
          "showarrow": false,
          "text": "Topic 7",
          "x": 0.9125,
          "xanchor": "center",
          "xref": "paper",
          "y": 0.4,
          "yanchor": "bottom",
          "yref": "paper"
         }
        ],
        "height": 500,
        "hoverlabel": {
         "bgcolor": "white",
         "font": {
          "family": "Rockwell",
          "size": 16
         }
        },
        "showlegend": false,
        "template": {
         "data": {
          "bar": [
           {
            "error_x": {
             "color": "#2a3f5f"
            },
            "error_y": {
             "color": "#2a3f5f"
            },
            "marker": {
             "line": {
              "color": "white",
              "width": 0.5
             },
             "pattern": {
              "fillmode": "overlay",
              "size": 10,
              "solidity": 0.2
             }
            },
            "type": "bar"
           }
          ],
          "barpolar": [
           {
            "marker": {
             "line": {
              "color": "white",
              "width": 0.5
             },
             "pattern": {
              "fillmode": "overlay",
              "size": 10,
              "solidity": 0.2
             }
            },
            "type": "barpolar"
           }
          ],
          "carpet": [
           {
            "aaxis": {
             "endlinecolor": "#2a3f5f",
             "gridcolor": "#C8D4E3",
             "linecolor": "#C8D4E3",
             "minorgridcolor": "#C8D4E3",
             "startlinecolor": "#2a3f5f"
            },
            "baxis": {
             "endlinecolor": "#2a3f5f",
             "gridcolor": "#C8D4E3",
             "linecolor": "#C8D4E3",
             "minorgridcolor": "#C8D4E3",
             "startlinecolor": "#2a3f5f"
            },
            "type": "carpet"
           }
          ],
          "choropleth": [
           {
            "colorbar": {
             "outlinewidth": 0,
             "ticks": ""
            },
            "type": "choropleth"
           }
          ],
          "contour": [
           {
            "colorbar": {
             "outlinewidth": 0,
             "ticks": ""
            },
            "colorscale": [
             [
              0,
              "#0d0887"
             ],
             [
              0.1111111111111111,
              "#46039f"
             ],
             [
              0.2222222222222222,
              "#7201a8"
             ],
             [
              0.3333333333333333,
              "#9c179e"
             ],
             [
              0.4444444444444444,
              "#bd3786"
             ],
             [
              0.5555555555555556,
              "#d8576b"
             ],
             [
              0.6666666666666666,
              "#ed7953"
             ],
             [
              0.7777777777777778,
              "#fb9f3a"
             ],
             [
              0.8888888888888888,
              "#fdca26"
             ],
             [
              1,
              "#f0f921"
             ]
            ],
            "type": "contour"
           }
          ],
          "contourcarpet": [
           {
            "colorbar": {
             "outlinewidth": 0,
             "ticks": ""
            },
            "type": "contourcarpet"
           }
          ],
          "heatmap": [
           {
            "colorbar": {
             "outlinewidth": 0,
             "ticks": ""
            },
            "colorscale": [
             [
              0,
              "#0d0887"
             ],
             [
              0.1111111111111111,
              "#46039f"
             ],
             [
              0.2222222222222222,
              "#7201a8"
             ],
             [
              0.3333333333333333,
              "#9c179e"
             ],
             [
              0.4444444444444444,
              "#bd3786"
             ],
             [
              0.5555555555555556,
              "#d8576b"
             ],
             [
              0.6666666666666666,
              "#ed7953"
             ],
             [
              0.7777777777777778,
              "#fb9f3a"
             ],
             [
              0.8888888888888888,
              "#fdca26"
             ],
             [
              1,
              "#f0f921"
             ]
            ],
            "type": "heatmap"
           }
          ],
          "heatmapgl": [
           {
            "colorbar": {
             "outlinewidth": 0,
             "ticks": ""
            },
            "colorscale": [
             [
              0,
              "#0d0887"
             ],
             [
              0.1111111111111111,
              "#46039f"
             ],
             [
              0.2222222222222222,
              "#7201a8"
             ],
             [
              0.3333333333333333,
              "#9c179e"
             ],
             [
              0.4444444444444444,
              "#bd3786"
             ],
             [
              0.5555555555555556,
              "#d8576b"
             ],
             [
              0.6666666666666666,
              "#ed7953"
             ],
             [
              0.7777777777777778,
              "#fb9f3a"
             ],
             [
              0.8888888888888888,
              "#fdca26"
             ],
             [
              1,
              "#f0f921"
             ]
            ],
            "type": "heatmapgl"
           }
          ],
          "histogram": [
           {
            "marker": {
             "pattern": {
              "fillmode": "overlay",
              "size": 10,
              "solidity": 0.2
             }
            },
            "type": "histogram"
           }
          ],
          "histogram2d": [
           {
            "colorbar": {
             "outlinewidth": 0,
             "ticks": ""
            },
            "colorscale": [
             [
              0,
              "#0d0887"
             ],
             [
              0.1111111111111111,
              "#46039f"
             ],
             [
              0.2222222222222222,
              "#7201a8"
             ],
             [
              0.3333333333333333,
              "#9c179e"
             ],
             [
              0.4444444444444444,
              "#bd3786"
             ],
             [
              0.5555555555555556,
              "#d8576b"
             ],
             [
              0.6666666666666666,
              "#ed7953"
             ],
             [
              0.7777777777777778,
              "#fb9f3a"
             ],
             [
              0.8888888888888888,
              "#fdca26"
             ],
             [
              1,
              "#f0f921"
             ]
            ],
            "type": "histogram2d"
           }
          ],
          "histogram2dcontour": [
           {
            "colorbar": {
             "outlinewidth": 0,
             "ticks": ""
            },
            "colorscale": [
             [
              0,
              "#0d0887"
             ],
             [
              0.1111111111111111,
              "#46039f"
             ],
             [
              0.2222222222222222,
              "#7201a8"
             ],
             [
              0.3333333333333333,
              "#9c179e"
             ],
             [
              0.4444444444444444,
              "#bd3786"
             ],
             [
              0.5555555555555556,
              "#d8576b"
             ],
             [
              0.6666666666666666,
              "#ed7953"
             ],
             [
              0.7777777777777778,
              "#fb9f3a"
             ],
             [
              0.8888888888888888,
              "#fdca26"
             ],
             [
              1,
              "#f0f921"
             ]
            ],
            "type": "histogram2dcontour"
           }
          ],
          "mesh3d": [
           {
            "colorbar": {
             "outlinewidth": 0,
             "ticks": ""
            },
            "type": "mesh3d"
           }
          ],
          "parcoords": [
           {
            "line": {
             "colorbar": {
              "outlinewidth": 0,
              "ticks": ""
             }
            },
            "type": "parcoords"
           }
          ],
          "pie": [
           {
            "automargin": true,
            "type": "pie"
           }
          ],
          "scatter": [
           {
            "fillpattern": {
             "fillmode": "overlay",
             "size": 10,
             "solidity": 0.2
            },
            "type": "scatter"
           }
          ],
          "scatter3d": [
           {
            "line": {
             "colorbar": {
              "outlinewidth": 0,
              "ticks": ""
             }
            },
            "marker": {
             "colorbar": {
              "outlinewidth": 0,
              "ticks": ""
             }
            },
            "type": "scatter3d"
           }
          ],
          "scattercarpet": [
           {
            "marker": {
             "colorbar": {
              "outlinewidth": 0,
              "ticks": ""
             }
            },
            "type": "scattercarpet"
           }
          ],
          "scattergeo": [
           {
            "marker": {
             "colorbar": {
              "outlinewidth": 0,
              "ticks": ""
             }
            },
            "type": "scattergeo"
           }
          ],
          "scattergl": [
           {
            "marker": {
             "colorbar": {
              "outlinewidth": 0,
              "ticks": ""
             }
            },
            "type": "scattergl"
           }
          ],
          "scattermapbox": [
           {
            "marker": {
             "colorbar": {
              "outlinewidth": 0,
              "ticks": ""
             }
            },
            "type": "scattermapbox"
           }
          ],
          "scatterpolar": [
           {
            "marker": {
             "colorbar": {
              "outlinewidth": 0,
              "ticks": ""
             }
            },
            "type": "scatterpolar"
           }
          ],
          "scatterpolargl": [
           {
            "marker": {
             "colorbar": {
              "outlinewidth": 0,
              "ticks": ""
             }
            },
            "type": "scatterpolargl"
           }
          ],
          "scatterternary": [
           {
            "marker": {
             "colorbar": {
              "outlinewidth": 0,
              "ticks": ""
             }
            },
            "type": "scatterternary"
           }
          ],
          "surface": [
           {
            "colorbar": {
             "outlinewidth": 0,
             "ticks": ""
            },
            "colorscale": [
             [
              0,
              "#0d0887"
             ],
             [
              0.1111111111111111,
              "#46039f"
             ],
             [
              0.2222222222222222,
              "#7201a8"
             ],
             [
              0.3333333333333333,
              "#9c179e"
             ],
             [
              0.4444444444444444,
              "#bd3786"
             ],
             [
              0.5555555555555556,
              "#d8576b"
             ],
             [
              0.6666666666666666,
              "#ed7953"
             ],
             [
              0.7777777777777778,
              "#fb9f3a"
             ],
             [
              0.8888888888888888,
              "#fdca26"
             ],
             [
              1,
              "#f0f921"
             ]
            ],
            "type": "surface"
           }
          ],
          "table": [
           {
            "cells": {
             "fill": {
              "color": "#EBF0F8"
             },
             "line": {
              "color": "white"
             }
            },
            "header": {
             "fill": {
              "color": "#C8D4E3"
             },
             "line": {
              "color": "white"
             }
            },
            "type": "table"
           }
          ]
         },
         "layout": {
          "annotationdefaults": {
           "arrowcolor": "#2a3f5f",
           "arrowhead": 0,
           "arrowwidth": 1
          },
          "autotypenumbers": "strict",
          "coloraxis": {
           "colorbar": {
            "outlinewidth": 0,
            "ticks": ""
           }
          },
          "colorscale": {
           "diverging": [
            [
             0,
             "#8e0152"
            ],
            [
             0.1,
             "#c51b7d"
            ],
            [
             0.2,
             "#de77ae"
            ],
            [
             0.3,
             "#f1b6da"
            ],
            [
             0.4,
             "#fde0ef"
            ],
            [
             0.5,
             "#f7f7f7"
            ],
            [
             0.6,
             "#e6f5d0"
            ],
            [
             0.7,
             "#b8e186"
            ],
            [
             0.8,
             "#7fbc41"
            ],
            [
             0.9,
             "#4d9221"
            ],
            [
             1,
             "#276419"
            ]
           ],
           "sequential": [
            [
             0,
             "#0d0887"
            ],
            [
             0.1111111111111111,
             "#46039f"
            ],
            [
             0.2222222222222222,
             "#7201a8"
            ],
            [
             0.3333333333333333,
             "#9c179e"
            ],
            [
             0.4444444444444444,
             "#bd3786"
            ],
            [
             0.5555555555555556,
             "#d8576b"
            ],
            [
             0.6666666666666666,
             "#ed7953"
            ],
            [
             0.7777777777777778,
             "#fb9f3a"
            ],
            [
             0.8888888888888888,
             "#fdca26"
            ],
            [
             1,
             "#f0f921"
            ]
           ],
           "sequentialminus": [
            [
             0,
             "#0d0887"
            ],
            [
             0.1111111111111111,
             "#46039f"
            ],
            [
             0.2222222222222222,
             "#7201a8"
            ],
            [
             0.3333333333333333,
             "#9c179e"
            ],
            [
             0.4444444444444444,
             "#bd3786"
            ],
            [
             0.5555555555555556,
             "#d8576b"
            ],
            [
             0.6666666666666666,
             "#ed7953"
            ],
            [
             0.7777777777777778,
             "#fb9f3a"
            ],
            [
             0.8888888888888888,
             "#fdca26"
            ],
            [
             1,
             "#f0f921"
            ]
           ]
          },
          "colorway": [
           "#636efa",
           "#EF553B",
           "#00cc96",
           "#ab63fa",
           "#FFA15A",
           "#19d3f3",
           "#FF6692",
           "#B6E880",
           "#FF97FF",
           "#FECB52"
          ],
          "font": {
           "color": "#2a3f5f"
          },
          "geo": {
           "bgcolor": "white",
           "lakecolor": "white",
           "landcolor": "white",
           "showlakes": true,
           "showland": true,
           "subunitcolor": "#C8D4E3"
          },
          "hoverlabel": {
           "align": "left"
          },
          "hovermode": "closest",
          "mapbox": {
           "style": "light"
          },
          "paper_bgcolor": "white",
          "plot_bgcolor": "white",
          "polar": {
           "angularaxis": {
            "gridcolor": "#EBF0F8",
            "linecolor": "#EBF0F8",
            "ticks": ""
           },
           "bgcolor": "white",
           "radialaxis": {
            "gridcolor": "#EBF0F8",
            "linecolor": "#EBF0F8",
            "ticks": ""
           }
          },
          "scene": {
           "xaxis": {
            "backgroundcolor": "white",
            "gridcolor": "#DFE8F3",
            "gridwidth": 2,
            "linecolor": "#EBF0F8",
            "showbackground": true,
            "ticks": "",
            "zerolinecolor": "#EBF0F8"
           },
           "yaxis": {
            "backgroundcolor": "white",
            "gridcolor": "#DFE8F3",
            "gridwidth": 2,
            "linecolor": "#EBF0F8",
            "showbackground": true,
            "ticks": "",
            "zerolinecolor": "#EBF0F8"
           },
           "zaxis": {
            "backgroundcolor": "white",
            "gridcolor": "#DFE8F3",
            "gridwidth": 2,
            "linecolor": "#EBF0F8",
            "showbackground": true,
            "ticks": "",
            "zerolinecolor": "#EBF0F8"
           }
          },
          "shapedefaults": {
           "line": {
            "color": "#2a3f5f"
           }
          },
          "ternary": {
           "aaxis": {
            "gridcolor": "#DFE8F3",
            "linecolor": "#A2B1C6",
            "ticks": ""
           },
           "baxis": {
            "gridcolor": "#DFE8F3",
            "linecolor": "#A2B1C6",
            "ticks": ""
           },
           "bgcolor": "white",
           "caxis": {
            "gridcolor": "#DFE8F3",
            "linecolor": "#A2B1C6",
            "ticks": ""
           }
          },
          "title": {
           "x": 0.05
          },
          "xaxis": {
           "automargin": true,
           "gridcolor": "#EBF0F8",
           "linecolor": "#EBF0F8",
           "ticks": "",
           "title": {
            "standoff": 15
           },
           "zerolinecolor": "#EBF0F8",
           "zerolinewidth": 2
          },
          "yaxis": {
           "automargin": true,
           "gridcolor": "#EBF0F8",
           "linecolor": "#EBF0F8",
           "ticks": "",
           "title": {
            "standoff": 15
           },
           "zerolinecolor": "#EBF0F8",
           "zerolinewidth": 2
          }
         }
        },
        "title": {
         "font": {
          "color": "Black",
          "size": 22
         },
         "text": "<b>Topic Word Scores",
         "x": 0.5,
         "xanchor": "center",
         "yanchor": "top"
        },
        "width": 1000,
        "xaxis": {
         "anchor": "y",
         "domain": [
          0,
          0.175
         ],
         "showgrid": true
        },
        "xaxis2": {
         "anchor": "y2",
         "domain": [
          0.275,
          0.45
         ],
         "showgrid": true
        },
        "xaxis3": {
         "anchor": "y3",
         "domain": [
          0.55,
          0.7250000000000001
         ],
         "showgrid": true
        },
        "xaxis4": {
         "anchor": "y4",
         "domain": [
          0.825,
          1
         ],
         "showgrid": true
        },
        "xaxis5": {
         "anchor": "y5",
         "domain": [
          0,
          0.175
         ],
         "showgrid": true
        },
        "xaxis6": {
         "anchor": "y6",
         "domain": [
          0.275,
          0.45
         ],
         "showgrid": true
        },
        "xaxis7": {
         "anchor": "y7",
         "domain": [
          0.55,
          0.7250000000000001
         ],
         "showgrid": true
        },
        "xaxis8": {
         "anchor": "y8",
         "domain": [
          0.825,
          1
         ],
         "showgrid": true
        },
        "yaxis": {
         "anchor": "x",
         "domain": [
          0.6000000000000001,
          1
         ],
         "showgrid": true
        },
        "yaxis2": {
         "anchor": "x2",
         "domain": [
          0.6000000000000001,
          1
         ],
         "showgrid": true
        },
        "yaxis3": {
         "anchor": "x3",
         "domain": [
          0.6000000000000001,
          1
         ],
         "showgrid": true
        },
        "yaxis4": {
         "anchor": "x4",
         "domain": [
          0.6000000000000001,
          1
         ],
         "showgrid": true
        },
        "yaxis5": {
         "anchor": "x5",
         "domain": [
          0,
          0.4
         ],
         "showgrid": true
        },
        "yaxis6": {
         "anchor": "x6",
         "domain": [
          0,
          0.4
         ],
         "showgrid": true
        },
        "yaxis7": {
         "anchor": "x7",
         "domain": [
          0,
          0.4
         ],
         "showgrid": true
        },
        "yaxis8": {
         "anchor": "x8",
         "domain": [
          0,
          0.4
         ],
         "showgrid": true
        }
       }
      },
      "text/html": [
       "<div>                            <div id=\"eab94680-d116-4f1b-be34-0e2483932b37\" class=\"plotly-graph-div\" style=\"height:500px; width:1000px;\"></div>            <script type=\"text/javascript\">                require([\"plotly\"], function(Plotly) {                    window.PLOTLYENV=window.PLOTLYENV || {};                                    if (document.getElementById(\"eab94680-d116-4f1b-be34-0e2483932b37\")) {                    Plotly.newPlot(                        \"eab94680-d116-4f1b-be34-0e2483932b37\",                        [{\"marker\":{\"color\":\"#D55E00\"},\"orientation\":\"h\",\"x\":[0.016354265839468213,0.01638473970759543,0.016746692294313678,0.039298776918602674,0.04508059584338124],\"y\":[\"and  \",\"musk  \",\"elon  \",\"free  \",\"speech  \"],\"type\":\"bar\",\"xaxis\":\"x\",\"yaxis\":\"y\"},{\"marker\":{\"color\":\"#0072B2\"},\"orientation\":\"h\",\"x\":[0.018660351233318207,0.018941985510020694,0.02412979552162274,0.028371880402167305,0.02966197127021689],\"y\":[\"censorship  \",\"left  \",\"free  \",\"speech  \",\"elonmusk  \"],\"type\":\"bar\",\"xaxis\":\"x2\",\"yaxis\":\"y2\"},{\"marker\":{\"color\":\"#CC79A7\"},\"orientation\":\"h\",\"x\":[0.029065575018856805,0.032724378536043125,0.04949150034322558,0.05460262459398946,0.07762188815637251],\"y\":[\"musk  \",\"meeting  \",\"directors  \",\"join  \",\"board  \"],\"type\":\"bar\",\"xaxis\":\"x3\",\"yaxis\":\"y3\"},{\"marker\":{\"color\":\"#E69F00\"},\"orientation\":\"h\",\"x\":[0.027882041528835926,0.028284081659947048,0.03101323280030892,0.044604766764283356,0.050426969201693164],\"y\":[\"offers  \",\"43  \",\"cash  \",\"buy  \",\"billion  \"],\"type\":\"bar\",\"xaxis\":\"x4\",\"yaxis\":\"y4\"},{\"marker\":{\"color\":\"#56B4E9\"},\"orientation\":\"h\",\"x\":[0.03399610446184623,0.038373907213385884,0.04964790555498401,0.07635399452896173,0.08565589327000064],\"y\":[\"abebrown716  \",\"against  \",\"poised  \",\"hostile  \",\"takeover  \"],\"type\":\"bar\",\"xaxis\":\"x5\",\"yaxis\":\"y5\"},{\"marker\":{\"color\":\"#009E73\"},\"orientation\":\"h\",\"x\":[0.036775855218415164,0.041127278009047905,0.049428672162403105,0.07228876974074622,0.08103859854509772],\"y\":[\"in  \",\"filing  \",\"passive  \",\"92  \",\"stake  \"],\"type\":\"bar\",\"xaxis\":\"x6\",\"yaxis\":\"y6\"},{\"marker\":{\"color\":\"#F0E442\"},\"orientation\":\"h\",\"x\":[0.03791843949426851,0.053651051292760474,0.053651051292760474,0.05815905983562079,0.08668624896102092],\"y\":[\"was  \",\"woonomic  \",\"vaibhavsisinty  \",\"tesla  \",\"teslaownerssv  \"],\"type\":\"bar\",\"xaxis\":\"x7\",\"yaxis\":\"y7\"},{\"marker\":{\"color\":\"#D55E00\"},\"orientation\":\"h\",\"x\":[0.021078043042363354,0.02120873175135749,0.023257178076607418,0.02466749423748677,0.030447792713227805],\"y\":[\"twitter  \",\"try  \",\"why  \",\"elon  \",\"musk  \"],\"type\":\"bar\",\"xaxis\":\"x8\",\"yaxis\":\"y8\"}],                        {\"template\":{\"data\":{\"barpolar\":[{\"marker\":{\"line\":{\"color\":\"white\",\"width\":0.5},\"pattern\":{\"fillmode\":\"overlay\",\"size\":10,\"solidity\":0.2}},\"type\":\"barpolar\"}],\"bar\":[{\"error_x\":{\"color\":\"#2a3f5f\"},\"error_y\":{\"color\":\"#2a3f5f\"},\"marker\":{\"line\":{\"color\":\"white\",\"width\":0.5},\"pattern\":{\"fillmode\":\"overlay\",\"size\":10,\"solidity\":0.2}},\"type\":\"bar\"}],\"carpet\":[{\"aaxis\":{\"endlinecolor\":\"#2a3f5f\",\"gridcolor\":\"#C8D4E3\",\"linecolor\":\"#C8D4E3\",\"minorgridcolor\":\"#C8D4E3\",\"startlinecolor\":\"#2a3f5f\"},\"baxis\":{\"endlinecolor\":\"#2a3f5f\",\"gridcolor\":\"#C8D4E3\",\"linecolor\":\"#C8D4E3\",\"minorgridcolor\":\"#C8D4E3\",\"startlinecolor\":\"#2a3f5f\"},\"type\":\"carpet\"}],\"choropleth\":[{\"colorbar\":{\"outlinewidth\":0,\"ticks\":\"\"},\"type\":\"choropleth\"}],\"contourcarpet\":[{\"colorbar\":{\"outlinewidth\":0,\"ticks\":\"\"},\"type\":\"contourcarpet\"}],\"contour\":[{\"colorbar\":{\"outlinewidth\":0,\"ticks\":\"\"},\"colorscale\":[[0.0,\"#0d0887\"],[0.1111111111111111,\"#46039f\"],[0.2222222222222222,\"#7201a8\"],[0.3333333333333333,\"#9c179e\"],[0.4444444444444444,\"#bd3786\"],[0.5555555555555556,\"#d8576b\"],[0.6666666666666666,\"#ed7953\"],[0.7777777777777778,\"#fb9f3a\"],[0.8888888888888888,\"#fdca26\"],[1.0,\"#f0f921\"]],\"type\":\"contour\"}],\"heatmapgl\":[{\"colorbar\":{\"outlinewidth\":0,\"ticks\":\"\"},\"colorscale\":[[0.0,\"#0d0887\"],[0.1111111111111111,\"#46039f\"],[0.2222222222222222,\"#7201a8\"],[0.3333333333333333,\"#9c179e\"],[0.4444444444444444,\"#bd3786\"],[0.5555555555555556,\"#d8576b\"],[0.6666666666666666,\"#ed7953\"],[0.7777777777777778,\"#fb9f3a\"],[0.8888888888888888,\"#fdca26\"],[1.0,\"#f0f921\"]],\"type\":\"heatmapgl\"}],\"heatmap\":[{\"colorbar\":{\"outlinewidth\":0,\"ticks\":\"\"},\"colorscale\":[[0.0,\"#0d0887\"],[0.1111111111111111,\"#46039f\"],[0.2222222222222222,\"#7201a8\"],[0.3333333333333333,\"#9c179e\"],[0.4444444444444444,\"#bd3786\"],[0.5555555555555556,\"#d8576b\"],[0.6666666666666666,\"#ed7953\"],[0.7777777777777778,\"#fb9f3a\"],[0.8888888888888888,\"#fdca26\"],[1.0,\"#f0f921\"]],\"type\":\"heatmap\"}],\"histogram2dcontour\":[{\"colorbar\":{\"outlinewidth\":0,\"ticks\":\"\"},\"colorscale\":[[0.0,\"#0d0887\"],[0.1111111111111111,\"#46039f\"],[0.2222222222222222,\"#7201a8\"],[0.3333333333333333,\"#9c179e\"],[0.4444444444444444,\"#bd3786\"],[0.5555555555555556,\"#d8576b\"],[0.6666666666666666,\"#ed7953\"],[0.7777777777777778,\"#fb9f3a\"],[0.8888888888888888,\"#fdca26\"],[1.0,\"#f0f921\"]],\"type\":\"histogram2dcontour\"}],\"histogram2d\":[{\"colorbar\":{\"outlinewidth\":0,\"ticks\":\"\"},\"colorscale\":[[0.0,\"#0d0887\"],[0.1111111111111111,\"#46039f\"],[0.2222222222222222,\"#7201a8\"],[0.3333333333333333,\"#9c179e\"],[0.4444444444444444,\"#bd3786\"],[0.5555555555555556,\"#d8576b\"],[0.6666666666666666,\"#ed7953\"],[0.7777777777777778,\"#fb9f3a\"],[0.8888888888888888,\"#fdca26\"],[1.0,\"#f0f921\"]],\"type\":\"histogram2d\"}],\"histogram\":[{\"marker\":{\"pattern\":{\"fillmode\":\"overlay\",\"size\":10,\"solidity\":0.2}},\"type\":\"histogram\"}],\"mesh3d\":[{\"colorbar\":{\"outlinewidth\":0,\"ticks\":\"\"},\"type\":\"mesh3d\"}],\"parcoords\":[{\"line\":{\"colorbar\":{\"outlinewidth\":0,\"ticks\":\"\"}},\"type\":\"parcoords\"}],\"pie\":[{\"automargin\":true,\"type\":\"pie\"}],\"scatter3d\":[{\"line\":{\"colorbar\":{\"outlinewidth\":0,\"ticks\":\"\"}},\"marker\":{\"colorbar\":{\"outlinewidth\":0,\"ticks\":\"\"}},\"type\":\"scatter3d\"}],\"scattercarpet\":[{\"marker\":{\"colorbar\":{\"outlinewidth\":0,\"ticks\":\"\"}},\"type\":\"scattercarpet\"}],\"scattergeo\":[{\"marker\":{\"colorbar\":{\"outlinewidth\":0,\"ticks\":\"\"}},\"type\":\"scattergeo\"}],\"scattergl\":[{\"marker\":{\"colorbar\":{\"outlinewidth\":0,\"ticks\":\"\"}},\"type\":\"scattergl\"}],\"scattermapbox\":[{\"marker\":{\"colorbar\":{\"outlinewidth\":0,\"ticks\":\"\"}},\"type\":\"scattermapbox\"}],\"scatterpolargl\":[{\"marker\":{\"colorbar\":{\"outlinewidth\":0,\"ticks\":\"\"}},\"type\":\"scatterpolargl\"}],\"scatterpolar\":[{\"marker\":{\"colorbar\":{\"outlinewidth\":0,\"ticks\":\"\"}},\"type\":\"scatterpolar\"}],\"scatter\":[{\"fillpattern\":{\"fillmode\":\"overlay\",\"size\":10,\"solidity\":0.2},\"type\":\"scatter\"}],\"scatterternary\":[{\"marker\":{\"colorbar\":{\"outlinewidth\":0,\"ticks\":\"\"}},\"type\":\"scatterternary\"}],\"surface\":[{\"colorbar\":{\"outlinewidth\":0,\"ticks\":\"\"},\"colorscale\":[[0.0,\"#0d0887\"],[0.1111111111111111,\"#46039f\"],[0.2222222222222222,\"#7201a8\"],[0.3333333333333333,\"#9c179e\"],[0.4444444444444444,\"#bd3786\"],[0.5555555555555556,\"#d8576b\"],[0.6666666666666666,\"#ed7953\"],[0.7777777777777778,\"#fb9f3a\"],[0.8888888888888888,\"#fdca26\"],[1.0,\"#f0f921\"]],\"type\":\"surface\"}],\"table\":[{\"cells\":{\"fill\":{\"color\":\"#EBF0F8\"},\"line\":{\"color\":\"white\"}},\"header\":{\"fill\":{\"color\":\"#C8D4E3\"},\"line\":{\"color\":\"white\"}},\"type\":\"table\"}]},\"layout\":{\"annotationdefaults\":{\"arrowcolor\":\"#2a3f5f\",\"arrowhead\":0,\"arrowwidth\":1},\"autotypenumbers\":\"strict\",\"coloraxis\":{\"colorbar\":{\"outlinewidth\":0,\"ticks\":\"\"}},\"colorscale\":{\"diverging\":[[0,\"#8e0152\"],[0.1,\"#c51b7d\"],[0.2,\"#de77ae\"],[0.3,\"#f1b6da\"],[0.4,\"#fde0ef\"],[0.5,\"#f7f7f7\"],[0.6,\"#e6f5d0\"],[0.7,\"#b8e186\"],[0.8,\"#7fbc41\"],[0.9,\"#4d9221\"],[1,\"#276419\"]],\"sequential\":[[0.0,\"#0d0887\"],[0.1111111111111111,\"#46039f\"],[0.2222222222222222,\"#7201a8\"],[0.3333333333333333,\"#9c179e\"],[0.4444444444444444,\"#bd3786\"],[0.5555555555555556,\"#d8576b\"],[0.6666666666666666,\"#ed7953\"],[0.7777777777777778,\"#fb9f3a\"],[0.8888888888888888,\"#fdca26\"],[1.0,\"#f0f921\"]],\"sequentialminus\":[[0.0,\"#0d0887\"],[0.1111111111111111,\"#46039f\"],[0.2222222222222222,\"#7201a8\"],[0.3333333333333333,\"#9c179e\"],[0.4444444444444444,\"#bd3786\"],[0.5555555555555556,\"#d8576b\"],[0.6666666666666666,\"#ed7953\"],[0.7777777777777778,\"#fb9f3a\"],[0.8888888888888888,\"#fdca26\"],[1.0,\"#f0f921\"]]},\"colorway\":[\"#636efa\",\"#EF553B\",\"#00cc96\",\"#ab63fa\",\"#FFA15A\",\"#19d3f3\",\"#FF6692\",\"#B6E880\",\"#FF97FF\",\"#FECB52\"],\"font\":{\"color\":\"#2a3f5f\"},\"geo\":{\"bgcolor\":\"white\",\"lakecolor\":\"white\",\"landcolor\":\"white\",\"showlakes\":true,\"showland\":true,\"subunitcolor\":\"#C8D4E3\"},\"hoverlabel\":{\"align\":\"left\"},\"hovermode\":\"closest\",\"mapbox\":{\"style\":\"light\"},\"paper_bgcolor\":\"white\",\"plot_bgcolor\":\"white\",\"polar\":{\"angularaxis\":{\"gridcolor\":\"#EBF0F8\",\"linecolor\":\"#EBF0F8\",\"ticks\":\"\"},\"bgcolor\":\"white\",\"radialaxis\":{\"gridcolor\":\"#EBF0F8\",\"linecolor\":\"#EBF0F8\",\"ticks\":\"\"}},\"scene\":{\"xaxis\":{\"backgroundcolor\":\"white\",\"gridcolor\":\"#DFE8F3\",\"gridwidth\":2,\"linecolor\":\"#EBF0F8\",\"showbackground\":true,\"ticks\":\"\",\"zerolinecolor\":\"#EBF0F8\"},\"yaxis\":{\"backgroundcolor\":\"white\",\"gridcolor\":\"#DFE8F3\",\"gridwidth\":2,\"linecolor\":\"#EBF0F8\",\"showbackground\":true,\"ticks\":\"\",\"zerolinecolor\":\"#EBF0F8\"},\"zaxis\":{\"backgroundcolor\":\"white\",\"gridcolor\":\"#DFE8F3\",\"gridwidth\":2,\"linecolor\":\"#EBF0F8\",\"showbackground\":true,\"ticks\":\"\",\"zerolinecolor\":\"#EBF0F8\"}},\"shapedefaults\":{\"line\":{\"color\":\"#2a3f5f\"}},\"ternary\":{\"aaxis\":{\"gridcolor\":\"#DFE8F3\",\"linecolor\":\"#A2B1C6\",\"ticks\":\"\"},\"baxis\":{\"gridcolor\":\"#DFE8F3\",\"linecolor\":\"#A2B1C6\",\"ticks\":\"\"},\"bgcolor\":\"white\",\"caxis\":{\"gridcolor\":\"#DFE8F3\",\"linecolor\":\"#A2B1C6\",\"ticks\":\"\"}},\"title\":{\"x\":0.05},\"xaxis\":{\"automargin\":true,\"gridcolor\":\"#EBF0F8\",\"linecolor\":\"#EBF0F8\",\"ticks\":\"\",\"title\":{\"standoff\":15},\"zerolinecolor\":\"#EBF0F8\",\"zerolinewidth\":2},\"yaxis\":{\"automargin\":true,\"gridcolor\":\"#EBF0F8\",\"linecolor\":\"#EBF0F8\",\"ticks\":\"\",\"title\":{\"standoff\":15},\"zerolinecolor\":\"#EBF0F8\",\"zerolinewidth\":2}}},\"xaxis\":{\"anchor\":\"y\",\"domain\":[0.0,0.175],\"showgrid\":true},\"yaxis\":{\"anchor\":\"x\",\"domain\":[0.6000000000000001,1.0],\"showgrid\":true},\"xaxis2\":{\"anchor\":\"y2\",\"domain\":[0.275,0.45],\"showgrid\":true},\"yaxis2\":{\"anchor\":\"x2\",\"domain\":[0.6000000000000001,1.0],\"showgrid\":true},\"xaxis3\":{\"anchor\":\"y3\",\"domain\":[0.55,0.7250000000000001],\"showgrid\":true},\"yaxis3\":{\"anchor\":\"x3\",\"domain\":[0.6000000000000001,1.0],\"showgrid\":true},\"xaxis4\":{\"anchor\":\"y4\",\"domain\":[0.825,1.0],\"showgrid\":true},\"yaxis4\":{\"anchor\":\"x4\",\"domain\":[0.6000000000000001,1.0],\"showgrid\":true},\"xaxis5\":{\"anchor\":\"y5\",\"domain\":[0.0,0.175],\"showgrid\":true},\"yaxis5\":{\"anchor\":\"x5\",\"domain\":[0.0,0.4],\"showgrid\":true},\"xaxis6\":{\"anchor\":\"y6\",\"domain\":[0.275,0.45],\"showgrid\":true},\"yaxis6\":{\"anchor\":\"x6\",\"domain\":[0.0,0.4],\"showgrid\":true},\"xaxis7\":{\"anchor\":\"y7\",\"domain\":[0.55,0.7250000000000001],\"showgrid\":true},\"yaxis7\":{\"anchor\":\"x7\",\"domain\":[0.0,0.4],\"showgrid\":true},\"xaxis8\":{\"anchor\":\"y8\",\"domain\":[0.825,1.0],\"showgrid\":true},\"yaxis8\":{\"anchor\":\"x8\",\"domain\":[0.0,0.4],\"showgrid\":true},\"annotations\":[{\"font\":{\"size\":16},\"showarrow\":false,\"text\":\"Topic 0\",\"x\":0.0875,\"xanchor\":\"center\",\"xref\":\"paper\",\"y\":1.0,\"yanchor\":\"bottom\",\"yref\":\"paper\"},{\"font\":{\"size\":16},\"showarrow\":false,\"text\":\"Topic 1\",\"x\":0.36250000000000004,\"xanchor\":\"center\",\"xref\":\"paper\",\"y\":1.0,\"yanchor\":\"bottom\",\"yref\":\"paper\"},{\"font\":{\"size\":16},\"showarrow\":false,\"text\":\"Topic 2\",\"x\":0.6375000000000001,\"xanchor\":\"center\",\"xref\":\"paper\",\"y\":1.0,\"yanchor\":\"bottom\",\"yref\":\"paper\"},{\"font\":{\"size\":16},\"showarrow\":false,\"text\":\"Topic 3\",\"x\":0.9125,\"xanchor\":\"center\",\"xref\":\"paper\",\"y\":1.0,\"yanchor\":\"bottom\",\"yref\":\"paper\"},{\"font\":{\"size\":16},\"showarrow\":false,\"text\":\"Topic 4\",\"x\":0.0875,\"xanchor\":\"center\",\"xref\":\"paper\",\"y\":0.4,\"yanchor\":\"bottom\",\"yref\":\"paper\"},{\"font\":{\"size\":16},\"showarrow\":false,\"text\":\"Topic 5\",\"x\":0.36250000000000004,\"xanchor\":\"center\",\"xref\":\"paper\",\"y\":0.4,\"yanchor\":\"bottom\",\"yref\":\"paper\"},{\"font\":{\"size\":16},\"showarrow\":false,\"text\":\"Topic 6\",\"x\":0.6375000000000001,\"xanchor\":\"center\",\"xref\":\"paper\",\"y\":0.4,\"yanchor\":\"bottom\",\"yref\":\"paper\"},{\"font\":{\"size\":16},\"showarrow\":false,\"text\":\"Topic 7\",\"x\":0.9125,\"xanchor\":\"center\",\"xref\":\"paper\",\"y\":0.4,\"yanchor\":\"bottom\",\"yref\":\"paper\"}],\"title\":{\"font\":{\"size\":22,\"color\":\"Black\"},\"text\":\"<b>Topic Word Scores\",\"x\":0.5,\"xanchor\":\"center\",\"yanchor\":\"top\"},\"hoverlabel\":{\"font\":{\"size\":16,\"family\":\"Rockwell\"},\"bgcolor\":\"white\"},\"showlegend\":false,\"width\":1000,\"height\":500},                        {\"responsive\": true}                    ).then(function(){\n",
       "                            \n",
       "var gd = document.getElementById('eab94680-d116-4f1b-be34-0e2483932b37');\n",
       "var x = new MutationObserver(function (mutations, observer) {{\n",
       "        var display = window.getComputedStyle(gd).display;\n",
       "        if (!display || display === 'none') {{\n",
       "            console.log([gd, 'removed!']);\n",
       "            Plotly.purge(gd);\n",
       "            observer.disconnect();\n",
       "        }}\n",
       "}});\n",
       "\n",
       "// Listen for the removal of the full notebook cells\n",
       "var notebookContainer = gd.closest('#notebook-container');\n",
       "if (notebookContainer) {{\n",
       "    x.observe(notebookContainer, {childList: true});\n",
       "}}\n",
       "\n",
       "// Listen for the clearing of the current output cell\n",
       "var outputEl = gd.closest('.output');\n",
       "if (outputEl) {{\n",
       "    x.observe(outputEl, {childList: true});\n",
       "}}\n",
       "\n",
       "                        })                };                });            </script>        </div>"
      ]
     },
     "metadata": {},
     "output_type": "display_data"
    }
   ],
   "source": [
    "model.visualize_barchart()"
   ]
  },
  {
   "cell_type": "code",
   "execution_count": 8,
   "id": "b28df5a1",
   "metadata": {},
   "outputs": [
    {
     "data": {
      "application/vnd.plotly.v1+json": {
       "config": {
        "plotlyServerURL": "https://plot.ly"
       },
       "data": [
        {
         "coloraxis": "coloraxis",
         "hovertemplate": "x: %{x}<br>y: %{y}<br>Similarity Score: %{z}<extra></extra>",
         "name": "0",
         "type": "heatmap",
         "x": [
          "0_elonmusk_speech_and",
          "1_speech_free_elon",
          "2_takeover_hostile_poised",
          "3_billion_buy_offers",
          "4_elonmusk_twitter_board",
          "5_musk_elon_for",
          "6_stake_92_passive",
          "7_teslaownerssv_tesla_vaibh...",
          "8_poison_pill_known",
          "9_trump_donald_differently",
          "10_twtr_per_as",
          "11_billym2k_pmarca_ggreenwald",
          "12_musks_deal_bid",
          "13_billym2k_yes_waitbutwhy",
          "14_buy_what_we",
          "15_hunter_laptop_story",
          "16_distraction_analysts_hos...",
          "17_shareholders_board_owns",
          "18_dorsey_jack_former",
          "19_elonmusk_420_stake",
          "20_leadership_drama_lessons",
          "21_ceo_temporary_expected",
          "22_shareholder_largest_twit...",
          "23_liberals_cnns_buying",
          "24_tender_offer_financing",
          "25_bond_leftleaning_sealed",
          "26_owns_own_owned",
          "27_directors_board_appoint",
          "28_financing_equity_bound",
          "29_gates_bill_farmland",
          "30_sued_shareholder_disclos...",
          "31_saudi_prince_rejects",
          "32_billiondollar_position_put",
          "33_homeless_shelter_into",
          "34_net_worth_billion",
          "35_httpstcotealjwlsdp_https...",
          "36_tesla_2014_meaningless",
          "37_texas_state_acres",
          "38_tesla_shares_filings",
          "39_aoc_hitting_stop",
          "40_verified_crypto_scam",
          "41_china_influence_give",
          "42_fee_include_billion",
          "43_join_board_joining",
          "44_power_solar_waitbutwhy",
          "45_edit_button_an",
          "46_executive_slash_meta",
          "47_larry_ellison_oracle",
          "48_bee_babylon_satire",
          "49_allowed_as_private",
          "50_back_step_away",
          "51_billionaires_heels_pols",
          "52_225_amounting_289",
          "53_thoma_bravo_partner",
          "54_dogecoin_doge_memebased",
          "55_rogan_joe_superhero",
          "56_you_follow_myspace",
          "57_users_casual_slight"
         ],
         "xaxis": "x",
         "y": [
          "0_elonmusk_speech_and",
          "1_speech_free_elon",
          "2_takeover_hostile_poised",
          "3_billion_buy_offers",
          "4_elonmusk_twitter_board",
          "5_musk_elon_for",
          "6_stake_92_passive",
          "7_teslaownerssv_tesla_vaibh...",
          "8_poison_pill_known",
          "9_trump_donald_differently",
          "10_twtr_per_as",
          "11_billym2k_pmarca_ggreenwald",
          "12_musks_deal_bid",
          "13_billym2k_yes_waitbutwhy",
          "14_buy_what_we",
          "15_hunter_laptop_story",
          "16_distraction_analysts_hos...",
          "17_shareholders_board_owns",
          "18_dorsey_jack_former",
          "19_elonmusk_420_stake",
          "20_leadership_drama_lessons",
          "21_ceo_temporary_expected",
          "22_shareholder_largest_twit...",
          "23_liberals_cnns_buying",
          "24_tender_offer_financing",
          "25_bond_leftleaning_sealed",
          "26_owns_own_owned",
          "27_directors_board_appoint",
          "28_financing_equity_bound",
          "29_gates_bill_farmland",
          "30_sued_shareholder_disclos...",
          "31_saudi_prince_rejects",
          "32_billiondollar_position_put",
          "33_homeless_shelter_into",
          "34_net_worth_billion",
          "35_httpstcotealjwlsdp_https...",
          "36_tesla_2014_meaningless",
          "37_texas_state_acres",
          "38_tesla_shares_filings",
          "39_aoc_hitting_stop",
          "40_verified_crypto_scam",
          "41_china_influence_give",
          "42_fee_include_billion",
          "43_join_board_joining",
          "44_power_solar_waitbutwhy",
          "45_edit_button_an",
          "46_executive_slash_meta",
          "47_larry_ellison_oracle",
          "48_bee_babylon_satire",
          "49_allowed_as_private",
          "50_back_step_away",
          "51_billionaires_heels_pols",
          "52_225_amounting_289",
          "53_thoma_bravo_partner",
          "54_dogecoin_doge_memebased",
          "55_rogan_joe_superhero",
          "56_you_follow_myspace",
          "57_users_casual_slight"
         ],
         "yaxis": "y",
         "z": [
          [
           1,
           0.944728355232752,
           0.8673193916256128,
           0.7929467200840887,
           0.7286345492490034,
           0.8271345475730698,
           0.8915815994661973,
           0.6919540436244358,
           0.6532010539894907,
           0.6416285808166,
           0.750131701167601,
           0.7339606026576131,
           0.597378899976493,
           0.7499938744941874,
           0.6790563602885842,
           0.8220581818972711,
           0.7452980955497237,
           0.7692953367794372,
           0.6858074564339702,
           0.6991199213697942,
           0.763661307287923,
           0.6929432815982239,
           0.7187366037344634,
           0.7440452503830157,
           0.7278947688226435,
           0.6021390630593639,
           0.7199433174974257,
           0.6894234301297727,
           0.6373000764349266,
           0.622490782889801,
           0.7279885499578178,
           0.6851788106318782,
           0.6329626451036243,
           0.7591915479642302,
           0.6364180583665466,
           0.6358960590087537,
           0.3084005443251818,
           0.7342063611268602,
           0.5526205016671155,
           0.6203555301268485,
           0.7783145003623961,
           0.6295868026613867,
           0.7260208976830176,
           0.731040570590576,
           0.6816057994578978,
           0.6849674526511356,
           0.7399704920047585,
           0.7146214320651638,
           0.6707602968206019,
           0.6678968211095406,
           0.7188311753154697,
           0.7772008011398674,
           0.7085456747010523,
           0.660484426651218,
           0.7216428633959605,
           0.6211032186089503,
           0.7150020545429487,
           0.7857081902474556
          ],
          [
           0.944728355232752,
           0.9999999999999996,
           0.91871184748366,
           0.7594943895217927,
           0.7264415346898883,
           0.8165977614361231,
           0.8395661706759812,
           0.7151963626333071,
           0.6581504948560075,
           0.6644018307285235,
           0.7381998444240859,
           0.713069639930197,
           0.6269376021990878,
           0.7420231021791962,
           0.7225708075473503,
           0.8167052003111988,
           0.7548407525751752,
           0.7764295745129906,
           0.6862545117519132,
           0.6821519185488796,
           0.7756332919183111,
           0.7071808979603084,
           0.7096371598983122,
           0.7037562035760625,
           0.7251822182029253,
           0.6195015773808261,
           0.7342696059629766,
           0.679322378802939,
           0.6618026384387998,
           0.6335290751561795,
           0.745620191774016,
           0.6847263724402973,
           0.6404686437414462,
           0.7813062472020221,
           0.6308628163027568,
           0.655503431992616,
           0.3196315297021321,
           0.7451951861508468,
           0.5698306635245851,
           0.6260361655760857,
           0.7957312326800599,
           0.6550588508080761,
           0.7225884166266795,
           0.755901464979051,
           0.6872615979938272,
           0.6988134084786062,
           0.7608816579965774,
           0.7118431599688924,
           0.6771032790798794,
           0.6650746860718411,
           0.7532089939653299,
           0.7837699418487748,
           0.7259643573295339,
           0.6752283972059241,
           0.7397554508756643,
           0.6207242564057269,
           0.7180083727839497,
           0.7894434707340297
          ],
          [
           0.8673193916256128,
           0.91871184748366,
           0.9999999999999999,
           0.7403697915027716,
           0.7205933147702249,
           0.7204325727804058,
           0.8107496987777153,
           0.6898527615719878,
           0.607912959253615,
           0.6472644180601055,
           0.6966263333320647,
           0.7051736541616809,
           0.5638309927518808,
           0.7343809274244568,
           0.6546559289519629,
           0.7779092223338169,
           0.7284018630292253,
           0.7453896833210948,
           0.6392736792404585,
           0.6459260848769579,
           0.7180598209878482,
           0.6838134743413886,
           0.6917342582230515,
           0.6763471859522941,
           0.6925496095945392,
           0.607382154251539,
           0.7195461323683467,
           0.6347028037598053,
           0.6354388614030444,
           0.6340691010225565,
           0.7257021181514431,
           0.6644344242933453,
           0.6123237889902682,
           0.7388989601399871,
           0.6122959610658343,
           0.6638134159634863,
           0.2956715756314079,
           0.7210174732300265,
           0.5738999932668434,
           0.6240551397404754,
           0.7456264130343657,
           0.6311914574231485,
           0.6940377890602193,
           0.763868234423821,
           0.6486946746883278,
           0.6814988408118539,
           0.7258465033403434,
           0.6821103024031239,
           0.647525848460436,
           0.6627051049708903,
           0.7399881827866481,
           0.7371254817930687,
           0.6994289767378101,
           0.6386896716602468,
           0.7309863296502883,
           0.582161752034838,
           0.692486275973084,
           0.7145703070534493
          ],
          [
           0.7929467200840887,
           0.7594943895217927,
           0.7403697915027716,
           1,
           0.7070994666403391,
           0.7324028425314011,
           0.7746405656622481,
           0.7416323217290994,
           0.6400433043438134,
           0.698679949655553,
           0.6990541301344804,
           0.6558931038405126,
           0.6304590498991156,
           0.7644402860604638,
           0.6484752882116767,
           0.7595041752694691,
           0.7445647984139708,
           0.8407788031619081,
           0.7341065571577008,
           0.7189063387594798,
           0.7544375905306291,
           0.704355470512414,
           0.7328774769652068,
           0.7997771864074474,
           0.7217684229409301,
           0.7082155831615622,
           0.677903738841608,
           0.6857498210849361,
           0.6959354342146278,
           0.6890286050912404,
           0.7034107970005131,
           0.7337329200589482,
           0.6326625683324865,
           0.7241553104021174,
           0.6535867660172381,
           0.6161233987707113,
           0.3205133044325168,
           0.7653502483214729,
           0.5710018873971074,
           0.6893335431496534,
           0.7553904538052201,
           0.6196549969041516,
           0.7066538399340548,
           0.7049515045994295,
           0.7377620105967351,
           0.667561083202004,
           0.677777456557235,
           0.7667773209894193,
           0.6728606150665782,
           0.7056308506699663,
           0.7424720636526044,
           0.7489158738218861,
           0.7358906395412201,
           0.6894129620810014,
           0.715429571487874,
           0.6662526965424977,
           0.7356994775165325,
           0.7227959688527017
          ],
          [
           0.7286345492490034,
           0.7264415346898883,
           0.7205933147702249,
           0.7070994666403391,
           0.9999999999999991,
           0.6595824529706504,
           0.7247669265139387,
           0.754889288959063,
           0.578903014644929,
           0.6381057147598634,
           0.6778469014226554,
           0.6602059951365113,
           0.5789267111203229,
           0.7716892170783181,
           0.661397094416152,
           0.7889884458843526,
           0.6920419095100833,
           0.7287982699943094,
           0.7283377752472545,
           0.6177015282931446,
           0.837450516096685,
           0.5706921514167222,
           0.66736459330872,
           0.7205702386452921,
           0.687439449010899,
           0.794580598532735,
           0.7301968656226705,
           0.7056672763245773,
           0.5640749555125703,
           0.7667416800603648,
           0.7603595906237092,
           0.6992439604207075,
           0.5749601699373053,
           0.7564567366395086,
           0.6176555593297379,
           0.8325905808053784,
           0.3739367537505146,
           0.6923053315727608,
           0.5485880867135349,
           0.8024468468306325,
           0.739403451136036,
           0.6810076391147828,
           0.7380379216134401,
           0.7954423956358021,
           0.7146581002614227,
           0.7066164582482397,
           0.7140564509272542,
           0.6957381779467628,
           0.6743269312612191,
           0.6170167064273151,
           0.7415233916059277,
           0.7037159822834846,
           0.7070005954248322,
           0.7917797540008485,
           0.7258925877717011,
           0.6247030353588471,
           0.6822473517671886,
           0.7392186159091476
          ],
          [
           0.8271345475730698,
           0.8165977614361231,
           0.7204325727804058,
           0.7324028425314011,
           0.6595824529706504,
           1.0000000000000002,
           0.8298661098443869,
           0.6399904565026544,
           0.6448974455454688,
           0.58971648241517,
           0.7031454561617546,
           0.6590001148421408,
           0.660729555016712,
           0.7086256483494326,
           0.7233187103461329,
           0.8087521569051328,
           0.7009336133522152,
           0.7070081777608928,
           0.6504613692408823,
           0.6638616421002047,
           0.7894662451459247,
           0.6250453469575699,
           0.71221551840215,
           0.6909905971229957,
           0.6610566010118246,
           0.5697015061138404,
           0.677560830449823,
           0.6247323394702481,
           0.6038097071241046,
           0.5619044373624158,
           0.7092101592254678,
           0.6151385718545563,
           0.6325592546769594,
           0.7411324783738531,
           0.5909544917199103,
           0.5563394890682656,
           0.3612428242708215,
           0.6992821441420966,
           0.5535269248599087,
           0.5795694449964035,
           0.7572517439536963,
           0.6160765209774707,
           0.6923913838601623,
           0.6487678790412595,
           0.7051875551157212,
           0.649841245304061,
           0.7186670768049714,
           0.6608499846451006,
           0.6407605500250191,
           0.6494021381879089,
           0.6520348111534425,
           0.7309425761691513,
           0.6739792756973897,
           0.6301516856231546,
           0.6822742659318577,
           0.6174449202099346,
           0.703815479673762,
           0.8544299612324571
          ],
          [
           0.8915815994661973,
           0.8395661706759812,
           0.8107496987777153,
           0.7746405656622481,
           0.7247669265139387,
           0.8298661098443869,
           1.0000000000000004,
           0.6607737814089186,
           0.631530731461305,
           0.6293530472914399,
           0.7800383938956446,
           0.734316317918007,
           0.6096380643856816,
           0.7690096706118448,
           0.6897981131541141,
           0.8540022032713276,
           0.7705013748228251,
           0.7821183034118199,
           0.6818903232605832,
           0.7109925072875363,
           0.7497198694489766,
           0.6683798392234042,
           0.7556107035549098,
           0.7478343210586523,
           0.7109986722021412,
           0.6066591421450904,
           0.7277988630158412,
           0.7115837931263072,
           0.612558379985036,
           0.6253070497684279,
           0.7460532369411612,
           0.7018838539846215,
           0.6441320452954005,
           0.7717680829884574,
           0.6036230952009359,
           0.6238516711314397,
           0.3231713971358996,
           0.7411217617698742,
           0.5375631474237225,
           0.6246146787973064,
           0.7898202307157973,
           0.6695129427725119,
           0.7402887182906481,
           0.7259352241635888,
           0.6950650707752977,
           0.684942093247058,
           0.756961336121446,
           0.7276898586080407,
           0.6567628537257462,
           0.7000939081686126,
           0.7113504350560519,
           0.7583781081549141,
           0.6930787295705922,
           0.659245372472985,
           0.7423124446240288,
           0.6245675258974095,
           0.7183541017330795,
           0.8179313730914768
          ],
          [
           0.6919540436244358,
           0.7151963626333071,
           0.6898527615719878,
           0.7416323217290994,
           0.754889288959063,
           0.6399904565026544,
           0.6607737814089186,
           0.9999999999999999,
           0.5671870371843997,
           0.6089070246264534,
           0.6566681461759849,
           0.6495720828316363,
           0.5671944610957069,
           0.7265432020289334,
           0.5962606476097174,
           0.7282896777272678,
           0.6795964916877395,
           0.7191846681058882,
           0.7615025946229109,
           0.6468226906702254,
           0.8128135545896786,
           0.6443211873064444,
           0.7356345455434217,
           0.7322321700796777,
           0.6603031081192681,
           0.7935603051882665,
           0.7169682438635663,
           0.6688103319207712,
           0.715984097272936,
           0.728282571587604,
           0.7111151400422802,
           0.7340076184403673,
           0.543273282674958,
           0.7388178761906705,
           0.6430051292515295,
           0.6855474398091963,
           0.3386619536493459,
           0.7262003293453361,
           0.6051254734459434,
           0.7726918465890158,
           0.7290932479635014,
           0.6690044177269172,
           0.6745235480628945,
           0.7208454417675889,
           0.736156778089196,
           0.6836774622031576,
           0.6992912000427746,
           0.7203495579008683,
           0.6607515994278834,
           0.6317048451513054,
           0.7816573013161869,
           0.6951975548750244,
           0.7413195101920311,
           0.7836637272152507,
           0.7400575944265708,
           0.6303474052573715,
           0.6963363064473865,
           0.6966425315843918
          ],
          [
           0.6532010539894907,
           0.6581504948560075,
           0.607912959253615,
           0.6400433043438134,
           0.578903014644929,
           0.6448974455454688,
           0.631530731461305,
           0.5671870371843997,
           0.9999999999999996,
           0.48577136503092244,
           0.6161694405929883,
           0.5768429349938735,
           0.5910917011167047,
           0.5974316000073433,
           0.6046393433206539,
           0.6145071638110926,
           0.623167310608201,
           0.6020153252356175,
           0.5737300622146903,
           0.632265668346622,
           0.6296420840113025,
           0.5488865850104692,
           0.6132855281746501,
           0.6115923070726931,
           0.5529081532040105,
           0.5516660765080742,
           0.5780369810500237,
           0.5882362264028682,
           0.5225355168915949,
           0.5117066946047475,
           0.650486649795391,
           0.5858621675849862,
           0.5148503953495197,
           0.6310831571103817,
           0.5225676592745357,
           0.47747796161515665,
           0.3961545567156549,
           0.7424472969476146,
           0.4924579933624569,
           0.6863301313991994,
           0.5952074734857697,
           0.5359797383821363,
           0.579059225273389,
           0.5713842954134454,
           0.5473160902709,
           0.6107567498551233,
           0.5690107490477492,
           0.6179935784115633,
           0.5575077102597383,
           0.6116995432738053,
           0.6070834196425656,
           0.6103482797840247,
           0.6255954440388056,
           0.5618825688987387,
           0.6220893376448864,
           0.5965396970195875,
           0.6264103200069062,
           0.6332719990284731
          ],
          [
           0.6416285808166,
           0.6644018307285235,
           0.6472644180601055,
           0.698679949655553,
           0.6381057147598634,
           0.58971648241517,
           0.6293530472914399,
           0.6089070246264534,
           0.48577136503092244,
           0.9999999999999999,
           0.621615409384979,
           0.5415898926444638,
           0.5909883726882574,
           0.6262034518910101,
           0.605873872552253,
           0.6727467049996604,
           0.6845759440101185,
           0.694283402627978,
           0.6112200298998627,
           0.6141689451953558,
           0.6585218244000747,
           0.6364158544958867,
           0.6262509231967599,
           0.6353945209924626,
           0.7101568133702909,
           0.5950587980905382,
           0.6697800128753505,
           0.5681941650710196,
           0.5724068016993833,
           0.5704667611218701,
           0.6228623967517906,
           0.6353444203741503,
           0.5872428831401459,
           0.6768044389330556,
           0.5766209420871661,
           0.5840328111081813,
           0.2541162920238724,
           0.644778804660735,
           0.49741425353333185,
           0.5704778695204027,
           0.7045538066046098,
           0.5801368967755305,
           0.638294413380821,
           0.6511967347749599,
           0.6100268656564423,
           0.652444813891639,
           0.6525070347411752,
           0.6304866224770049,
           0.5791619884805972,
           0.6670806997082108,
           0.6590307241530855,
           0.7186151730916508,
           0.6571659136594155,
           0.6004844968353813,
           0.64661002965584,
           0.5993330201415801,
           0.6652765937398386,
           0.61870490621176
          ],
          [
           0.750131701167601,
           0.7381998444240859,
           0.6966263333320647,
           0.6990541301344804,
           0.6778469014226554,
           0.7031454561617546,
           0.7800383938956446,
           0.6566681461759849,
           0.6161694405929883,
           0.621615409384979,
           1.0000000000000002,
           0.6819107381529232,
           0.6024285969977798,
           0.7031360791211642,
           0.685514719127497,
           0.765661535792677,
           0.7871192497562906,
           0.7178373001157908,
           0.6674544100526474,
           0.7279127235951427,
           0.7276385611382225,
           0.6606775993632914,
           0.7323837672043672,
           0.6753934340360339,
           0.7487402370814629,
           0.6131626646189057,
           0.7412645674183254,
           0.6818850149378982,
           0.6280177377897821,
           0.5945163965850528,
           0.7291721524365297,
           0.6621986378441941,
           0.620201206418727,
           0.7410628801183106,
           0.6274109503949868,
           0.6208944946952328,
           0.3306404917578009,
           0.7489021452059862,
           0.5835787527523283,
           0.6039179784815358,
           0.738949864287975,
           0.6371028369334917,
           0.7311274820269769,
           0.7032944446398819,
           0.6804518285313794,
           0.6866229822422844,
           0.7244264108109961,
           0.7319105424741557,
           0.6595875393707334,
           0.6765722950712951,
           0.7112440886160964,
           0.7611739360534793,
           0.7000123109647902,
           0.6802329186107059,
           0.7254637272818827,
           0.6143293060226596,
           0.7330596355054244,
           0.7335088226411728
          ],
          [
           0.7339606026576131,
           0.713069639930197,
           0.7051736541616809,
           0.6558931038405126,
           0.6602059951365113,
           0.6590001148421408,
           0.734316317918007,
           0.6495720828316363,
           0.5768429349938735,
           0.5415898926444638,
           0.6819107381529232,
           0.9999999999999993,
           0.6007738861729188,
           0.6453549445344839,
           0.6415688561995134,
           0.7165793708376453,
           0.6684903896310453,
           0.653595162018701,
           0.6280496308726677,
           0.6057235632327433,
           0.6476248514867617,
           0.5721365991935585,
           0.6987443850881491,
           0.6573617367026248,
           0.582643257379164,
           0.5963571444894977,
           0.6679885844460086,
           0.610317999224008,
           0.5851477095917006,
           0.5754010018207532,
           0.640022521707702,
           0.6328312306893351,
           0.5058378688654053,
           0.6957228497801932,
           0.493578568326419,
           0.5962598551920139,
           0.3620933682974041,
           0.6296869312274228,
           0.44179498925042926,
           0.5796271669999946,
           0.6861428650726411,
           0.5953876157892036,
           0.6148874890407928,
           0.6827427432603987,
           0.6618170106122139,
           0.6173944755283519,
           0.6745964521146487,
           0.6521909905159122,
           0.5544739982468022,
           0.6048320189511711,
           0.6438470197074466,
           0.6258157832174219,
           0.6156991964829615,
           0.6477315658556786,
           0.639718863338955,
           0.5943964982097336,
           0.6213934256026152,
           0.6690687273560229
          ],
          [
           0.597378899976493,
           0.6269376021990878,
           0.5638309927518808,
           0.6304590498991156,
           0.5789267111203229,
           0.660729555016712,
           0.6096380643856816,
           0.5671944610957069,
           0.5910917011167047,
           0.5909883726882574,
           0.6024285969977798,
           0.6007738861729188,
           1.0000000000000007,
           0.6350349455054406,
           0.7710112439089637,
           0.6057745739893552,
           0.6234475550007988,
           0.5830520198412338,
           0.565104693826002,
           0.6299476932906244,
           0.6805005650699141,
           0.54030780571213,
           0.6487043138202336,
           0.5999779545673583,
           0.5587739427859671,
           0.5538129114391384,
           0.6241547881319014,
           0.5496190526394782,
           0.5822354184930532,
           0.5556721203451991,
           0.6689525532469115,
           0.5622503407543399,
           0.6007635097990858,
           0.6713979043748317,
           0.5225427603383406,
           0.5177684081276762,
           0.39930816191365015,
           0.6187594012599675,
           0.48634463596690714,
           0.49777357483876356,
           0.6221303479030358,
           0.5818427054079596,
           0.6173022962424282,
           0.6368017014264802,
           0.600348884931392,
           0.5654170816898749,
           0.5893463729573016,
           0.6020891068724122,
           0.6339885496217734,
           0.6119105448522622,
           0.6499202631913956,
           0.6089985679433685,
           0.6504248917012558,
           0.5769401447146829,
           0.6415442059680516,
           0.6039978853616024,
           0.6857919883550918,
           0.6421847096387506
          ],
          [
           0.7499938744941874,
           0.7420231021791962,
           0.7343809274244568,
           0.7644402860604638,
           0.7716892170783181,
           0.7086256483494326,
           0.7690096706118448,
           0.7265432020289334,
           0.5974316000073433,
           0.6262034518910101,
           0.7031360791211642,
           0.6453549445344839,
           0.6350349455054406,
           1,
           0.6972627720589253,
           0.7864721834196567,
           0.70483567596807,
           0.7846896893490609,
           0.697666190397894,
           0.6681467088130321,
           0.7952243005678152,
           0.6120280081823402,
           0.7068769950379818,
           0.7052580926864687,
           0.7021090028249741,
           0.7108237705395775,
           0.7398569513842248,
           0.662569470154782,
           0.6087938954925634,
           0.6710944062048863,
           0.7345193457705632,
           0.6988337561239786,
           0.6038775637503632,
           0.7176304465829577,
           0.5933429433687315,
           0.6582444550411972,
           0.34790531322694773,
           0.6966034015148568,
           0.542553042677886,
           0.6935419310716069,
           0.7450234497664496,
           0.6942037773297267,
           0.7031750751865675,
           0.7296384001662054,
           0.7093308835398153,
           0.671218835479429,
           0.6907873982092065,
           0.7058102579670114,
           0.6162586196920806,
           0.6707870760931975,
           0.7509390810664289,
           0.6995432493012352,
           0.7403974350838511,
           0.7159652618286743,
           0.7375801625141973,
           0.6487442357184418,
           0.6908628009420323,
           0.7433161229527923
          ],
          [
           0.6790563602885842,
           0.7225708075473503,
           0.6546559289519629,
           0.6484752882116767,
           0.661397094416152,
           0.7233187103461329,
           0.6897981131541141,
           0.5962606476097174,
           0.6046393433206539,
           0.605873872552253,
           0.685514719127497,
           0.6415688561995134,
           0.7710112439089637,
           0.6972627720589253,
           0.9999999999999997,
           0.700543565434528,
           0.6747729707596092,
           0.6839944779512223,
           0.6057919313468014,
           0.6366918878579741,
           0.7262904169086464,
           0.571331038987598,
           0.6546496350874932,
           0.6327464021329904,
           0.629850249733044,
           0.6078472555082396,
           0.7140836875696149,
           0.5874717293166907,
           0.5344137245915159,
           0.5813654673599793,
           0.703425764642913,
           0.5772336196706892,
           0.6130378709371224,
           0.7213360396531439,
           0.5161883908779855,
           0.5782194921507215,
           0.41947411903562876,
           0.6346836362078128,
           0.498969658571466,
           0.5520536374535614,
           0.7057216423805934,
           0.6461104932592281,
           0.6504113346670473,
           0.6676810708143606,
           0.6326180930675047,
           0.6169349270121411,
           0.6477109032556397,
           0.6252353630882157,
           0.6104983119680925,
           0.623098907136619,
           0.6825814355690627,
           0.6283477315988811,
           0.6736345574316756,
           0.6326364781353324,
           0.6787437059919879,
           0.6130568123224939,
           0.6596181586064421,
           0.7371080242779755
          ],
          [
           0.8220581818972711,
           0.8167052003111988,
           0.7779092223338169,
           0.7595041752694691,
           0.7889884458843526,
           0.8087521569051328,
           0.8540022032713276,
           0.7282896777272678,
           0.6145071638110926,
           0.6727467049996604,
           0.765661535792677,
           0.7165793708376453,
           0.6057745739893552,
           0.7864721834196567,
           0.700543565434528,
           1.0000000000000002,
           0.7526741606388861,
           0.8062090073540754,
           0.7354582916701564,
           0.6825102863323285,
           0.7912718825363494,
           0.6543795651468111,
           0.7445321712482809,
           0.7320363703176842,
           0.7481518766809712,
           0.6899209797056838,
           0.7828950175821945,
           0.7150272700746384,
           0.6189125091490739,
           0.6908626626116678,
           0.7597891472323743,
           0.7077175026770991,
           0.6328211575896763,
           0.7938409057307743,
           0.6094691439569946,
           0.6894255006168206,
           0.3150957563658555,
           0.7294085670591736,
           0.5533509354762652,
           0.6815079113871417,
           0.8161820462984476,
           0.6919311085441967,
           0.7321735420563515,
           0.7603187959875048,
           0.7220111230920538,
           0.7179156390957533,
           0.7551265018235946,
           0.6925863263162295,
           0.6606560056137905,
           0.6724416487627979,
           0.7327156688843086,
           0.7742005718995393,
           0.706149078600742,
           0.6969634042958581,
           0.7547994115960561,
           0.6493132414002909,
           0.7238209808004012,
           0.8282262981396238
          ],
          [
           0.7452980955497237,
           0.7548407525751752,
           0.7284018630292253,
           0.7445647984139708,
           0.6920419095100833,
           0.7009336133522152,
           0.7705013748228251,
           0.6795964916877395,
           0.623167310608201,
           0.6845759440101185,
           0.7871192497562906,
           0.6684903896310453,
           0.6234475550007988,
           0.70483567596807,
           0.6747729707596092,
           0.7526741606388861,
           0.9999999999999999,
           0.7337325201777505,
           0.684510749797812,
           0.7227634635948595,
           0.7201949954872379,
           0.7228795762352702,
           0.7216695827603926,
           0.7240979074978198,
           0.7654143144621212,
           0.6261753122061131,
           0.735009724355421,
           0.6847918015976028,
           0.6695098954492957,
           0.6359902401949104,
           0.7095230068337823,
           0.7341699847728564,
           0.6805492666561697,
           0.737287351995084,
           0.6246147336822947,
           0.5974691908958583,
           0.3344110547744954,
           0.7738760831275684,
           0.5691536211930945,
           0.6152805447400274,
           0.770075553511882,
           0.703397099704204,
           0.753381638534641,
           0.7108594733821476,
           0.7205400314051865,
           0.7157985371494774,
           0.749320041115453,
           0.7480561558821559,
           0.6666942182372887,
           0.7210618877746178,
           0.7132048215536841,
           0.7307040112665077,
           0.7251334618912495,
           0.6583966299005701,
           0.7508834592095007,
           0.6629591769556832,
           0.7562901038634251,
           0.7307458688212299
          ],
          [
           0.7692953367794372,
           0.7764295745129906,
           0.7453896833210948,
           0.8407788031619081,
           0.7287982699943094,
           0.7070081777608928,
           0.7821183034118199,
           0.7191846681058882,
           0.6020153252356175,
           0.694283402627978,
           0.7178373001157908,
           0.653595162018701,
           0.5830520198412338,
           0.7846896893490609,
           0.6839944779512223,
           0.8062090073540754,
           0.7337325201777505,
           0.9999999999999998,
           0.7595018906007952,
           0.6941327709768019,
           0.7265619227422728,
           0.7166972658065274,
           0.7287407139765987,
           0.7409845804445191,
           0.7377543142904129,
           0.6782777227046607,
           0.7139073857278256,
           0.6714395126267072,
           0.6773703474150559,
           0.6926804505942197,
           0.7085881446414897,
           0.7328968572052048,
           0.6112090921104082,
           0.7437927196796064,
           0.6232352291552052,
           0.6532925631656972,
           0.27006173892428353,
           0.7606406565788706,
           0.5493770479043703,
           0.6957552775710983,
           0.7935788582790511,
           0.6442489756501486,
           0.726681669463954,
           0.7265241106984066,
           0.718921668219515,
           0.6659236246248141,
           0.7376440561845007,
           0.7557359546569914,
           0.6455481725119334,
           0.6804342399129173,
           0.7495039824629859,
           0.7215879162878944,
           0.7312201249274439,
           0.6948940567023942,
           0.7610122883192736,
           0.6396335770311635,
           0.6847239958979752,
           0.7347572608034068
          ],
          [
           0.6858074564339702,
           0.6862545117519132,
           0.6392736792404585,
           0.7341065571577008,
           0.7283377752472545,
           0.6504613692408823,
           0.6818903232605832,
           0.7615025946229109,
           0.5737300622146903,
           0.6112200298998627,
           0.6674544100526474,
           0.6280496308726677,
           0.565104693826002,
           0.697666190397894,
           0.6057919313468014,
           0.7354582916701564,
           0.684510749797812,
           0.7595018906007952,
           1,
           0.66189348678387,
           0.7119543149665644,
           0.6251757085487568,
           0.6957988512340532,
           0.7889906056066385,
           0.7136169326980553,
           0.7145282769477237,
           0.7152532278438335,
           0.8121126751443157,
           0.7485497625603563,
           0.7390320550042193,
           0.6670646492651389,
           0.7593318449759481,
           0.5858260535503225,
           0.6759608749483463,
           0.6054690496091406,
           0.6552158274187154,
           0.27800286615563563,
           0.7202173529078689,
           0.5573518802145336,
           0.7569818362783278,
           0.6999506966465097,
           0.6480678961165613,
           0.7451946291173057,
           0.6881657873242304,
           0.7743250195142368,
           0.6221534442284897,
           0.6776875955334117,
           0.730881408980457,
           0.6493466602627969,
           0.6341520350617442,
           0.7812917696090662,
           0.6460614836044662,
           0.7535480663789318,
           0.6827713614202584,
           0.7234458560684249,
           0.6348311689349855,
           0.6227851381914387,
           0.6867548014632834
          ],
          [
           0.6991199213697942,
           0.6821519185488796,
           0.6459260848769579,
           0.7189063387594798,
           0.6177015282931446,
           0.6638616421002047,
           0.7109925072875363,
           0.6468226906702254,
           0.632265668346622,
           0.6141689451953558,
           0.7279127235951427,
           0.6057235632327433,
           0.6299476932906244,
           0.6681467088130321,
           0.6366918878579741,
           0.6825102863323285,
           0.7227634635948595,
           0.6941327709768019,
           0.66189348678387,
           0.9999999999999999,
           0.6623752702782317,
           0.6757251115749638,
           0.7207303053726203,
           0.7111103382891054,
           0.6803745773365637,
           0.6061144853893232,
           0.6581401043918038,
           0.6593989314913509,
           0.6903636775113056,
           0.5922108606286988,
           0.6947777507148238,
           0.6510729776716471,
           0.616144797939881,
           0.6793968382308202,
           0.6216394635195656,
           0.5583003385124093,
           0.26481398177482757,
           0.759432700951777,
           0.5386532815584231,
           0.5978372635110049,
           0.691211425523744,
           0.6070774610407473,
           0.6571854958399377,
           0.6770849213028997,
           0.6971497873328332,
           0.6092813962569688,
           0.6500034792639726,
           0.7631740718810857,
           0.6574001970159001,
           0.6748185783601297,
           0.6895432736748797,
           0.6899105321262532,
           0.7041719116422483,
           0.6864492440059236,
           0.7127707694607704,
           0.6420790403166174,
           0.7271308851417255,
           0.6391977588539315
          ],
          [
           0.763661307287923,
           0.7756332919183111,
           0.7180598209878482,
           0.7544375905306291,
           0.837450516096685,
           0.7894662451459247,
           0.7497198694489766,
           0.8128135545896786,
           0.6296420840113025,
           0.6585218244000747,
           0.7276385611382225,
           0.6476248514867617,
           0.6805005650699141,
           0.7952243005678152,
           0.7262904169086464,
           0.7912718825363494,
           0.7201949954872379,
           0.7265619227422728,
           0.7119543149665644,
           0.6623752702782317,
           1.0000000000000004,
           0.6192384167019199,
           0.7010126314593799,
           0.7049093495691904,
           0.70566318183784,
           0.7284255846316561,
           0.7258563953392102,
           0.67989204326252,
           0.6296297822648312,
           0.6755553377849685,
           0.7717699061190086,
           0.6722659045708808,
           0.6242266361595417,
           0.7737385038380467,
           0.6312444586529766,
           0.706916600226294,
           0.41749563149871444,
           0.7493710054488034,
           0.6225482313000732,
           0.7408430129237888,
           0.7384967036637087,
           0.6683076272518829,
           0.7462528050084992,
           0.7475429401837356,
           0.7160296392314096,
           0.7351493302761622,
           0.7332851025716364,
           0.6974257748319579,
           0.6760804716019375,
           0.6451117990024651,
           0.7435022408976447,
           0.7602807819761721,
           0.7187192992088494,
           0.8138076130949765,
           0.7162037551517761,
           0.6468288431540572,
           0.7415106922447594,
           0.7955645399265637
          ],
          [
           0.6929432815982239,
           0.7071808979603084,
           0.6838134743413886,
           0.704355470512414,
           0.5706921514167222,
           0.6250453469575699,
           0.6683798392234042,
           0.6443211873064444,
           0.5488865850104692,
           0.6364158544958867,
           0.6606775993632914,
           0.5721365991935585,
           0.54030780571213,
           0.6120280081823402,
           0.571331038987598,
           0.6543795651468111,
           0.7228795762352702,
           0.7166972658065274,
           0.6251757085487568,
           0.6757251115749638,
           0.6192384167019199,
           1.0000000000000007,
           0.6333204234164086,
           0.6558660071282056,
           0.6909849478346052,
           0.5407053248792432,
           0.5983303932026403,
           0.5673873307291235,
           0.7034604893722742,
           0.5777704173762465,
           0.5791397299121102,
           0.6291471454432693,
           0.5807061559954729,
           0.6811408110938779,
           0.6028758404996879,
           0.5293115648175717,
           0.2571615329693912,
           0.6922967425432306,
           0.5288951869040405,
           0.5347313463845206,
           0.6730441836031474,
           0.5533478609676827,
           0.6498707182829323,
           0.630430665660159,
           0.640582563255202,
           0.6090741997145434,
           0.6119957709859167,
           0.7218645341429265,
           0.5784960957751845,
           0.6747335078587597,
           0.6520349789339474,
           0.6833068757564538,
           0.6341112858563756,
           0.5952368517661292,
           0.676727726287975,
           0.5986999370914963,
           0.6861730283122296,
           0.6403318540245118
          ],
          [
           0.7187366037344634,
           0.7096371598983122,
           0.6917342582230515,
           0.7328774769652068,
           0.66736459330872,
           0.71221551840215,
           0.7556107035549098,
           0.7356345455434217,
           0.6132855281746501,
           0.6262509231967599,
           0.7323837672043672,
           0.6987443850881491,
           0.6487043138202336,
           0.7068769950379818,
           0.6546496350874932,
           0.7445321712482809,
           0.7216695827603926,
           0.7287407139765987,
           0.6957988512340532,
           0.7207303053726203,
           0.7010126314593799,
           0.6333204234164086,
           0.9999999999999998,
           0.741793546500543,
           0.6454915124888203,
           0.6666791486082241,
           0.7257376703845713,
           0.683795560672818,
           0.7247884169646799,
           0.6692583275598485,
           0.7395002310957566,
           0.7314467035267311,
           0.5858706781670238,
           0.7696368702539206,
           0.6310952766854065,
           0.6197428371723366,
           0.3458073558273492,
           0.7372528767753637,
           0.572153655913345,
           0.6773546654290682,
           0.7198894516413341,
           0.6624587647155884,
           0.7029997656083947,
           0.7392076328458079,
           0.7441808605334219,
           0.6667273244695816,
           0.7129030883830811,
           0.7602016768548382,
           0.6867822079367967,
           0.6959868964383206,
           0.7553621577381175,
           0.6937832060363083,
           0.7086554317811427,
           0.6997077318160627,
           0.7486663006827415,
           0.6296845145319352,
           0.6910791768833286,
           0.7147941874317805
          ],
          [
           0.7440452503830157,
           0.7037562035760625,
           0.6763471859522941,
           0.7997771864074474,
           0.7205702386452921,
           0.6909905971229957,
           0.7478343210586523,
           0.7322321700796777,
           0.6115923070726931,
           0.6353945209924626,
           0.6753934340360339,
           0.6573617367026248,
           0.5999779545673583,
           0.7052580926864687,
           0.6327464021329904,
           0.7320363703176842,
           0.7240979074978198,
           0.7409845804445191,
           0.7889906056066385,
           0.7111103382891054,
           0.7049093495691904,
           0.6558660071282056,
           0.741793546500543,
           1,
           0.7045231874608666,
           0.672955237734072,
           0.6793718156262873,
           0.7396243936021847,
           0.6667003595167785,
           0.7145357460581128,
           0.6717355751353151,
           0.7527982163228255,
           0.6168574326859773,
           0.7832372442604327,
           0.6306097248148492,
           0.6252482931642089,
           0.289031044409388,
           0.7310469086924678,
           0.5697018374751353,
           0.7247010643854028,
           0.7136036850285485,
           0.6397787575285157,
           0.7286222475663033,
           0.7108342838711244,
           0.7216608141104979,
           0.7013797391612686,
           0.6665180014735004,
           0.7384233822948101,
           0.6789198667203803,
           0.6877872832326787,
           0.7221988227324957,
           0.6830708953811945,
           0.7617746107590166,
           0.7239739979425597,
           0.7411884898158245,
           0.6711063331111893,
           0.6840092348481054,
           0.7008539109014973
          ],
          [
           0.7278947688226435,
           0.7251822182029253,
           0.6925496095945392,
           0.7217684229409301,
           0.687439449010899,
           0.6610566010118246,
           0.7109986722021412,
           0.6603031081192681,
           0.5529081532040105,
           0.7101568133702909,
           0.7487402370814629,
           0.582643257379164,
           0.5587739427859671,
           0.7021090028249741,
           0.629850249733044,
           0.7481518766809712,
           0.7654143144621212,
           0.7377543142904129,
           0.7136169326980553,
           0.6803745773365637,
           0.70566318183784,
           0.6909849478346052,
           0.6454915124888203,
           0.7045231874608666,
           0.9999999999999998,
           0.6076626039042081,
           0.7470446901864856,
           0.6731673758109442,
           0.64867990573127,
           0.6661186682386071,
           0.6998994396098317,
           0.6475680309484875,
           0.6125297147469159,
           0.6819999685229513,
           0.6630447425470438,
           0.619062654197315,
           0.32306467439296543,
           0.6955850577192435,
           0.5874358566597846,
           0.6010298422496126,
           0.7426697095810955,
           0.6696217196604328,
           0.7274600459887368,
           0.6630537617052793,
           0.7243357021552832,
           0.6548026244168765,
           0.6892318302244991,
           0.6739255680871338,
           0.6646589200959357,
           0.6674064602912739,
           0.7150982624921691,
           0.7305209866529254,
           0.7437824106985778,
           0.6547397709631952,
           0.7052856424869776,
           0.6202795251996911,
           0.7244789380690573,
           0.7130132590628987
          ],
          [
           0.6021390630593639,
           0.6195015773808261,
           0.607382154251539,
           0.7082155831615622,
           0.794580598532735,
           0.5697015061138404,
           0.6066591421450904,
           0.7935603051882665,
           0.5516660765080742,
           0.5950587980905382,
           0.6131626646189057,
           0.5963571444894977,
           0.5538129114391384,
           0.7108237705395775,
           0.6078472555082396,
           0.6899209797056838,
           0.6261753122061131,
           0.6782777227046607,
           0.7145282769477237,
           0.6061144853893232,
           0.7284255846316561,
           0.5407053248792432,
           0.6666791486082241,
           0.672955237734072,
           0.6076626039042081,
           1.0000000000000002,
           0.7088881002896392,
           0.6506447159424877,
           0.5999678063889495,
           0.811955276046268,
           0.734702453027843,
           0.6586043822350103,
           0.5165057805861821,
           0.672785303129978,
           0.6093545004704162,
           0.6997991802159574,
           0.38367540720895404,
           0.6652991049638928,
           0.5289662710948195,
           0.7695000737787643,
           0.6757500315248425,
           0.6378794891735353,
           0.6557497078259079,
           0.7097561731767397,
           0.705524324858623,
           0.6235543212691654,
           0.6402348333875871,
           0.6616574490564222,
           0.614679422807368,
           0.582725169257308,
           0.7283365829651416,
           0.6422501108732455,
           0.670886416031015,
           0.740597786872564,
           0.7373290437256665,
           0.6469561446131447,
           0.6508746518459414,
           0.6716121533824257
          ],
          [
           0.7199433174974257,
           0.7342696059629766,
           0.7195461323683467,
           0.677903738841608,
           0.7301968656226705,
           0.677560830449823,
           0.7277988630158412,
           0.7169682438635663,
           0.5780369810500237,
           0.6697800128753505,
           0.7412645674183254,
           0.6679885844460086,
           0.6241547881319014,
           0.7398569513842248,
           0.7140836875696149,
           0.7828950175821945,
           0.735009724355421,
           0.7139073857278256,
           0.7152532278438335,
           0.6581401043918038,
           0.7258563953392102,
           0.5983303932026403,
           0.7257376703845713,
           0.6793718156262873,
           0.7470446901864856,
           0.7088881002896392,
           0.9999999999999999,
           0.7034690939362482,
           0.643925946186551,
           0.6926254066695677,
           0.7319396134061671,
           0.6814544603864257,
           0.6189141855740956,
           0.7468833434912783,
           0.5990096107035462,
           0.6728300973150323,
           0.33166839131701975,
           0.6928445385853171,
           0.5634287080651913,
           0.6836431762889081,
           0.7328207401283342,
           0.7065566319754912,
           0.7291151429721034,
           0.743376153719556,
           0.6975655604170168,
           0.6692613595285393,
           0.7401991274563664,
           0.690808402181506,
           0.6545046308877174,
           0.6608476192931931,
           0.7773977232748992,
           0.6997095960394133,
           0.7306264089352097,
           0.681656867225316,
           0.743085167125028,
           0.6346160290703002,
           0.7033386293230202,
           0.7222782802487396
          ],
          [
           0.6894234301297727,
           0.679322378802939,
           0.6347028037598053,
           0.6857498210849361,
           0.7056672763245773,
           0.6247323394702481,
           0.7115837931263072,
           0.6688103319207712,
           0.5882362264028682,
           0.5681941650710196,
           0.6818850149378982,
           0.610317999224008,
           0.5496190526394782,
           0.662569470154782,
           0.5874717293166907,
           0.7150272700746384,
           0.6847918015976028,
           0.6714395126267072,
           0.8121126751443157,
           0.6593989314913509,
           0.67989204326252,
           0.5673873307291235,
           0.683795560672818,
           0.7396243936021847,
           0.6731673758109442,
           0.6506447159424877,
           0.7034690939362482,
           1,
           0.6202410536908598,
           0.6671794108414989,
           0.7052068864899278,
           0.7486522094152204,
           0.6024712989163533,
           0.6518283767461255,
           0.6000281282887334,
           0.5960414407796325,
           0.292869052945281,
           0.6847152646767494,
           0.6244816268508879,
           0.6888377325431501,
           0.6699095403630935,
           0.6003976574231766,
           0.7706879642379285,
           0.6327859479621925,
           0.6554489015122344,
           0.5978998796798766,
           0.6760132772817512,
           0.6846317788580456,
           0.6255601022738002,
           0.6314462874111904,
           0.7306494162505153,
           0.6214502771481678,
           0.6828200826629949,
           0.6229417870217882,
           0.7021690063405779,
           0.592433643464863,
           0.6134366880754158,
           0.6867401109911393
          ],
          [
           0.6373000764349266,
           0.6618026384387998,
           0.6354388614030444,
           0.6959354342146278,
           0.5640749555125703,
           0.6038097071241046,
           0.612558379985036,
           0.715984097272936,
           0.5225355168915949,
           0.5724068016993833,
           0.6280177377897821,
           0.5851477095917006,
           0.5822354184930532,
           0.6087938954925634,
           0.5344137245915159,
           0.6189125091490739,
           0.6695098954492957,
           0.6773703474150559,
           0.7485497625603563,
           0.6903636775113056,
           0.6296297822648312,
           0.7034604893722742,
           0.7247884169646799,
           0.6667003595167785,
           0.64867990573127,
           0.5999678063889495,
           0.643925946186551,
           0.6202410536908598,
           0.9999999999999993,
           0.638545608516272,
           0.6223038528985836,
           0.661405658478994,
           0.5652867393388257,
           0.6738796830059808,
           0.5758700739502914,
           0.5188069220454288,
           0.22436637591864306,
           0.6643158596483705,
           0.5332241541877377,
           0.5897460935341623,
           0.6428068127570853,
           0.5806608372173331,
           0.6304103584135906,
           0.6643437423305519,
           0.7530287198628001,
           0.5699938366726885,
           0.6458757602645893,
           0.7507167090109677,
           0.6702604266180388,
           0.6257688766873832,
           0.7155837340966815,
           0.6342341764536137,
           0.6947844969303121,
           0.6087461095730717,
           0.6754185373915788,
           0.5428861316523412,
           0.6415280840651403,
           0.5723823949404754
          ],
          [
           0.622490782889801,
           0.6335290751561795,
           0.6340691010225565,
           0.6890286050912404,
           0.7667416800603648,
           0.5619044373624158,
           0.6253070497684279,
           0.728282571587604,
           0.5117066946047475,
           0.5704667611218701,
           0.5945163965850528,
           0.5754010018207532,
           0.5556721203451991,
           0.6710944062048863,
           0.5813654673599793,
           0.6908626626116678,
           0.6359902401949104,
           0.6926804505942197,
           0.7390320550042193,
           0.5922108606286988,
           0.6755553377849685,
           0.5777704173762465,
           0.6692583275598485,
           0.7145357460581128,
           0.6661186682386071,
           0.811955276046268,
           0.6926254066695677,
           0.6671794108414989,
           0.638545608516272,
           0.9999999999999998,
           0.7182162258275826,
           0.676929683684969,
           0.5475140387761768,
           0.6745143448429307,
           0.5941307968811174,
           0.7187236579719991,
           0.2743261132207161,
           0.6567666167009332,
           0.529220960197885,
           0.7224300678743643,
           0.6507345132009926,
           0.618832409508971,
           0.6778649157453576,
           0.7407379981321691,
           0.7110811071095284,
           0.619609206329707,
           0.6362493900710953,
           0.6776215051213034,
           0.6568682075435192,
           0.5896052518372772,
           0.7323236456811573,
           0.6156815242024374,
           0.672559075916545,
           0.7269101563928582,
           0.7513206832408516,
           0.6004160522434879,
           0.6251918945059166,
           0.6254480699670633
          ],
          [
           0.7279885499578178,
           0.745620191774016,
           0.7257021181514431,
           0.7034107970005131,
           0.7603595906237092,
           0.7092101592254678,
           0.7460532369411612,
           0.7111151400422802,
           0.650486649795391,
           0.6228623967517906,
           0.7291721524365297,
           0.640022521707702,
           0.6689525532469115,
           0.7345193457705632,
           0.703425764642913,
           0.7597891472323743,
           0.7095230068337823,
           0.7085881446414897,
           0.6670646492651389,
           0.6947777507148238,
           0.7717699061190086,
           0.5791397299121102,
           0.7395002310957566,
           0.6717355751353151,
           0.6998994396098317,
           0.734702453027843,
           0.7319396134061671,
           0.7052068864899278,
           0.6223038528985836,
           0.7182162258275826,
           0.9999999999999993,
           0.654814610861483,
           0.6123530713357557,
           0.7284268432298573,
           0.6670119447555386,
           0.6819806924413843,
           0.3642411731693129,
           0.7211276957490559,
           0.6379882028880186,
           0.7060556995716492,
           0.733104094450334,
           0.6429206120514822,
           0.7342224832194273,
           0.7381758906210725,
           0.7181315726155092,
           0.67070872717432,
           0.7252444085335519,
           0.6762865282040555,
           0.701753858372238,
           0.6757206034250822,
           0.7304560179833881,
           0.7276989448265739,
           0.6947887654545639,
           0.7361148298603932,
           0.7590217302845769,
           0.6369652448757974,
           0.7012501872602062,
           0.7470809053707034
          ],
          [
           0.6851788106318782,
           0.6847263724402973,
           0.6644344242933453,
           0.7337329200589482,
           0.6992439604207075,
           0.6151385718545563,
           0.7018838539846215,
           0.7340076184403673,
           0.5858621675849862,
           0.6353444203741503,
           0.6621986378441941,
           0.6328312306893351,
           0.5622503407543399,
           0.6988337561239786,
           0.5772336196706892,
           0.7077175026770991,
           0.7341699847728564,
           0.7328968572052048,
           0.7593318449759481,
           0.6510729776716471,
           0.6722659045708808,
           0.6291471454432693,
           0.7314467035267311,
           0.7527982163228255,
           0.6475680309484875,
           0.6586043822350103,
           0.6814544603864257,
           0.7486522094152204,
           0.661405658478994,
           0.676929683684969,
           0.654814610861483,
           1.0000000000000002,
           0.5556455167336212,
           0.683035953734167,
           0.5704483267691599,
           0.6130091130575693,
           0.292413890231097,
           0.722959002175356,
           0.5332763987905479,
           0.6726652315023226,
           0.7120162159535046,
           0.6424211513967883,
           0.6725353847227309,
           0.6906512658883251,
           0.6726107234848664,
           0.6436500775556913,
           0.6496683373502097,
           0.7344093278342083,
           0.593731875164871,
           0.656205781256596,
           0.7332263983448535,
           0.6572036727454414,
           0.7033255888004991,
           0.6652642438045768,
           0.7018978407133252,
           0.5819658276129724,
           0.6106240825237598,
           0.636565731340331
          ],
          [
           0.6329626451036243,
           0.6404686437414462,
           0.6123237889902682,
           0.6326625683324865,
           0.5749601699373053,
           0.6325592546769594,
           0.6441320452954005,
           0.543273282674958,
           0.5148503953495197,
           0.5872428831401459,
           0.620201206418727,
           0.5058378688654053,
           0.6007635097990858,
           0.6038775637503632,
           0.6130378709371224,
           0.6328211575896763,
           0.6805492666561697,
           0.6112090921104082,
           0.5858260535503225,
           0.616144797939881,
           0.6242266361595417,
           0.5807061559954729,
           0.5858706781670238,
           0.6168574326859773,
           0.6125297147469159,
           0.5165057805861821,
           0.6189141855740956,
           0.6024712989163533,
           0.5652867393388257,
           0.5475140387761768,
           0.6123530713357557,
           0.5556455167336212,
           0.9999999999999994,
           0.6514021927495066,
           0.5841474612956313,
           0.5136311394062552,
           0.28257078392934076,
           0.6468061820202456,
           0.6125959660071385,
           0.509675359896285,
           0.6264096974412704,
           0.585847868609775,
           0.7071678693143565,
           0.649932313582781,
           0.5570765954056124,
           0.6006378332028195,
           0.5935169723411371,
           0.6457114648084321,
           0.6262555370642349,
           0.6823366936575517,
           0.6113165311481504,
           0.6120661769361841,
           0.667918230609682,
           0.5259870696236846,
           0.6588190672763254,
           0.5481974170385657,
           0.6391681475624986,
           0.5973002973752901
          ],
          [
           0.7591915479642302,
           0.7813062472020221,
           0.7388989601399871,
           0.7241553104021174,
           0.7564567366395086,
           0.7411324783738531,
           0.7717680829884574,
           0.7388178761906705,
           0.6310831571103817,
           0.6768044389330556,
           0.7410628801183106,
           0.6957228497801932,
           0.6713979043748317,
           0.7176304465829577,
           0.7213360396531439,
           0.7938409057307743,
           0.737287351995084,
           0.7437927196796064,
           0.6759608749483463,
           0.6793968382308202,
           0.7737385038380467,
           0.6811408110938779,
           0.7696368702539206,
           0.7832372442604327,
           0.6819999685229513,
           0.672785303129978,
           0.7468833434912783,
           0.6518283767461255,
           0.6738796830059808,
           0.6745143448429307,
           0.7284268432298573,
           0.683035953734167,
           0.6514021927495066,
           1.0000000000000004,
           0.6750925091815599,
           0.6884202613760984,
           0.36673594529410736,
           0.7283150688979799,
           0.6204763462469731,
           0.6574963866396333,
           0.772929071991939,
           0.6779795320106331,
           0.7535791465168318,
           0.773256362666113,
           0.7003025516867694,
           0.7841357501511907,
           0.7454973960157454,
           0.742062880199168,
           0.6922978774741447,
           0.7154052081441831,
           0.7301119673798468,
           0.8013476622584502,
           0.7515259692747864,
           0.755676615923623,
           0.7520683156297177,
           0.6364744133607314,
           0.7502494538407547,
           0.7721848935591356
          ],
          [
           0.6364180583665466,
           0.6308628163027568,
           0.6122959610658343,
           0.6535867660172381,
           0.6176555593297379,
           0.5909544917199103,
           0.6036230952009359,
           0.6430051292515295,
           0.5225676592745357,
           0.5766209420871661,
           0.6274109503949868,
           0.493578568326419,
           0.5225427603383406,
           0.5933429433687315,
           0.5161883908779855,
           0.6094691439569946,
           0.6246147336822947,
           0.6232352291552052,
           0.6054690496091406,
           0.6216394635195656,
           0.6312444586529766,
           0.6028758404996879,
           0.6310952766854065,
           0.6306097248148492,
           0.6630447425470438,
           0.6093545004704162,
           0.5990096107035462,
           0.6000281282887334,
           0.5758700739502914,
           0.5941307968811174,
           0.6670119447555386,
           0.5704483267691599,
           0.5841474612956313,
           0.6750925091815599,
           1,
           0.5818807531875012,
           0.2859155587367056,
           0.6492416830093527,
           0.7037751859894681,
           0.5730160028891504,
           0.6137797272836034,
           0.5170422547753436,
           0.6441260248519273,
           0.6029412167704049,
           0.6404249168358261,
           0.6534429425624083,
           0.6098040753206769,
           0.6229190588810928,
           0.604708600088763,
           0.6711329183798369,
           0.6227983927879366,
           0.6896995850515542,
           0.6606980812431077,
           0.6120228558613776,
           0.6551025505392176,
           0.5421628043846716,
           0.6853918341202816,
           0.6133775578265069
          ],
          [
           0.6358960590087537,
           0.655503431992616,
           0.6638134159634863,
           0.6161233987707113,
           0.8325905808053784,
           0.5563394890682656,
           0.6238516711314397,
           0.6855474398091963,
           0.47747796161515665,
           0.5840328111081813,
           0.6208944946952328,
           0.5962598551920139,
           0.5177684081276762,
           0.6582444550411972,
           0.5782194921507215,
           0.6894255006168206,
           0.5974691908958583,
           0.6532925631656972,
           0.6552158274187154,
           0.5583003385124093,
           0.706916600226294,
           0.5293115648175717,
           0.6197428371723366,
           0.6252482931642089,
           0.619062654197315,
           0.6997991802159574,
           0.6728300973150323,
           0.5960414407796325,
           0.5188069220454288,
           0.7187236579719991,
           0.6819806924413843,
           0.6130091130575693,
           0.5136311394062552,
           0.6884202613760984,
           0.5818807531875012,
           1.0000000000000004,
           0.2928018594984878,
           0.6367860066335305,
           0.5023822804650109,
           0.7467769624267308,
           0.6388641187450215,
           0.6040829076623194,
           0.6571981621177881,
           0.795914217775961,
           0.6179165517276486,
           0.68962873237645,
           0.6181836667020719,
           0.6679688104885406,
           0.6264160614312758,
           0.5515381023681806,
           0.65091765577567,
           0.6441811271893002,
           0.6566140484923058,
           0.7256994592225302,
           0.6447792799326211,
           0.5753244291600093,
           0.6148299145035397,
           0.6104757018633356
          ],
          [
           0.3084005443251818,
           0.3196315297021321,
           0.2956715756314079,
           0.3205133044325168,
           0.3739367537505146,
           0.3612428242708215,
           0.3231713971358996,
           0.3386619536493459,
           0.3961545567156549,
           0.2541162920238724,
           0.3306404917578009,
           0.3620933682974041,
           0.39930816191365015,
           0.34790531322694773,
           0.41947411903562876,
           0.3150957563658555,
           0.3344110547744954,
           0.27006173892428353,
           0.27800286615563563,
           0.26481398177482757,
           0.41749563149871444,
           0.2571615329693912,
           0.3458073558273492,
           0.289031044409388,
           0.32306467439296543,
           0.38367540720895404,
           0.33166839131701975,
           0.292869052945281,
           0.22436637591864306,
           0.2743261132207161,
           0.3642411731693129,
           0.292413890231097,
           0.28257078392934076,
           0.36673594529410736,
           0.2859155587367056,
           0.2928018594984878,
           0.9999999999999996,
           0.27917038566289065,
           0.24572472900235642,
           0.28627331343464313,
           0.3176679524446991,
           0.40959991227878106,
           0.3123856402881937,
           0.30612691369031275,
           0.3583853885112046,
           0.3210765618728997,
           0.3495312502360264,
           0.30998203840945715,
           0.37440385272595694,
           0.3137336407260307,
           0.30538824973719897,
           0.2831428724507878,
           0.36223960578371783,
           0.34143247944948985,
           0.3373032002052465,
           0.3310287337361135,
           0.34193815767999053,
           0.46424038005257345
          ],
          [
           0.7342063611268602,
           0.7451951861508468,
           0.7210174732300265,
           0.7653502483214729,
           0.6923053315727608,
           0.6992821441420966,
           0.7411217617698742,
           0.7262003293453361,
           0.7424472969476146,
           0.644778804660735,
           0.7489021452059862,
           0.6296869312274228,
           0.6187594012599675,
           0.6966034015148568,
           0.6346836362078128,
           0.7294085670591736,
           0.7738760831275684,
           0.7606406565788706,
           0.7202173529078689,
           0.759432700951777,
           0.7493710054488034,
           0.6922967425432306,
           0.7372528767753637,
           0.7310469086924678,
           0.6955850577192435,
           0.6652991049638928,
           0.6928445385853171,
           0.6847152646767494,
           0.6643158596483705,
           0.6567666167009332,
           0.7211276957490559,
           0.722959002175356,
           0.6468061820202456,
           0.7283150688979799,
           0.6492416830093527,
           0.6367860066335305,
           0.27917038566289065,
           1.0000000000000002,
           0.6125695745887767,
           0.7581640530374809,
           0.7428155030331343,
           0.6125599803273073,
           0.7134559687137199,
           0.7046114985119882,
           0.6849228384002193,
           0.7173477161719732,
           0.7180332493621648,
           0.7597640470822538,
           0.6695961152439234,
           0.7061058903052457,
           0.7251657793604287,
           0.7472761972964547,
           0.7416058711458036,
           0.703934253336495,
           0.760389206052529,
           0.675626959697192,
           0.7606609683399993,
           0.7053414014292625
          ],
          [
           0.5526205016671155,
           0.5698306635245851,
           0.5738999932668434,
           0.5710018873971074,
           0.5485880867135349,
           0.5535269248599087,
           0.5375631474237225,
           0.6051254734459434,
           0.4924579933624569,
           0.49741425353333185,
           0.5835787527523283,
           0.44179498925042926,
           0.48634463596690714,
           0.542553042677886,
           0.498969658571466,
           0.5533509354762652,
           0.5691536211930945,
           0.5493770479043703,
           0.5573518802145336,
           0.5386532815584231,
           0.6225482313000732,
           0.5288951869040405,
           0.572153655913345,
           0.5697018374751353,
           0.5874358566597846,
           0.5289662710948195,
           0.5634287080651913,
           0.6244816268508879,
           0.5332241541877377,
           0.529220960197885,
           0.6379882028880186,
           0.5332763987905479,
           0.6125959660071385,
           0.6204763462469731,
           0.7037751859894681,
           0.5023822804650109,
           0.24572472900235642,
           0.6125695745887767,
           1,
           0.5451626476229003,
           0.5704779384184303,
           0.47061171617329167,
           0.6912207684644431,
           0.5376100174906805,
           0.5392785218073544,
           0.5794563067126586,
           0.5505251890669698,
           0.5897143945274068,
           0.5429506003309206,
           0.6281759081377152,
           0.5887345501731636,
           0.6200349088899417,
           0.5881333236437315,
           0.6035380753227502,
           0.6429908803346667,
           0.5092236610436583,
           0.5627596342774066,
           0.5568698570797899
          ],
          [
           0.6203555301268485,
           0.6260361655760857,
           0.6240551397404754,
           0.6893335431496534,
           0.8024468468306325,
           0.5795694449964035,
           0.6246146787973064,
           0.7726918465890158,
           0.6863301313991994,
           0.5704778695204027,
           0.6039179784815358,
           0.5796271669999946,
           0.49777357483876356,
           0.6935419310716069,
           0.5520536374535614,
           0.6815079113871417,
           0.6152805447400274,
           0.6957552775710983,
           0.7569818362783278,
           0.5978372635110049,
           0.7408430129237888,
           0.5347313463845206,
           0.6773546654290682,
           0.7247010643854028,
           0.6010298422496126,
           0.7695000737787643,
           0.6836431762889081,
           0.6888377325431501,
           0.5897460935341623,
           0.7224300678743643,
           0.7060556995716492,
           0.6726652315023226,
           0.509675359896285,
           0.6574963866396333,
           0.5730160028891504,
           0.7467769624267308,
           0.28627331343464313,
           0.7581640530374809,
           0.5451626476229003,
           1,
           0.6087425381106665,
           0.6148284143744376,
           0.6633785233668701,
           0.703930437826415,
           0.6648670567907593,
           0.660340980508255,
           0.6109733031113844,
           0.6826561578906305,
           0.6309083480014634,
           0.5736288104724129,
           0.7206503706051124,
           0.6106004120948023,
           0.7048953804680222,
           0.7250008604026468,
           0.6812533436070601,
           0.6456890010395859,
           0.6104218413833695,
           0.6301724842300993
          ],
          [
           0.7783145003623961,
           0.7957312326800599,
           0.7456264130343657,
           0.7553904538052201,
           0.739403451136036,
           0.7572517439536963,
           0.7898202307157973,
           0.7290932479635014,
           0.5952074734857697,
           0.7045538066046098,
           0.738949864287975,
           0.6861428650726411,
           0.6221303479030358,
           0.7450234497664496,
           0.7057216423805934,
           0.8161820462984476,
           0.770075553511882,
           0.7935788582790511,
           0.6999506966465097,
           0.691211425523744,
           0.7384967036637087,
           0.6730441836031474,
           0.7198894516413341,
           0.7136036850285485,
           0.7426697095810955,
           0.6757500315248425,
           0.7328207401283342,
           0.6699095403630935,
           0.6428068127570853,
           0.6507345132009926,
           0.733104094450334,
           0.7120162159535046,
           0.6264096974412704,
           0.772929071991939,
           0.6137797272836034,
           0.6388641187450215,
           0.3176679524446991,
           0.7428155030331343,
           0.5704779384184303,
           0.6087425381106665,
           1,
           0.6689280119840489,
           0.7397776653708401,
           0.7188329610180191,
           0.727618528327016,
           0.7040368482031855,
           0.780557478448966,
           0.7248071176916429,
           0.6491721502581456,
           0.6843521591943886,
           0.7043811524267858,
           0.7777124454429449,
           0.682721758048355,
           0.6955262730989653,
           0.7486306369289497,
           0.6377666981066056,
           0.7458851029214858,
           0.7998593366867613
          ],
          [
           0.6295868026613867,
           0.6550588508080761,
           0.6311914574231485,
           0.6196549969041516,
           0.6810076391147828,
           0.6160765209774707,
           0.6695129427725119,
           0.6690044177269172,
           0.5359797383821363,
           0.5801368967755305,
           0.6371028369334917,
           0.5953876157892036,
           0.5818427054079596,
           0.6942037773297267,
           0.6461104932592281,
           0.6919311085441967,
           0.703397099704204,
           0.6442489756501486,
           0.6480678961165613,
           0.6070774610407473,
           0.6683076272518829,
           0.5533478609676827,
           0.6624587647155884,
           0.6397787575285157,
           0.6696217196604328,
           0.6378794891735353,
           0.7065566319754912,
           0.6003976574231766,
           0.5806608372173331,
           0.618832409508971,
           0.6429206120514822,
           0.6424211513967883,
           0.585847868609775,
           0.6779795320106331,
           0.5170422547753436,
           0.6040829076623194,
           0.40959991227878106,
           0.6125599803273073,
           0.47061171617329167,
           0.6148284143744376,
           0.6689280119840489,
           0.9999999999999998,
           0.6846039895895821,
           0.6482009289747868,
           0.6848326655302546,
           0.629955482102486,
           0.6729206612915587,
           0.6526033762159036,
           0.625231103013384,
           0.6525964919080337,
           0.6890598845266407,
           0.6069260185960192,
           0.6948212991551417,
           0.6016198873271297,
           0.7164890461527871,
           0.6426667963073669,
           0.6228824115144674,
           0.6874738893824788
          ],
          [
           0.7260208976830176,
           0.7225884166266795,
           0.6940377890602193,
           0.7066538399340548,
           0.7380379216134401,
           0.6923913838601623,
           0.7402887182906481,
           0.6745235480628945,
           0.579059225273389,
           0.638294413380821,
           0.7311274820269769,
           0.6148874890407928,
           0.6173022962424282,
           0.7031750751865675,
           0.6504113346670473,
           0.7321735420563515,
           0.753381638534641,
           0.726681669463954,
           0.7451946291173057,
           0.6571854958399377,
           0.7462528050084992,
           0.6498707182829323,
           0.7029997656083947,
           0.7286222475663033,
           0.7274600459887368,
           0.6557497078259079,
           0.7291151429721034,
           0.7706879642379285,
           0.6304103584135906,
           0.6778649157453576,
           0.7342224832194273,
           0.6725353847227309,
           0.7071678693143565,
           0.7535791465168318,
           0.6441260248519273,
           0.6571981621177881,
           0.3123856402881937,
           0.7134559687137199,
           0.6912207684644431,
           0.6633785233668701,
           0.7397776653708401,
           0.6846039895895821,
           1.0000000000000004,
           0.6964724742317138,
           0.7065691943772798,
           0.6995769576094115,
           0.7391321175342951,
           0.7031129256755198,
           0.6833947025998001,
           0.7071602049199889,
           0.7227757713127155,
           0.7139617725275604,
           0.707648207613587,
           0.6682585495011546,
           0.7477619568323757,
           0.6378694029818932,
           0.6972342623882356,
           0.7520867682342283
          ],
          [
           0.731040570590576,
           0.755901464979051,
           0.763868234423821,
           0.7049515045994295,
           0.7954423956358021,
           0.6487678790412595,
           0.7259352241635888,
           0.7208454417675889,
           0.5713842954134454,
           0.6511967347749599,
           0.7032944446398819,
           0.6827427432603987,
           0.6368017014264802,
           0.7296384001662054,
           0.6676810708143606,
           0.7603187959875048,
           0.7108594733821476,
           0.7265241106984066,
           0.6881657873242304,
           0.6770849213028997,
           0.7475429401837356,
           0.630430665660159,
           0.7392076328458079,
           0.7108342838711244,
           0.6630537617052793,
           0.7097561731767397,
           0.743376153719556,
           0.6327859479621925,
           0.6643437423305519,
           0.7407379981321691,
           0.7381758906210725,
           0.6906512658883251,
           0.649932313582781,
           0.773256362666113,
           0.6029412167704049,
           0.795914217775961,
           0.30612691369031275,
           0.7046114985119882,
           0.5376100174906805,
           0.703930437826415,
           0.7188329610180191,
           0.6482009289747868,
           0.6964724742317138,
           0.999999999999999,
           0.6849148213627223,
           0.7150264855245902,
           0.6883331039282936,
           0.7332418726229806,
           0.7010529026596934,
           0.6597858630322261,
           0.730127273014763,
           0.698179685192009,
           0.7105394776321045,
           0.7376235278104764,
           0.7646620790825656,
           0.6320547385886015,
           0.7035746773740257,
           0.6706330476341132
          ],
          [
           0.6816057994578978,
           0.6872615979938272,
           0.6486946746883278,
           0.7377620105967351,
           0.7146581002614227,
           0.7051875551157212,
           0.6950650707752977,
           0.736156778089196,
           0.5473160902709,
           0.6100268656564423,
           0.6804518285313794,
           0.6618170106122139,
           0.600348884931392,
           0.7093308835398153,
           0.6326180930675047,
           0.7220111230920538,
           0.7205400314051865,
           0.718921668219515,
           0.7743250195142368,
           0.6971497873328332,
           0.7160296392314096,
           0.640582563255202,
           0.7441808605334219,
           0.7216608141104979,
           0.7243357021552832,
           0.705524324858623,
           0.6975655604170168,
           0.6554489015122344,
           0.7530287198628001,
           0.7110811071095284,
           0.7181315726155092,
           0.6726107234848664,
           0.5570765954056124,
           0.7003025516867694,
           0.6404249168358261,
           0.6179165517276486,
           0.3583853885112046,
           0.6849228384002193,
           0.5392785218073544,
           0.6648670567907593,
           0.727618528327016,
           0.6848326655302546,
           0.7065691943772798,
           0.6849148213627223,
           1.0000000000000004,
           0.6494202210276019,
           0.7261992671768003,
           0.7501304171547026,
           0.6687066239227497,
           0.6560776047939525,
           0.7283550496247573,
           0.702505333958227,
           0.7073127054045527,
           0.7255324525179134,
           0.7368942851361469,
           0.6344229870376558,
           0.655474577688768,
           0.7281241599722288
          ],
          [
           0.6849674526511356,
           0.6988134084786062,
           0.6814988408118539,
           0.667561083202004,
           0.7066164582482397,
           0.649841245304061,
           0.684942093247058,
           0.6836774622031576,
           0.6107567498551233,
           0.652444813891639,
           0.6866229822422844,
           0.6173944755283519,
           0.5654170816898749,
           0.671218835479429,
           0.6169349270121411,
           0.7179156390957533,
           0.7157985371494774,
           0.6659236246248141,
           0.6221534442284897,
           0.6092813962569688,
           0.7351493302761622,
           0.6090741997145434,
           0.6667273244695816,
           0.7013797391612686,
           0.6548026244168765,
           0.6235543212691654,
           0.6692613595285393,
           0.5978998796798766,
           0.5699938366726885,
           0.619609206329707,
           0.67070872717432,
           0.6436500775556913,
           0.6006378332028195,
           0.7841357501511907,
           0.6534429425624083,
           0.68962873237645,
           0.3210765618728997,
           0.7173477161719732,
           0.5794563067126586,
           0.660340980508255,
           0.7040368482031855,
           0.629955482102486,
           0.6995769576094115,
           0.7150264855245902,
           0.6494202210276019,
           1.0000000000000002,
           0.7017755432528039,
           0.6993636262499106,
           0.6678168177833832,
           0.6940080567407981,
           0.6635999479968551,
           0.7472365325019495,
           0.6938350664552907,
           0.7000070480374369,
           0.6881660975754463,
           0.5876717469817425,
           0.6939909770332483,
           0.6628387720774261
          ],
          [
           0.7399704920047585,
           0.7608816579965774,
           0.7258465033403434,
           0.677777456557235,
           0.7140564509272542,
           0.7186670768049714,
           0.756961336121446,
           0.6992912000427746,
           0.5690107490477492,
           0.6525070347411752,
           0.7244264108109961,
           0.6745964521146487,
           0.5893463729573016,
           0.6907873982092065,
           0.6477109032556397,
           0.7551265018235946,
           0.749320041115453,
           0.7376440561845007,
           0.6776875955334117,
           0.6500034792639726,
           0.7332851025716364,
           0.6119957709859167,
           0.7129030883830811,
           0.6665180014735004,
           0.6892318302244991,
           0.6402348333875871,
           0.7401991274563664,
           0.6760132772817512,
           0.6458757602645893,
           0.6362493900710953,
           0.7252444085335519,
           0.6496683373502097,
           0.5935169723411371,
           0.7454973960157454,
           0.6098040753206769,
           0.6181836667020719,
           0.3495312502360264,
           0.7180332493621648,
           0.5505251890669698,
           0.6109733031113844,
           0.780557478448966,
           0.6729206612915587,
           0.7391321175342951,
           0.6883331039282936,
           0.7261992671768003,
           0.7017755432528039,
           0.9999999999999996,
           0.7127764301417793,
           0.6489483720522871,
           0.6574370324215393,
           0.7026551443229013,
           0.7240404567209253,
           0.6818274599182274,
           0.6704323187770561,
           0.7512903633903889,
           0.5829026987234038,
           0.6983190964612422,
           0.7587611112539101
          ],
          [
           0.7146214320651638,
           0.7118431599688924,
           0.6821103024031239,
           0.7667773209894193,
           0.6957381779467628,
           0.6608499846451006,
           0.7276898586080407,
           0.7203495579008683,
           0.6179935784115633,
           0.6304866224770049,
           0.7319105424741557,
           0.6521909905159122,
           0.6020891068724122,
           0.7058102579670114,
           0.6252353630882157,
           0.6925863263162295,
           0.7480561558821559,
           0.7557359546569914,
           0.730881408980457,
           0.7631740718810857,
           0.6974257748319579,
           0.7218645341429265,
           0.7602016768548382,
           0.7384233822948101,
           0.6739255680871338,
           0.6616574490564222,
           0.690808402181506,
           0.6846317788580456,
           0.7507167090109677,
           0.6776215051213034,
           0.6762865282040555,
           0.7344093278342083,
           0.6457114648084321,
           0.742062880199168,
           0.6229190588810928,
           0.6679688104885406,
           0.30998203840945715,
           0.7597640470822538,
           0.5897143945274068,
           0.6826561578906305,
           0.7248071176916429,
           0.6526033762159036,
           0.7031129256755198,
           0.7332418726229806,
           0.7501304171547026,
           0.6993636262499106,
           0.7127764301417793,
           0.9999999999999997,
           0.6873559963076564,
           0.7212638822031914,
           0.7364882903991002,
           0.7044209480711139,
           0.7468162978486612,
           0.6841821005555573,
           0.7514805741424155,
           0.6762767531141659,
           0.707315906815437,
           0.6485366005135369
          ],
          [
           0.6707602968206019,
           0.6771032790798794,
           0.647525848460436,
           0.6728606150665782,
           0.6743269312612191,
           0.6407605500250191,
           0.6567628537257462,
           0.6607515994278834,
           0.5575077102597383,
           0.5791619884805972,
           0.6595875393707334,
           0.5544739982468022,
           0.6339885496217734,
           0.6162586196920806,
           0.6104983119680925,
           0.6606560056137905,
           0.6666942182372887,
           0.6455481725119334,
           0.6493466602627969,
           0.6574001970159001,
           0.6760804716019375,
           0.5784960957751845,
           0.6867822079367967,
           0.6789198667203803,
           0.6646589200959357,
           0.614679422807368,
           0.6545046308877174,
           0.6255601022738002,
           0.6702604266180388,
           0.6568682075435192,
           0.701753858372238,
           0.593731875164871,
           0.6262555370642349,
           0.6922978774741447,
           0.604708600088763,
           0.6264160614312758,
           0.37440385272595694,
           0.6695961152439234,
           0.5429506003309206,
           0.6309083480014634,
           0.6491721502581456,
           0.625231103013384,
           0.6833947025998001,
           0.7010529026596934,
           0.6687066239227497,
           0.6678168177833832,
           0.6489483720522871,
           0.6873559963076564,
           1.0000000000000004,
           0.6401562171301625,
           0.6833434651027789,
           0.6506417910733623,
           0.6901881744916483,
           0.6148726418135955,
           0.695018513563233,
           0.5742707426170841,
           0.6841773926203456,
           0.6148760132341025
          ],
          [
           0.6678968211095406,
           0.6650746860718411,
           0.6627051049708903,
           0.7056308506699663,
           0.6170167064273151,
           0.6494021381879089,
           0.7000939081686126,
           0.6317048451513054,
           0.6116995432738053,
           0.6670806997082108,
           0.6765722950712951,
           0.6048320189511711,
           0.6119105448522622,
           0.6707870760931975,
           0.623098907136619,
           0.6724416487627979,
           0.7210618877746178,
           0.6804342399129173,
           0.6341520350617442,
           0.6748185783601297,
           0.6451117990024651,
           0.6747335078587597,
           0.6959868964383206,
           0.6877872832326787,
           0.6674064602912739,
           0.582725169257308,
           0.6608476192931931,
           0.6314462874111904,
           0.6257688766873832,
           0.5896052518372772,
           0.6757206034250822,
           0.656205781256596,
           0.6823366936575517,
           0.7154052081441831,
           0.6711329183798369,
           0.5515381023681806,
           0.3137336407260307,
           0.7061058903052457,
           0.6281759081377152,
           0.5736288104724129,
           0.6843521591943886,
           0.6525964919080337,
           0.7071602049199889,
           0.6597858630322261,
           0.6560776047939525,
           0.6940080567407981,
           0.6574370324215393,
           0.7212638822031914,
           0.6401562171301625,
           1.0000000000000002,
           0.6858292091483604,
           0.6861373954384139,
           0.7010358447808029,
           0.5861276136526682,
           0.7235986748502592,
           0.6410567753190044,
           0.7234106495024353,
           0.6684202837898586
          ],
          [
           0.7188311753154697,
           0.7532089939653299,
           0.7399881827866481,
           0.7424720636526044,
           0.7415233916059277,
           0.6520348111534425,
           0.7113504350560519,
           0.7816573013161869,
           0.6070834196425656,
           0.6590307241530855,
           0.7112440886160964,
           0.6438470197074466,
           0.6499202631913956,
           0.7509390810664289,
           0.6825814355690627,
           0.7327156688843086,
           0.7132048215536841,
           0.7495039824629859,
           0.7812917696090662,
           0.6895432736748797,
           0.7435022408976447,
           0.6520349789339474,
           0.7553621577381175,
           0.7221988227324957,
           0.7150982624921691,
           0.7283365829651416,
           0.7773977232748992,
           0.7306494162505153,
           0.7155837340966815,
           0.7323236456811573,
           0.7304560179833881,
           0.7332263983448535,
           0.6113165311481504,
           0.7301119673798468,
           0.6227983927879366,
           0.65091765577567,
           0.30538824973719897,
           0.7251657793604287,
           0.5887345501731636,
           0.7206503706051124,
           0.7043811524267858,
           0.6890598845266407,
           0.7227757713127155,
           0.730127273014763,
           0.7283550496247573,
           0.6635999479968551,
           0.7026551443229013,
           0.7364882903991002,
           0.6833434651027789,
           0.6858292091483604,
           0.9999999999999993,
           0.7186087933852333,
           0.7771167914686128,
           0.7231182898958649,
           0.7848515473620692,
           0.6367890532818146,
           0.7006800325989063,
           0.7149785310087569
          ],
          [
           0.7772008011398674,
           0.7837699418487748,
           0.7371254817930687,
           0.7489158738218861,
           0.7037159822834846,
           0.7309425761691513,
           0.7583781081549141,
           0.6951975548750244,
           0.6103482797840247,
           0.7186151730916508,
           0.7611739360534793,
           0.6258157832174219,
           0.6089985679433685,
           0.6995432493012352,
           0.6283477315988811,
           0.7742005718995393,
           0.7307040112665077,
           0.7215879162878944,
           0.6460614836044662,
           0.6899105321262532,
           0.7602807819761721,
           0.6833068757564538,
           0.6937832060363083,
           0.6830708953811945,
           0.7305209866529254,
           0.6422501108732455,
           0.6997095960394133,
           0.6214502771481678,
           0.6342341764536137,
           0.6156815242024374,
           0.7276989448265739,
           0.6572036727454414,
           0.6120661769361841,
           0.8013476622584502,
           0.6896995850515542,
           0.6441811271893002,
           0.2831428724507878,
           0.7472761972964547,
           0.6200349088899417,
           0.6106004120948023,
           0.7777124454429449,
           0.6069260185960192,
           0.7139617725275604,
           0.698179685192009,
           0.702505333958227,
           0.7472365325019495,
           0.7240404567209253,
           0.7044209480711139,
           0.6506417910733623,
           0.6861373954384139,
           0.7186087933852333,
           0.9999999999999998,
           0.7228167925517669,
           0.706071622599508,
           0.7071174057940229,
           0.6033124357072621,
           0.7516676506798847,
           0.748131046857663
          ],
          [
           0.7085456747010523,
           0.7259643573295339,
           0.6994289767378101,
           0.7358906395412201,
           0.7070005954248322,
           0.6739792756973897,
           0.6930787295705922,
           0.7413195101920311,
           0.6255954440388056,
           0.6571659136594155,
           0.7000123109647902,
           0.6156991964829615,
           0.6504248917012558,
           0.7403974350838511,
           0.6736345574316756,
           0.706149078600742,
           0.7251334618912495,
           0.7312201249274439,
           0.7535480663789318,
           0.7041719116422483,
           0.7187192992088494,
           0.6341112858563756,
           0.7086554317811427,
           0.7617746107590166,
           0.7437824106985778,
           0.670886416031015,
           0.7306264089352097,
           0.6828200826629949,
           0.6947844969303121,
           0.672559075916545,
           0.6947887654545639,
           0.7033255888004991,
           0.667918230609682,
           0.7515259692747864,
           0.6606980812431077,
           0.6566140484923058,
           0.36223960578371783,
           0.7416058711458036,
           0.5881333236437315,
           0.7048953804680222,
           0.682721758048355,
           0.6948212991551417,
           0.707648207613587,
           0.7105394776321045,
           0.7073127054045527,
           0.6938350664552907,
           0.6818274599182274,
           0.7468162978486612,
           0.6901881744916483,
           0.7010358447808029,
           0.7771167914686128,
           0.7228167925517669,
           1.0000000000000004,
           0.6822537487645475,
           0.7356574646398232,
           0.6797790686647808,
           0.7197540769811525,
           0.6913475897939604
          ],
          [
           0.660484426651218,
           0.6752283972059241,
           0.6386896716602468,
           0.6894129620810014,
           0.7917797540008485,
           0.6301516856231546,
           0.659245372472985,
           0.7836637272152507,
           0.5618825688987387,
           0.6004844968353813,
           0.6802329186107059,
           0.6477315658556786,
           0.5769401447146829,
           0.7159652618286743,
           0.6326364781353324,
           0.6969634042958581,
           0.6583966299005701,
           0.6948940567023942,
           0.6827713614202584,
           0.6864492440059236,
           0.8138076130949765,
           0.5952368517661292,
           0.6997077318160627,
           0.7239739979425597,
           0.6547397709631952,
           0.740597786872564,
           0.681656867225316,
           0.6229417870217882,
           0.6087461095730717,
           0.7269101563928582,
           0.7361148298603932,
           0.6652642438045768,
           0.5259870696236846,
           0.755676615923623,
           0.6120228558613776,
           0.7256994592225302,
           0.34143247944948985,
           0.703934253336495,
           0.6035380753227502,
           0.7250008604026468,
           0.6955262730989653,
           0.6016198873271297,
           0.6682585495011546,
           0.7376235278104764,
           0.7255324525179134,
           0.7000070480374369,
           0.6704323187770561,
           0.6841821005555573,
           0.6148726418135955,
           0.5861276136526682,
           0.7231182898958649,
           0.706071622599508,
           0.6822537487645475,
           1.0000000000000002,
           0.7125439431052114,
           0.6029122850728074,
           0.6630373066396393,
           0.6803402714531486
          ],
          [
           0.7216428633959605,
           0.7397554508756643,
           0.7309863296502883,
           0.715429571487874,
           0.7258925877717011,
           0.6822742659318577,
           0.7423124446240288,
           0.7400575944265708,
           0.6220893376448864,
           0.64661002965584,
           0.7254637272818827,
           0.639718863338955,
           0.6415442059680516,
           0.7375801625141973,
           0.6787437059919879,
           0.7547994115960561,
           0.7508834592095007,
           0.7610122883192736,
           0.7234458560684249,
           0.7127707694607704,
           0.7162037551517761,
           0.676727726287975,
           0.7486663006827415,
           0.7411884898158245,
           0.7052856424869776,
           0.7373290437256665,
           0.743085167125028,
           0.7021690063405779,
           0.6754185373915788,
           0.7513206832408516,
           0.7590217302845769,
           0.7018978407133252,
           0.6588190672763254,
           0.7520683156297177,
           0.6551025505392176,
           0.6447792799326211,
           0.3373032002052465,
           0.760389206052529,
           0.6429908803346667,
           0.6812533436070601,
           0.7486306369289497,
           0.7164890461527871,
           0.7477619568323757,
           0.7646620790825656,
           0.7368942851361469,
           0.6881660975754463,
           0.7512903633903889,
           0.7514805741424155,
           0.695018513563233,
           0.7235986748502592,
           0.7848515473620692,
           0.7071174057940229,
           0.7356574646398232,
           0.7125439431052114,
           1.0000000000000007,
           0.6722880448457598,
           0.7185421835423218,
           0.7411146537885367
          ],
          [
           0.6211032186089503,
           0.6207242564057269,
           0.582161752034838,
           0.6662526965424977,
           0.6247030353588471,
           0.6174449202099346,
           0.6245675258974095,
           0.6303474052573715,
           0.5965396970195875,
           0.5993330201415801,
           0.6143293060226596,
           0.5943964982097336,
           0.6039978853616024,
           0.6487442357184418,
           0.6130568123224939,
           0.6493132414002909,
           0.6629591769556832,
           0.6396335770311635,
           0.6348311689349855,
           0.6420790403166174,
           0.6468288431540572,
           0.5986999370914963,
           0.6296845145319352,
           0.6711063331111893,
           0.6202795251996911,
           0.6469561446131447,
           0.6346160290703002,
           0.592433643464863,
           0.5428861316523412,
           0.6004160522434879,
           0.6369652448757974,
           0.5819658276129724,
           0.5481974170385657,
           0.6364744133607314,
           0.5421628043846716,
           0.5753244291600093,
           0.3310287337361135,
           0.675626959697192,
           0.5092236610436583,
           0.6456890010395859,
           0.6377666981066056,
           0.6426667963073669,
           0.6378694029818932,
           0.6320547385886015,
           0.6344229870376558,
           0.5876717469817425,
           0.5829026987234038,
           0.6762767531141659,
           0.5742707426170841,
           0.6410567753190044,
           0.6367890532818146,
           0.6033124357072621,
           0.6797790686647808,
           0.6029122850728074,
           0.6722880448457598,
           0.9999999999999987,
           0.6296082083944239,
           0.6328022395627929
          ],
          [
           0.7150020545429487,
           0.7180083727839497,
           0.692486275973084,
           0.7356994775165325,
           0.6822473517671886,
           0.703815479673762,
           0.7183541017330795,
           0.6963363064473865,
           0.6264103200069062,
           0.6652765937398386,
           0.7330596355054244,
           0.6213934256026152,
           0.6857919883550918,
           0.6908628009420323,
           0.6596181586064421,
           0.7238209808004012,
           0.7562901038634251,
           0.6847239958979752,
           0.6227851381914387,
           0.7271308851417255,
           0.7415106922447594,
           0.6861730283122296,
           0.6910791768833286,
           0.6840092348481054,
           0.7244789380690573,
           0.6508746518459414,
           0.7033386293230202,
           0.6134366880754158,
           0.6415280840651403,
           0.6251918945059166,
           0.7012501872602062,
           0.6106240825237598,
           0.6391681475624986,
           0.7502494538407547,
           0.6853918341202816,
           0.6148299145035397,
           0.34193815767999053,
           0.7606609683399993,
           0.5627596342774066,
           0.6104218413833695,
           0.7458851029214858,
           0.6228824115144674,
           0.6972342623882356,
           0.7035746773740257,
           0.655474577688768,
           0.6939909770332483,
           0.6983190964612422,
           0.707315906815437,
           0.6841773926203456,
           0.7234106495024353,
           0.7006800325989063,
           0.7516676506798847,
           0.7197540769811525,
           0.6630373066396393,
           0.7185421835423218,
           0.6296082083944239,
           0.9999999999999997,
           0.7201042606597374
          ],
          [
           0.7857081902474556,
           0.7894434707340297,
           0.7145703070534493,
           0.7227959688527017,
           0.7392186159091476,
           0.8544299612324571,
           0.8179313730914768,
           0.6966425315843918,
           0.6332719990284731,
           0.61870490621176,
           0.7335088226411728,
           0.6690687273560229,
           0.6421847096387506,
           0.7433161229527923,
           0.7371080242779755,
           0.8282262981396238,
           0.7307458688212299,
           0.7347572608034068,
           0.6867548014632834,
           0.6391977588539315,
           0.7955645399265637,
           0.6403318540245118,
           0.7147941874317805,
           0.7008539109014973,
           0.7130132590628987,
           0.6716121533824257,
           0.7222782802487396,
           0.6867401109911393,
           0.5723823949404754,
           0.6254480699670633,
           0.7470809053707034,
           0.636565731340331,
           0.5973002973752901,
           0.7721848935591356,
           0.6133775578265069,
           0.6104757018633356,
           0.46424038005257345,
           0.7053414014292625,
           0.5568698570797899,
           0.6301724842300993,
           0.7998593366867613,
           0.6874738893824788,
           0.7520867682342283,
           0.6706330476341132,
           0.7281241599722288,
           0.6628387720774261,
           0.7587611112539101,
           0.6485366005135369,
           0.6148760132341025,
           0.6684202837898586,
           0.7149785310087569,
           0.748131046857663,
           0.6913475897939604,
           0.6803402714531486,
           0.7411146537885367,
           0.6328022395627929,
           0.7201042606597374,
           0.9999999999999999
          ]
         ]
        }
       ],
       "layout": {
        "coloraxis": {
         "colorbar": {
          "title": {
           "text": "Similarity Score"
          }
         },
         "colorscale": [
          [
           0,
           "rgb(247,252,240)"
          ],
          [
           0.125,
           "rgb(224,243,219)"
          ],
          [
           0.25,
           "rgb(204,235,197)"
          ],
          [
           0.375,
           "rgb(168,221,181)"
          ],
          [
           0.5,
           "rgb(123,204,196)"
          ],
          [
           0.625,
           "rgb(78,179,211)"
          ],
          [
           0.75,
           "rgb(43,140,190)"
          ],
          [
           0.875,
           "rgb(8,104,172)"
          ],
          [
           1,
           "rgb(8,64,129)"
          ]
         ]
        },
        "height": 800,
        "hoverlabel": {
         "bgcolor": "white",
         "font": {
          "family": "Rockwell",
          "size": 16
         }
        },
        "legend": {
         "title": {
          "text": "Trend"
         }
        },
        "margin": {
         "t": 60
        },
        "showlegend": true,
        "template": {
         "data": {
          "bar": [
           {
            "error_x": {
             "color": "#2a3f5f"
            },
            "error_y": {
             "color": "#2a3f5f"
            },
            "marker": {
             "line": {
              "color": "#E5ECF6",
              "width": 0.5
             },
             "pattern": {
              "fillmode": "overlay",
              "size": 10,
              "solidity": 0.2
             }
            },
            "type": "bar"
           }
          ],
          "barpolar": [
           {
            "marker": {
             "line": {
              "color": "#E5ECF6",
              "width": 0.5
             },
             "pattern": {
              "fillmode": "overlay",
              "size": 10,
              "solidity": 0.2
             }
            },
            "type": "barpolar"
           }
          ],
          "carpet": [
           {
            "aaxis": {
             "endlinecolor": "#2a3f5f",
             "gridcolor": "white",
             "linecolor": "white",
             "minorgridcolor": "white",
             "startlinecolor": "#2a3f5f"
            },
            "baxis": {
             "endlinecolor": "#2a3f5f",
             "gridcolor": "white",
             "linecolor": "white",
             "minorgridcolor": "white",
             "startlinecolor": "#2a3f5f"
            },
            "type": "carpet"
           }
          ],
          "choropleth": [
           {
            "colorbar": {
             "outlinewidth": 0,
             "ticks": ""
            },
            "type": "choropleth"
           }
          ],
          "contour": [
           {
            "colorbar": {
             "outlinewidth": 0,
             "ticks": ""
            },
            "colorscale": [
             [
              0,
              "#0d0887"
             ],
             [
              0.1111111111111111,
              "#46039f"
             ],
             [
              0.2222222222222222,
              "#7201a8"
             ],
             [
              0.3333333333333333,
              "#9c179e"
             ],
             [
              0.4444444444444444,
              "#bd3786"
             ],
             [
              0.5555555555555556,
              "#d8576b"
             ],
             [
              0.6666666666666666,
              "#ed7953"
             ],
             [
              0.7777777777777778,
              "#fb9f3a"
             ],
             [
              0.8888888888888888,
              "#fdca26"
             ],
             [
              1,
              "#f0f921"
             ]
            ],
            "type": "contour"
           }
          ],
          "contourcarpet": [
           {
            "colorbar": {
             "outlinewidth": 0,
             "ticks": ""
            },
            "type": "contourcarpet"
           }
          ],
          "heatmap": [
           {
            "colorbar": {
             "outlinewidth": 0,
             "ticks": ""
            },
            "colorscale": [
             [
              0,
              "#0d0887"
             ],
             [
              0.1111111111111111,
              "#46039f"
             ],
             [
              0.2222222222222222,
              "#7201a8"
             ],
             [
              0.3333333333333333,
              "#9c179e"
             ],
             [
              0.4444444444444444,
              "#bd3786"
             ],
             [
              0.5555555555555556,
              "#d8576b"
             ],
             [
              0.6666666666666666,
              "#ed7953"
             ],
             [
              0.7777777777777778,
              "#fb9f3a"
             ],
             [
              0.8888888888888888,
              "#fdca26"
             ],
             [
              1,
              "#f0f921"
             ]
            ],
            "type": "heatmap"
           }
          ],
          "heatmapgl": [
           {
            "colorbar": {
             "outlinewidth": 0,
             "ticks": ""
            },
            "colorscale": [
             [
              0,
              "#0d0887"
             ],
             [
              0.1111111111111111,
              "#46039f"
             ],
             [
              0.2222222222222222,
              "#7201a8"
             ],
             [
              0.3333333333333333,
              "#9c179e"
             ],
             [
              0.4444444444444444,
              "#bd3786"
             ],
             [
              0.5555555555555556,
              "#d8576b"
             ],
             [
              0.6666666666666666,
              "#ed7953"
             ],
             [
              0.7777777777777778,
              "#fb9f3a"
             ],
             [
              0.8888888888888888,
              "#fdca26"
             ],
             [
              1,
              "#f0f921"
             ]
            ],
            "type": "heatmapgl"
           }
          ],
          "histogram": [
           {
            "marker": {
             "pattern": {
              "fillmode": "overlay",
              "size": 10,
              "solidity": 0.2
             }
            },
            "type": "histogram"
           }
          ],
          "histogram2d": [
           {
            "colorbar": {
             "outlinewidth": 0,
             "ticks": ""
            },
            "colorscale": [
             [
              0,
              "#0d0887"
             ],
             [
              0.1111111111111111,
              "#46039f"
             ],
             [
              0.2222222222222222,
              "#7201a8"
             ],
             [
              0.3333333333333333,
              "#9c179e"
             ],
             [
              0.4444444444444444,
              "#bd3786"
             ],
             [
              0.5555555555555556,
              "#d8576b"
             ],
             [
              0.6666666666666666,
              "#ed7953"
             ],
             [
              0.7777777777777778,
              "#fb9f3a"
             ],
             [
              0.8888888888888888,
              "#fdca26"
             ],
             [
              1,
              "#f0f921"
             ]
            ],
            "type": "histogram2d"
           }
          ],
          "histogram2dcontour": [
           {
            "colorbar": {
             "outlinewidth": 0,
             "ticks": ""
            },
            "colorscale": [
             [
              0,
              "#0d0887"
             ],
             [
              0.1111111111111111,
              "#46039f"
             ],
             [
              0.2222222222222222,
              "#7201a8"
             ],
             [
              0.3333333333333333,
              "#9c179e"
             ],
             [
              0.4444444444444444,
              "#bd3786"
             ],
             [
              0.5555555555555556,
              "#d8576b"
             ],
             [
              0.6666666666666666,
              "#ed7953"
             ],
             [
              0.7777777777777778,
              "#fb9f3a"
             ],
             [
              0.8888888888888888,
              "#fdca26"
             ],
             [
              1,
              "#f0f921"
             ]
            ],
            "type": "histogram2dcontour"
           }
          ],
          "mesh3d": [
           {
            "colorbar": {
             "outlinewidth": 0,
             "ticks": ""
            },
            "type": "mesh3d"
           }
          ],
          "parcoords": [
           {
            "line": {
             "colorbar": {
              "outlinewidth": 0,
              "ticks": ""
             }
            },
            "type": "parcoords"
           }
          ],
          "pie": [
           {
            "automargin": true,
            "type": "pie"
           }
          ],
          "scatter": [
           {
            "fillpattern": {
             "fillmode": "overlay",
             "size": 10,
             "solidity": 0.2
            },
            "type": "scatter"
           }
          ],
          "scatter3d": [
           {
            "line": {
             "colorbar": {
              "outlinewidth": 0,
              "ticks": ""
             }
            },
            "marker": {
             "colorbar": {
              "outlinewidth": 0,
              "ticks": ""
             }
            },
            "type": "scatter3d"
           }
          ],
          "scattercarpet": [
           {
            "marker": {
             "colorbar": {
              "outlinewidth": 0,
              "ticks": ""
             }
            },
            "type": "scattercarpet"
           }
          ],
          "scattergeo": [
           {
            "marker": {
             "colorbar": {
              "outlinewidth": 0,
              "ticks": ""
             }
            },
            "type": "scattergeo"
           }
          ],
          "scattergl": [
           {
            "marker": {
             "colorbar": {
              "outlinewidth": 0,
              "ticks": ""
             }
            },
            "type": "scattergl"
           }
          ],
          "scattermapbox": [
           {
            "marker": {
             "colorbar": {
              "outlinewidth": 0,
              "ticks": ""
             }
            },
            "type": "scattermapbox"
           }
          ],
          "scatterpolar": [
           {
            "marker": {
             "colorbar": {
              "outlinewidth": 0,
              "ticks": ""
             }
            },
            "type": "scatterpolar"
           }
          ],
          "scatterpolargl": [
           {
            "marker": {
             "colorbar": {
              "outlinewidth": 0,
              "ticks": ""
             }
            },
            "type": "scatterpolargl"
           }
          ],
          "scatterternary": [
           {
            "marker": {
             "colorbar": {
              "outlinewidth": 0,
              "ticks": ""
             }
            },
            "type": "scatterternary"
           }
          ],
          "surface": [
           {
            "colorbar": {
             "outlinewidth": 0,
             "ticks": ""
            },
            "colorscale": [
             [
              0,
              "#0d0887"
             ],
             [
              0.1111111111111111,
              "#46039f"
             ],
             [
              0.2222222222222222,
              "#7201a8"
             ],
             [
              0.3333333333333333,
              "#9c179e"
             ],
             [
              0.4444444444444444,
              "#bd3786"
             ],
             [
              0.5555555555555556,
              "#d8576b"
             ],
             [
              0.6666666666666666,
              "#ed7953"
             ],
             [
              0.7777777777777778,
              "#fb9f3a"
             ],
             [
              0.8888888888888888,
              "#fdca26"
             ],
             [
              1,
              "#f0f921"
             ]
            ],
            "type": "surface"
           }
          ],
          "table": [
           {
            "cells": {
             "fill": {
              "color": "#EBF0F8"
             },
             "line": {
              "color": "white"
             }
            },
            "header": {
             "fill": {
              "color": "#C8D4E3"
             },
             "line": {
              "color": "white"
             }
            },
            "type": "table"
           }
          ]
         },
         "layout": {
          "annotationdefaults": {
           "arrowcolor": "#2a3f5f",
           "arrowhead": 0,
           "arrowwidth": 1
          },
          "autotypenumbers": "strict",
          "coloraxis": {
           "colorbar": {
            "outlinewidth": 0,
            "ticks": ""
           }
          },
          "colorscale": {
           "diverging": [
            [
             0,
             "#8e0152"
            ],
            [
             0.1,
             "#c51b7d"
            ],
            [
             0.2,
             "#de77ae"
            ],
            [
             0.3,
             "#f1b6da"
            ],
            [
             0.4,
             "#fde0ef"
            ],
            [
             0.5,
             "#f7f7f7"
            ],
            [
             0.6,
             "#e6f5d0"
            ],
            [
             0.7,
             "#b8e186"
            ],
            [
             0.8,
             "#7fbc41"
            ],
            [
             0.9,
             "#4d9221"
            ],
            [
             1,
             "#276419"
            ]
           ],
           "sequential": [
            [
             0,
             "#0d0887"
            ],
            [
             0.1111111111111111,
             "#46039f"
            ],
            [
             0.2222222222222222,
             "#7201a8"
            ],
            [
             0.3333333333333333,
             "#9c179e"
            ],
            [
             0.4444444444444444,
             "#bd3786"
            ],
            [
             0.5555555555555556,
             "#d8576b"
            ],
            [
             0.6666666666666666,
             "#ed7953"
            ],
            [
             0.7777777777777778,
             "#fb9f3a"
            ],
            [
             0.8888888888888888,
             "#fdca26"
            ],
            [
             1,
             "#f0f921"
            ]
           ],
           "sequentialminus": [
            [
             0,
             "#0d0887"
            ],
            [
             0.1111111111111111,
             "#46039f"
            ],
            [
             0.2222222222222222,
             "#7201a8"
            ],
            [
             0.3333333333333333,
             "#9c179e"
            ],
            [
             0.4444444444444444,
             "#bd3786"
            ],
            [
             0.5555555555555556,
             "#d8576b"
            ],
            [
             0.6666666666666666,
             "#ed7953"
            ],
            [
             0.7777777777777778,
             "#fb9f3a"
            ],
            [
             0.8888888888888888,
             "#fdca26"
            ],
            [
             1,
             "#f0f921"
            ]
           ]
          },
          "colorway": [
           "#636efa",
           "#EF553B",
           "#00cc96",
           "#ab63fa",
           "#FFA15A",
           "#19d3f3",
           "#FF6692",
           "#B6E880",
           "#FF97FF",
           "#FECB52"
          ],
          "font": {
           "color": "#2a3f5f"
          },
          "geo": {
           "bgcolor": "white",
           "lakecolor": "white",
           "landcolor": "#E5ECF6",
           "showlakes": true,
           "showland": true,
           "subunitcolor": "white"
          },
          "hoverlabel": {
           "align": "left"
          },
          "hovermode": "closest",
          "mapbox": {
           "style": "light"
          },
          "paper_bgcolor": "white",
          "plot_bgcolor": "#E5ECF6",
          "polar": {
           "angularaxis": {
            "gridcolor": "white",
            "linecolor": "white",
            "ticks": ""
           },
           "bgcolor": "#E5ECF6",
           "radialaxis": {
            "gridcolor": "white",
            "linecolor": "white",
            "ticks": ""
           }
          },
          "scene": {
           "xaxis": {
            "backgroundcolor": "#E5ECF6",
            "gridcolor": "white",
            "gridwidth": 2,
            "linecolor": "white",
            "showbackground": true,
            "ticks": "",
            "zerolinecolor": "white"
           },
           "yaxis": {
            "backgroundcolor": "#E5ECF6",
            "gridcolor": "white",
            "gridwidth": 2,
            "linecolor": "white",
            "showbackground": true,
            "ticks": "",
            "zerolinecolor": "white"
           },
           "zaxis": {
            "backgroundcolor": "#E5ECF6",
            "gridcolor": "white",
            "gridwidth": 2,
            "linecolor": "white",
            "showbackground": true,
            "ticks": "",
            "zerolinecolor": "white"
           }
          },
          "shapedefaults": {
           "line": {
            "color": "#2a3f5f"
           }
          },
          "ternary": {
           "aaxis": {
            "gridcolor": "white",
            "linecolor": "white",
            "ticks": ""
           },
           "baxis": {
            "gridcolor": "white",
            "linecolor": "white",
            "ticks": ""
           },
           "bgcolor": "#E5ECF6",
           "caxis": {
            "gridcolor": "white",
            "linecolor": "white",
            "ticks": ""
           }
          },
          "title": {
           "x": 0.05
          },
          "xaxis": {
           "automargin": true,
           "gridcolor": "white",
           "linecolor": "white",
           "ticks": "",
           "title": {
            "standoff": 15
           },
           "zerolinecolor": "white",
           "zerolinewidth": 2
          },
          "yaxis": {
           "automargin": true,
           "gridcolor": "white",
           "linecolor": "white",
           "ticks": "",
           "title": {
            "standoff": 15
           },
           "zerolinecolor": "white",
           "zerolinewidth": 2
          }
         }
        },
        "title": {
         "font": {
          "color": "Black",
          "size": 22
         },
         "text": "<b>Similarity Matrix",
         "x": 0.55,
         "xanchor": "center",
         "y": 0.95,
         "yanchor": "top"
        },
        "width": 800,
        "xaxis": {
         "anchor": "y",
         "constrain": "domain",
         "domain": [
          0,
          1
         ],
         "scaleanchor": "y"
        },
        "yaxis": {
         "anchor": "x",
         "autorange": "reversed",
         "constrain": "domain",
         "domain": [
          0,
          1
         ]
        }
       }
      },
      "text/html": [
       "<div>                            <div id=\"302d1964-4a9e-435b-8382-6f22dd7629b9\" class=\"plotly-graph-div\" style=\"height:800px; width:800px;\"></div>            <script type=\"text/javascript\">                require([\"plotly\"], function(Plotly) {                    window.PLOTLYENV=window.PLOTLYENV || {};                                    if (document.getElementById(\"302d1964-4a9e-435b-8382-6f22dd7629b9\")) {                    Plotly.newPlot(                        \"302d1964-4a9e-435b-8382-6f22dd7629b9\",                        [{\"coloraxis\":\"coloraxis\",\"name\":\"0\",\"x\":[\"0_elonmusk_speech_and\",\"1_speech_free_elon\",\"2_takeover_hostile_poised\",\"3_billion_buy_offers\",\"4_elonmusk_twitter_board\",\"5_musk_elon_for\",\"6_stake_92_passive\",\"7_teslaownerssv_tesla_vaibh...\",\"8_poison_pill_known\",\"9_trump_donald_differently\",\"10_twtr_per_as\",\"11_billym2k_pmarca_ggreenwald\",\"12_musks_deal_bid\",\"13_billym2k_yes_waitbutwhy\",\"14_buy_what_we\",\"15_hunter_laptop_story\",\"16_distraction_analysts_hos...\",\"17_shareholders_board_owns\",\"18_dorsey_jack_former\",\"19_elonmusk_420_stake\",\"20_leadership_drama_lessons\",\"21_ceo_temporary_expected\",\"22_shareholder_largest_twit...\",\"23_liberals_cnns_buying\",\"24_tender_offer_financing\",\"25_bond_leftleaning_sealed\",\"26_owns_own_owned\",\"27_directors_board_appoint\",\"28_financing_equity_bound\",\"29_gates_bill_farmland\",\"30_sued_shareholder_disclos...\",\"31_saudi_prince_rejects\",\"32_billiondollar_position_put\",\"33_homeless_shelter_into\",\"34_net_worth_billion\",\"35_httpstcotealjwlsdp_https...\",\"36_tesla_2014_meaningless\",\"37_texas_state_acres\",\"38_tesla_shares_filings\",\"39_aoc_hitting_stop\",\"40_verified_crypto_scam\",\"41_china_influence_give\",\"42_fee_include_billion\",\"43_join_board_joining\",\"44_power_solar_waitbutwhy\",\"45_edit_button_an\",\"46_executive_slash_meta\",\"47_larry_ellison_oracle\",\"48_bee_babylon_satire\",\"49_allowed_as_private\",\"50_back_step_away\",\"51_billionaires_heels_pols\",\"52_225_amounting_289\",\"53_thoma_bravo_partner\",\"54_dogecoin_doge_memebased\",\"55_rogan_joe_superhero\",\"56_you_follow_myspace\",\"57_users_casual_slight\"],\"y\":[\"0_elonmusk_speech_and\",\"1_speech_free_elon\",\"2_takeover_hostile_poised\",\"3_billion_buy_offers\",\"4_elonmusk_twitter_board\",\"5_musk_elon_for\",\"6_stake_92_passive\",\"7_teslaownerssv_tesla_vaibh...\",\"8_poison_pill_known\",\"9_trump_donald_differently\",\"10_twtr_per_as\",\"11_billym2k_pmarca_ggreenwald\",\"12_musks_deal_bid\",\"13_billym2k_yes_waitbutwhy\",\"14_buy_what_we\",\"15_hunter_laptop_story\",\"16_distraction_analysts_hos...\",\"17_shareholders_board_owns\",\"18_dorsey_jack_former\",\"19_elonmusk_420_stake\",\"20_leadership_drama_lessons\",\"21_ceo_temporary_expected\",\"22_shareholder_largest_twit...\",\"23_liberals_cnns_buying\",\"24_tender_offer_financing\",\"25_bond_leftleaning_sealed\",\"26_owns_own_owned\",\"27_directors_board_appoint\",\"28_financing_equity_bound\",\"29_gates_bill_farmland\",\"30_sued_shareholder_disclos...\",\"31_saudi_prince_rejects\",\"32_billiondollar_position_put\",\"33_homeless_shelter_into\",\"34_net_worth_billion\",\"35_httpstcotealjwlsdp_https...\",\"36_tesla_2014_meaningless\",\"37_texas_state_acres\",\"38_tesla_shares_filings\",\"39_aoc_hitting_stop\",\"40_verified_crypto_scam\",\"41_china_influence_give\",\"42_fee_include_billion\",\"43_join_board_joining\",\"44_power_solar_waitbutwhy\",\"45_edit_button_an\",\"46_executive_slash_meta\",\"47_larry_ellison_oracle\",\"48_bee_babylon_satire\",\"49_allowed_as_private\",\"50_back_step_away\",\"51_billionaires_heels_pols\",\"52_225_amounting_289\",\"53_thoma_bravo_partner\",\"54_dogecoin_doge_memebased\",\"55_rogan_joe_superhero\",\"56_you_follow_myspace\",\"57_users_casual_slight\"],\"z\":[[1.0,0.944728355232752,0.8673193916256128,0.7929467200840887,0.7286345492490034,0.8271345475730698,0.8915815994661973,0.6919540436244358,0.6532010539894907,0.6416285808166,0.750131701167601,0.7339606026576131,0.597378899976493,0.7499938744941874,0.6790563602885842,0.8220581818972711,0.7452980955497237,0.7692953367794372,0.6858074564339702,0.6991199213697942,0.763661307287923,0.6929432815982239,0.7187366037344634,0.7440452503830157,0.7278947688226435,0.6021390630593639,0.7199433174974257,0.6894234301297727,0.6373000764349266,0.622490782889801,0.7279885499578178,0.6851788106318782,0.6329626451036243,0.7591915479642302,0.6364180583665466,0.6358960590087537,0.3084005443251818,0.7342063611268602,0.5526205016671155,0.6203555301268485,0.7783145003623961,0.6295868026613867,0.7260208976830176,0.731040570590576,0.6816057994578978,0.6849674526511356,0.7399704920047585,0.7146214320651638,0.6707602968206019,0.6678968211095406,0.7188311753154697,0.7772008011398674,0.7085456747010523,0.660484426651218,0.7216428633959605,0.6211032186089503,0.7150020545429487,0.7857081902474556],[0.944728355232752,0.9999999999999996,0.91871184748366,0.7594943895217927,0.7264415346898883,0.8165977614361231,0.8395661706759812,0.7151963626333071,0.6581504948560075,0.6644018307285235,0.7381998444240859,0.713069639930197,0.6269376021990878,0.7420231021791962,0.7225708075473503,0.8167052003111988,0.7548407525751752,0.7764295745129906,0.6862545117519132,0.6821519185488796,0.7756332919183111,0.7071808979603084,0.7096371598983122,0.7037562035760625,0.7251822182029253,0.6195015773808261,0.7342696059629766,0.679322378802939,0.6618026384387998,0.6335290751561795,0.745620191774016,0.6847263724402973,0.6404686437414462,0.7813062472020221,0.6308628163027568,0.655503431992616,0.3196315297021321,0.7451951861508468,0.5698306635245851,0.6260361655760857,0.7957312326800599,0.6550588508080761,0.7225884166266795,0.755901464979051,0.6872615979938272,0.6988134084786062,0.7608816579965774,0.7118431599688924,0.6771032790798794,0.6650746860718411,0.7532089939653299,0.7837699418487748,0.7259643573295339,0.6752283972059241,0.7397554508756643,0.6207242564057269,0.7180083727839497,0.7894434707340297],[0.8673193916256128,0.91871184748366,0.9999999999999999,0.7403697915027716,0.7205933147702249,0.7204325727804058,0.8107496987777153,0.6898527615719878,0.607912959253615,0.6472644180601055,0.6966263333320647,0.7051736541616809,0.5638309927518808,0.7343809274244568,0.6546559289519629,0.7779092223338169,0.7284018630292253,0.7453896833210948,0.6392736792404585,0.6459260848769579,0.7180598209878482,0.6838134743413886,0.6917342582230515,0.6763471859522941,0.6925496095945392,0.607382154251539,0.7195461323683467,0.6347028037598053,0.6354388614030444,0.6340691010225565,0.7257021181514431,0.6644344242933453,0.6123237889902682,0.7388989601399871,0.6122959610658343,0.6638134159634863,0.2956715756314079,0.7210174732300265,0.5738999932668434,0.6240551397404754,0.7456264130343657,0.6311914574231485,0.6940377890602193,0.763868234423821,0.6486946746883278,0.6814988408118539,0.7258465033403434,0.6821103024031239,0.647525848460436,0.6627051049708903,0.7399881827866481,0.7371254817930687,0.6994289767378101,0.6386896716602468,0.7309863296502883,0.582161752034838,0.692486275973084,0.7145703070534493],[0.7929467200840887,0.7594943895217927,0.7403697915027716,1.0,0.7070994666403391,0.7324028425314011,0.7746405656622481,0.7416323217290994,0.6400433043438134,0.698679949655553,0.6990541301344804,0.6558931038405126,0.6304590498991156,0.7644402860604638,0.6484752882116767,0.7595041752694691,0.7445647984139708,0.8407788031619081,0.7341065571577008,0.7189063387594798,0.7544375905306291,0.704355470512414,0.7328774769652068,0.7997771864074474,0.7217684229409301,0.7082155831615622,0.677903738841608,0.6857498210849361,0.6959354342146278,0.6890286050912404,0.7034107970005131,0.7337329200589482,0.6326625683324865,0.7241553104021174,0.6535867660172381,0.6161233987707113,0.3205133044325168,0.7653502483214729,0.5710018873971074,0.6893335431496534,0.7553904538052201,0.6196549969041516,0.7066538399340548,0.7049515045994295,0.7377620105967351,0.667561083202004,0.677777456557235,0.7667773209894193,0.6728606150665782,0.7056308506699663,0.7424720636526044,0.7489158738218861,0.7358906395412201,0.6894129620810014,0.715429571487874,0.6662526965424977,0.7356994775165325,0.7227959688527017],[0.7286345492490034,0.7264415346898883,0.7205933147702249,0.7070994666403391,0.9999999999999991,0.6595824529706504,0.7247669265139387,0.754889288959063,0.578903014644929,0.6381057147598634,0.6778469014226554,0.6602059951365113,0.5789267111203229,0.7716892170783181,0.661397094416152,0.7889884458843526,0.6920419095100833,0.7287982699943094,0.7283377752472545,0.6177015282931446,0.837450516096685,0.5706921514167222,0.66736459330872,0.7205702386452921,0.687439449010899,0.794580598532735,0.7301968656226705,0.7056672763245773,0.5640749555125703,0.7667416800603648,0.7603595906237092,0.6992439604207075,0.5749601699373053,0.7564567366395086,0.6176555593297379,0.8325905808053784,0.3739367537505146,0.6923053315727608,0.5485880867135349,0.8024468468306325,0.739403451136036,0.6810076391147828,0.7380379216134401,0.7954423956358021,0.7146581002614227,0.7066164582482397,0.7140564509272542,0.6957381779467628,0.6743269312612191,0.6170167064273151,0.7415233916059277,0.7037159822834846,0.7070005954248322,0.7917797540008485,0.7258925877717011,0.6247030353588471,0.6822473517671886,0.7392186159091476],[0.8271345475730698,0.8165977614361231,0.7204325727804058,0.7324028425314011,0.6595824529706504,1.0000000000000002,0.8298661098443869,0.6399904565026544,0.6448974455454688,0.58971648241517,0.7031454561617546,0.6590001148421408,0.660729555016712,0.7086256483494326,0.7233187103461329,0.8087521569051328,0.7009336133522152,0.7070081777608928,0.6504613692408823,0.6638616421002047,0.7894662451459247,0.6250453469575699,0.71221551840215,0.6909905971229957,0.6610566010118246,0.5697015061138404,0.677560830449823,0.6247323394702481,0.6038097071241046,0.5619044373624158,0.7092101592254678,0.6151385718545563,0.6325592546769594,0.7411324783738531,0.5909544917199103,0.5563394890682656,0.3612428242708215,0.6992821441420966,0.5535269248599087,0.5795694449964035,0.7572517439536963,0.6160765209774707,0.6923913838601623,0.6487678790412595,0.7051875551157212,0.649841245304061,0.7186670768049714,0.6608499846451006,0.6407605500250191,0.6494021381879089,0.6520348111534425,0.7309425761691513,0.6739792756973897,0.6301516856231546,0.6822742659318577,0.6174449202099346,0.703815479673762,0.8544299612324571],[0.8915815994661973,0.8395661706759812,0.8107496987777153,0.7746405656622481,0.7247669265139387,0.8298661098443869,1.0000000000000004,0.6607737814089186,0.631530731461305,0.6293530472914399,0.7800383938956446,0.734316317918007,0.6096380643856816,0.7690096706118448,0.6897981131541141,0.8540022032713276,0.7705013748228251,0.7821183034118199,0.6818903232605832,0.7109925072875363,0.7497198694489766,0.6683798392234042,0.7556107035549098,0.7478343210586523,0.7109986722021412,0.6066591421450904,0.7277988630158412,0.7115837931263072,0.612558379985036,0.6253070497684279,0.7460532369411612,0.7018838539846215,0.6441320452954005,0.7717680829884574,0.6036230952009359,0.6238516711314397,0.3231713971358996,0.7411217617698742,0.5375631474237225,0.6246146787973064,0.7898202307157973,0.6695129427725119,0.7402887182906481,0.7259352241635888,0.6950650707752977,0.684942093247058,0.756961336121446,0.7276898586080407,0.6567628537257462,0.7000939081686126,0.7113504350560519,0.7583781081549141,0.6930787295705922,0.659245372472985,0.7423124446240288,0.6245675258974095,0.7183541017330795,0.8179313730914768],[0.6919540436244358,0.7151963626333071,0.6898527615719878,0.7416323217290994,0.754889288959063,0.6399904565026544,0.6607737814089186,0.9999999999999999,0.5671870371843997,0.6089070246264534,0.6566681461759849,0.6495720828316363,0.5671944610957069,0.7265432020289334,0.5962606476097174,0.7282896777272678,0.6795964916877395,0.7191846681058882,0.7615025946229109,0.6468226906702254,0.8128135545896786,0.6443211873064444,0.7356345455434217,0.7322321700796777,0.6603031081192681,0.7935603051882665,0.7169682438635663,0.6688103319207712,0.715984097272936,0.728282571587604,0.7111151400422802,0.7340076184403673,0.543273282674958,0.7388178761906705,0.6430051292515295,0.6855474398091963,0.3386619536493459,0.7262003293453361,0.6051254734459434,0.7726918465890158,0.7290932479635014,0.6690044177269172,0.6745235480628945,0.7208454417675889,0.736156778089196,0.6836774622031576,0.6992912000427746,0.7203495579008683,0.6607515994278834,0.6317048451513054,0.7816573013161869,0.6951975548750244,0.7413195101920311,0.7836637272152507,0.7400575944265708,0.6303474052573715,0.6963363064473865,0.6966425315843918],[0.6532010539894907,0.6581504948560075,0.607912959253615,0.6400433043438134,0.578903014644929,0.6448974455454688,0.631530731461305,0.5671870371843997,0.9999999999999996,0.48577136503092244,0.6161694405929883,0.5768429349938735,0.5910917011167047,0.5974316000073433,0.6046393433206539,0.6145071638110926,0.623167310608201,0.6020153252356175,0.5737300622146903,0.632265668346622,0.6296420840113025,0.5488865850104692,0.6132855281746501,0.6115923070726931,0.5529081532040105,0.5516660765080742,0.5780369810500237,0.5882362264028682,0.5225355168915949,0.5117066946047475,0.650486649795391,0.5858621675849862,0.5148503953495197,0.6310831571103817,0.5225676592745357,0.47747796161515665,0.3961545567156549,0.7424472969476146,0.4924579933624569,0.6863301313991994,0.5952074734857697,0.5359797383821363,0.579059225273389,0.5713842954134454,0.5473160902709,0.6107567498551233,0.5690107490477492,0.6179935784115633,0.5575077102597383,0.6116995432738053,0.6070834196425656,0.6103482797840247,0.6255954440388056,0.5618825688987387,0.6220893376448864,0.5965396970195875,0.6264103200069062,0.6332719990284731],[0.6416285808166,0.6644018307285235,0.6472644180601055,0.698679949655553,0.6381057147598634,0.58971648241517,0.6293530472914399,0.6089070246264534,0.48577136503092244,0.9999999999999999,0.621615409384979,0.5415898926444638,0.5909883726882574,0.6262034518910101,0.605873872552253,0.6727467049996604,0.6845759440101185,0.694283402627978,0.6112200298998627,0.6141689451953558,0.6585218244000747,0.6364158544958867,0.6262509231967599,0.6353945209924626,0.7101568133702909,0.5950587980905382,0.6697800128753505,0.5681941650710196,0.5724068016993833,0.5704667611218701,0.6228623967517906,0.6353444203741503,0.5872428831401459,0.6768044389330556,0.5766209420871661,0.5840328111081813,0.2541162920238724,0.644778804660735,0.49741425353333185,0.5704778695204027,0.7045538066046098,0.5801368967755305,0.638294413380821,0.6511967347749599,0.6100268656564423,0.652444813891639,0.6525070347411752,0.6304866224770049,0.5791619884805972,0.6670806997082108,0.6590307241530855,0.7186151730916508,0.6571659136594155,0.6004844968353813,0.64661002965584,0.5993330201415801,0.6652765937398386,0.61870490621176],[0.750131701167601,0.7381998444240859,0.6966263333320647,0.6990541301344804,0.6778469014226554,0.7031454561617546,0.7800383938956446,0.6566681461759849,0.6161694405929883,0.621615409384979,1.0000000000000002,0.6819107381529232,0.6024285969977798,0.7031360791211642,0.685514719127497,0.765661535792677,0.7871192497562906,0.7178373001157908,0.6674544100526474,0.7279127235951427,0.7276385611382225,0.6606775993632914,0.7323837672043672,0.6753934340360339,0.7487402370814629,0.6131626646189057,0.7412645674183254,0.6818850149378982,0.6280177377897821,0.5945163965850528,0.7291721524365297,0.6621986378441941,0.620201206418727,0.7410628801183106,0.6274109503949868,0.6208944946952328,0.3306404917578009,0.7489021452059862,0.5835787527523283,0.6039179784815358,0.738949864287975,0.6371028369334917,0.7311274820269769,0.7032944446398819,0.6804518285313794,0.6866229822422844,0.7244264108109961,0.7319105424741557,0.6595875393707334,0.6765722950712951,0.7112440886160964,0.7611739360534793,0.7000123109647902,0.6802329186107059,0.7254637272818827,0.6143293060226596,0.7330596355054244,0.7335088226411728],[0.7339606026576131,0.713069639930197,0.7051736541616809,0.6558931038405126,0.6602059951365113,0.6590001148421408,0.734316317918007,0.6495720828316363,0.5768429349938735,0.5415898926444638,0.6819107381529232,0.9999999999999993,0.6007738861729188,0.6453549445344839,0.6415688561995134,0.7165793708376453,0.6684903896310453,0.653595162018701,0.6280496308726677,0.6057235632327433,0.6476248514867617,0.5721365991935585,0.6987443850881491,0.6573617367026248,0.582643257379164,0.5963571444894977,0.6679885844460086,0.610317999224008,0.5851477095917006,0.5754010018207532,0.640022521707702,0.6328312306893351,0.5058378688654053,0.6957228497801932,0.493578568326419,0.5962598551920139,0.3620933682974041,0.6296869312274228,0.44179498925042926,0.5796271669999946,0.6861428650726411,0.5953876157892036,0.6148874890407928,0.6827427432603987,0.6618170106122139,0.6173944755283519,0.6745964521146487,0.6521909905159122,0.5544739982468022,0.6048320189511711,0.6438470197074466,0.6258157832174219,0.6156991964829615,0.6477315658556786,0.639718863338955,0.5943964982097336,0.6213934256026152,0.6690687273560229],[0.597378899976493,0.6269376021990878,0.5638309927518808,0.6304590498991156,0.5789267111203229,0.660729555016712,0.6096380643856816,0.5671944610957069,0.5910917011167047,0.5909883726882574,0.6024285969977798,0.6007738861729188,1.0000000000000007,0.6350349455054406,0.7710112439089637,0.6057745739893552,0.6234475550007988,0.5830520198412338,0.565104693826002,0.6299476932906244,0.6805005650699141,0.54030780571213,0.6487043138202336,0.5999779545673583,0.5587739427859671,0.5538129114391384,0.6241547881319014,0.5496190526394782,0.5822354184930532,0.5556721203451991,0.6689525532469115,0.5622503407543399,0.6007635097990858,0.6713979043748317,0.5225427603383406,0.5177684081276762,0.39930816191365015,0.6187594012599675,0.48634463596690714,0.49777357483876356,0.6221303479030358,0.5818427054079596,0.6173022962424282,0.6368017014264802,0.600348884931392,0.5654170816898749,0.5893463729573016,0.6020891068724122,0.6339885496217734,0.6119105448522622,0.6499202631913956,0.6089985679433685,0.6504248917012558,0.5769401447146829,0.6415442059680516,0.6039978853616024,0.6857919883550918,0.6421847096387506],[0.7499938744941874,0.7420231021791962,0.7343809274244568,0.7644402860604638,0.7716892170783181,0.7086256483494326,0.7690096706118448,0.7265432020289334,0.5974316000073433,0.6262034518910101,0.7031360791211642,0.6453549445344839,0.6350349455054406,1.0,0.6972627720589253,0.7864721834196567,0.70483567596807,0.7846896893490609,0.697666190397894,0.6681467088130321,0.7952243005678152,0.6120280081823402,0.7068769950379818,0.7052580926864687,0.7021090028249741,0.7108237705395775,0.7398569513842248,0.662569470154782,0.6087938954925634,0.6710944062048863,0.7345193457705632,0.6988337561239786,0.6038775637503632,0.7176304465829577,0.5933429433687315,0.6582444550411972,0.34790531322694773,0.6966034015148568,0.542553042677886,0.6935419310716069,0.7450234497664496,0.6942037773297267,0.7031750751865675,0.7296384001662054,0.7093308835398153,0.671218835479429,0.6907873982092065,0.7058102579670114,0.6162586196920806,0.6707870760931975,0.7509390810664289,0.6995432493012352,0.7403974350838511,0.7159652618286743,0.7375801625141973,0.6487442357184418,0.6908628009420323,0.7433161229527923],[0.6790563602885842,0.7225708075473503,0.6546559289519629,0.6484752882116767,0.661397094416152,0.7233187103461329,0.6897981131541141,0.5962606476097174,0.6046393433206539,0.605873872552253,0.685514719127497,0.6415688561995134,0.7710112439089637,0.6972627720589253,0.9999999999999997,0.700543565434528,0.6747729707596092,0.6839944779512223,0.6057919313468014,0.6366918878579741,0.7262904169086464,0.571331038987598,0.6546496350874932,0.6327464021329904,0.629850249733044,0.6078472555082396,0.7140836875696149,0.5874717293166907,0.5344137245915159,0.5813654673599793,0.703425764642913,0.5772336196706892,0.6130378709371224,0.7213360396531439,0.5161883908779855,0.5782194921507215,0.41947411903562876,0.6346836362078128,0.498969658571466,0.5520536374535614,0.7057216423805934,0.6461104932592281,0.6504113346670473,0.6676810708143606,0.6326180930675047,0.6169349270121411,0.6477109032556397,0.6252353630882157,0.6104983119680925,0.623098907136619,0.6825814355690627,0.6283477315988811,0.6736345574316756,0.6326364781353324,0.6787437059919879,0.6130568123224939,0.6596181586064421,0.7371080242779755],[0.8220581818972711,0.8167052003111988,0.7779092223338169,0.7595041752694691,0.7889884458843526,0.8087521569051328,0.8540022032713276,0.7282896777272678,0.6145071638110926,0.6727467049996604,0.765661535792677,0.7165793708376453,0.6057745739893552,0.7864721834196567,0.700543565434528,1.0000000000000002,0.7526741606388861,0.8062090073540754,0.7354582916701564,0.6825102863323285,0.7912718825363494,0.6543795651468111,0.7445321712482809,0.7320363703176842,0.7481518766809712,0.6899209797056838,0.7828950175821945,0.7150272700746384,0.6189125091490739,0.6908626626116678,0.7597891472323743,0.7077175026770991,0.6328211575896763,0.7938409057307743,0.6094691439569946,0.6894255006168206,0.3150957563658555,0.7294085670591736,0.5533509354762652,0.6815079113871417,0.8161820462984476,0.6919311085441967,0.7321735420563515,0.7603187959875048,0.7220111230920538,0.7179156390957533,0.7551265018235946,0.6925863263162295,0.6606560056137905,0.6724416487627979,0.7327156688843086,0.7742005718995393,0.706149078600742,0.6969634042958581,0.7547994115960561,0.6493132414002909,0.7238209808004012,0.8282262981396238],[0.7452980955497237,0.7548407525751752,0.7284018630292253,0.7445647984139708,0.6920419095100833,0.7009336133522152,0.7705013748228251,0.6795964916877395,0.623167310608201,0.6845759440101185,0.7871192497562906,0.6684903896310453,0.6234475550007988,0.70483567596807,0.6747729707596092,0.7526741606388861,0.9999999999999999,0.7337325201777505,0.684510749797812,0.7227634635948595,0.7201949954872379,0.7228795762352702,0.7216695827603926,0.7240979074978198,0.7654143144621212,0.6261753122061131,0.735009724355421,0.6847918015976028,0.6695098954492957,0.6359902401949104,0.7095230068337823,0.7341699847728564,0.6805492666561697,0.737287351995084,0.6246147336822947,0.5974691908958583,0.3344110547744954,0.7738760831275684,0.5691536211930945,0.6152805447400274,0.770075553511882,0.703397099704204,0.753381638534641,0.7108594733821476,0.7205400314051865,0.7157985371494774,0.749320041115453,0.7480561558821559,0.6666942182372887,0.7210618877746178,0.7132048215536841,0.7307040112665077,0.7251334618912495,0.6583966299005701,0.7508834592095007,0.6629591769556832,0.7562901038634251,0.7307458688212299],[0.7692953367794372,0.7764295745129906,0.7453896833210948,0.8407788031619081,0.7287982699943094,0.7070081777608928,0.7821183034118199,0.7191846681058882,0.6020153252356175,0.694283402627978,0.7178373001157908,0.653595162018701,0.5830520198412338,0.7846896893490609,0.6839944779512223,0.8062090073540754,0.7337325201777505,0.9999999999999998,0.7595018906007952,0.6941327709768019,0.7265619227422728,0.7166972658065274,0.7287407139765987,0.7409845804445191,0.7377543142904129,0.6782777227046607,0.7139073857278256,0.6714395126267072,0.6773703474150559,0.6926804505942197,0.7085881446414897,0.7328968572052048,0.6112090921104082,0.7437927196796064,0.6232352291552052,0.6532925631656972,0.27006173892428353,0.7606406565788706,0.5493770479043703,0.6957552775710983,0.7935788582790511,0.6442489756501486,0.726681669463954,0.7265241106984066,0.718921668219515,0.6659236246248141,0.7376440561845007,0.7557359546569914,0.6455481725119334,0.6804342399129173,0.7495039824629859,0.7215879162878944,0.7312201249274439,0.6948940567023942,0.7610122883192736,0.6396335770311635,0.6847239958979752,0.7347572608034068],[0.6858074564339702,0.6862545117519132,0.6392736792404585,0.7341065571577008,0.7283377752472545,0.6504613692408823,0.6818903232605832,0.7615025946229109,0.5737300622146903,0.6112200298998627,0.6674544100526474,0.6280496308726677,0.565104693826002,0.697666190397894,0.6057919313468014,0.7354582916701564,0.684510749797812,0.7595018906007952,1.0,0.66189348678387,0.7119543149665644,0.6251757085487568,0.6957988512340532,0.7889906056066385,0.7136169326980553,0.7145282769477237,0.7152532278438335,0.8121126751443157,0.7485497625603563,0.7390320550042193,0.6670646492651389,0.7593318449759481,0.5858260535503225,0.6759608749483463,0.6054690496091406,0.6552158274187154,0.27800286615563563,0.7202173529078689,0.5573518802145336,0.7569818362783278,0.6999506966465097,0.6480678961165613,0.7451946291173057,0.6881657873242304,0.7743250195142368,0.6221534442284897,0.6776875955334117,0.730881408980457,0.6493466602627969,0.6341520350617442,0.7812917696090662,0.6460614836044662,0.7535480663789318,0.6827713614202584,0.7234458560684249,0.6348311689349855,0.6227851381914387,0.6867548014632834],[0.6991199213697942,0.6821519185488796,0.6459260848769579,0.7189063387594798,0.6177015282931446,0.6638616421002047,0.7109925072875363,0.6468226906702254,0.632265668346622,0.6141689451953558,0.7279127235951427,0.6057235632327433,0.6299476932906244,0.6681467088130321,0.6366918878579741,0.6825102863323285,0.7227634635948595,0.6941327709768019,0.66189348678387,0.9999999999999999,0.6623752702782317,0.6757251115749638,0.7207303053726203,0.7111103382891054,0.6803745773365637,0.6061144853893232,0.6581401043918038,0.6593989314913509,0.6903636775113056,0.5922108606286988,0.6947777507148238,0.6510729776716471,0.616144797939881,0.6793968382308202,0.6216394635195656,0.5583003385124093,0.26481398177482757,0.759432700951777,0.5386532815584231,0.5978372635110049,0.691211425523744,0.6070774610407473,0.6571854958399377,0.6770849213028997,0.6971497873328332,0.6092813962569688,0.6500034792639726,0.7631740718810857,0.6574001970159001,0.6748185783601297,0.6895432736748797,0.6899105321262532,0.7041719116422483,0.6864492440059236,0.7127707694607704,0.6420790403166174,0.7271308851417255,0.6391977588539315],[0.763661307287923,0.7756332919183111,0.7180598209878482,0.7544375905306291,0.837450516096685,0.7894662451459247,0.7497198694489766,0.8128135545896786,0.6296420840113025,0.6585218244000747,0.7276385611382225,0.6476248514867617,0.6805005650699141,0.7952243005678152,0.7262904169086464,0.7912718825363494,0.7201949954872379,0.7265619227422728,0.7119543149665644,0.6623752702782317,1.0000000000000004,0.6192384167019199,0.7010126314593799,0.7049093495691904,0.70566318183784,0.7284255846316561,0.7258563953392102,0.67989204326252,0.6296297822648312,0.6755553377849685,0.7717699061190086,0.6722659045708808,0.6242266361595417,0.7737385038380467,0.6312444586529766,0.706916600226294,0.41749563149871444,0.7493710054488034,0.6225482313000732,0.7408430129237888,0.7384967036637087,0.6683076272518829,0.7462528050084992,0.7475429401837356,0.7160296392314096,0.7351493302761622,0.7332851025716364,0.6974257748319579,0.6760804716019375,0.6451117990024651,0.7435022408976447,0.7602807819761721,0.7187192992088494,0.8138076130949765,0.7162037551517761,0.6468288431540572,0.7415106922447594,0.7955645399265637],[0.6929432815982239,0.7071808979603084,0.6838134743413886,0.704355470512414,0.5706921514167222,0.6250453469575699,0.6683798392234042,0.6443211873064444,0.5488865850104692,0.6364158544958867,0.6606775993632914,0.5721365991935585,0.54030780571213,0.6120280081823402,0.571331038987598,0.6543795651468111,0.7228795762352702,0.7166972658065274,0.6251757085487568,0.6757251115749638,0.6192384167019199,1.0000000000000007,0.6333204234164086,0.6558660071282056,0.6909849478346052,0.5407053248792432,0.5983303932026403,0.5673873307291235,0.7034604893722742,0.5777704173762465,0.5791397299121102,0.6291471454432693,0.5807061559954729,0.6811408110938779,0.6028758404996879,0.5293115648175717,0.2571615329693912,0.6922967425432306,0.5288951869040405,0.5347313463845206,0.6730441836031474,0.5533478609676827,0.6498707182829323,0.630430665660159,0.640582563255202,0.6090741997145434,0.6119957709859167,0.7218645341429265,0.5784960957751845,0.6747335078587597,0.6520349789339474,0.6833068757564538,0.6341112858563756,0.5952368517661292,0.676727726287975,0.5986999370914963,0.6861730283122296,0.6403318540245118],[0.7187366037344634,0.7096371598983122,0.6917342582230515,0.7328774769652068,0.66736459330872,0.71221551840215,0.7556107035549098,0.7356345455434217,0.6132855281746501,0.6262509231967599,0.7323837672043672,0.6987443850881491,0.6487043138202336,0.7068769950379818,0.6546496350874932,0.7445321712482809,0.7216695827603926,0.7287407139765987,0.6957988512340532,0.7207303053726203,0.7010126314593799,0.6333204234164086,0.9999999999999998,0.741793546500543,0.6454915124888203,0.6666791486082241,0.7257376703845713,0.683795560672818,0.7247884169646799,0.6692583275598485,0.7395002310957566,0.7314467035267311,0.5858706781670238,0.7696368702539206,0.6310952766854065,0.6197428371723366,0.3458073558273492,0.7372528767753637,0.572153655913345,0.6773546654290682,0.7198894516413341,0.6624587647155884,0.7029997656083947,0.7392076328458079,0.7441808605334219,0.6667273244695816,0.7129030883830811,0.7602016768548382,0.6867822079367967,0.6959868964383206,0.7553621577381175,0.6937832060363083,0.7086554317811427,0.6997077318160627,0.7486663006827415,0.6296845145319352,0.6910791768833286,0.7147941874317805],[0.7440452503830157,0.7037562035760625,0.6763471859522941,0.7997771864074474,0.7205702386452921,0.6909905971229957,0.7478343210586523,0.7322321700796777,0.6115923070726931,0.6353945209924626,0.6753934340360339,0.6573617367026248,0.5999779545673583,0.7052580926864687,0.6327464021329904,0.7320363703176842,0.7240979074978198,0.7409845804445191,0.7889906056066385,0.7111103382891054,0.7049093495691904,0.6558660071282056,0.741793546500543,1.0,0.7045231874608666,0.672955237734072,0.6793718156262873,0.7396243936021847,0.6667003595167785,0.7145357460581128,0.6717355751353151,0.7527982163228255,0.6168574326859773,0.7832372442604327,0.6306097248148492,0.6252482931642089,0.289031044409388,0.7310469086924678,0.5697018374751353,0.7247010643854028,0.7136036850285485,0.6397787575285157,0.7286222475663033,0.7108342838711244,0.7216608141104979,0.7013797391612686,0.6665180014735004,0.7384233822948101,0.6789198667203803,0.6877872832326787,0.7221988227324957,0.6830708953811945,0.7617746107590166,0.7239739979425597,0.7411884898158245,0.6711063331111893,0.6840092348481054,0.7008539109014973],[0.7278947688226435,0.7251822182029253,0.6925496095945392,0.7217684229409301,0.687439449010899,0.6610566010118246,0.7109986722021412,0.6603031081192681,0.5529081532040105,0.7101568133702909,0.7487402370814629,0.582643257379164,0.5587739427859671,0.7021090028249741,0.629850249733044,0.7481518766809712,0.7654143144621212,0.7377543142904129,0.7136169326980553,0.6803745773365637,0.70566318183784,0.6909849478346052,0.6454915124888203,0.7045231874608666,0.9999999999999998,0.6076626039042081,0.7470446901864856,0.6731673758109442,0.64867990573127,0.6661186682386071,0.6998994396098317,0.6475680309484875,0.6125297147469159,0.6819999685229513,0.6630447425470438,0.619062654197315,0.32306467439296543,0.6955850577192435,0.5874358566597846,0.6010298422496126,0.7426697095810955,0.6696217196604328,0.7274600459887368,0.6630537617052793,0.7243357021552832,0.6548026244168765,0.6892318302244991,0.6739255680871338,0.6646589200959357,0.6674064602912739,0.7150982624921691,0.7305209866529254,0.7437824106985778,0.6547397709631952,0.7052856424869776,0.6202795251996911,0.7244789380690573,0.7130132590628987],[0.6021390630593639,0.6195015773808261,0.607382154251539,0.7082155831615622,0.794580598532735,0.5697015061138404,0.6066591421450904,0.7935603051882665,0.5516660765080742,0.5950587980905382,0.6131626646189057,0.5963571444894977,0.5538129114391384,0.7108237705395775,0.6078472555082396,0.6899209797056838,0.6261753122061131,0.6782777227046607,0.7145282769477237,0.6061144853893232,0.7284255846316561,0.5407053248792432,0.6666791486082241,0.672955237734072,0.6076626039042081,1.0000000000000002,0.7088881002896392,0.6506447159424877,0.5999678063889495,0.811955276046268,0.734702453027843,0.6586043822350103,0.5165057805861821,0.672785303129978,0.6093545004704162,0.6997991802159574,0.38367540720895404,0.6652991049638928,0.5289662710948195,0.7695000737787643,0.6757500315248425,0.6378794891735353,0.6557497078259079,0.7097561731767397,0.705524324858623,0.6235543212691654,0.6402348333875871,0.6616574490564222,0.614679422807368,0.582725169257308,0.7283365829651416,0.6422501108732455,0.670886416031015,0.740597786872564,0.7373290437256665,0.6469561446131447,0.6508746518459414,0.6716121533824257],[0.7199433174974257,0.7342696059629766,0.7195461323683467,0.677903738841608,0.7301968656226705,0.677560830449823,0.7277988630158412,0.7169682438635663,0.5780369810500237,0.6697800128753505,0.7412645674183254,0.6679885844460086,0.6241547881319014,0.7398569513842248,0.7140836875696149,0.7828950175821945,0.735009724355421,0.7139073857278256,0.7152532278438335,0.6581401043918038,0.7258563953392102,0.5983303932026403,0.7257376703845713,0.6793718156262873,0.7470446901864856,0.7088881002896392,0.9999999999999999,0.7034690939362482,0.643925946186551,0.6926254066695677,0.7319396134061671,0.6814544603864257,0.6189141855740956,0.7468833434912783,0.5990096107035462,0.6728300973150323,0.33166839131701975,0.6928445385853171,0.5634287080651913,0.6836431762889081,0.7328207401283342,0.7065566319754912,0.7291151429721034,0.743376153719556,0.6975655604170168,0.6692613595285393,0.7401991274563664,0.690808402181506,0.6545046308877174,0.6608476192931931,0.7773977232748992,0.6997095960394133,0.7306264089352097,0.681656867225316,0.743085167125028,0.6346160290703002,0.7033386293230202,0.7222782802487396],[0.6894234301297727,0.679322378802939,0.6347028037598053,0.6857498210849361,0.7056672763245773,0.6247323394702481,0.7115837931263072,0.6688103319207712,0.5882362264028682,0.5681941650710196,0.6818850149378982,0.610317999224008,0.5496190526394782,0.662569470154782,0.5874717293166907,0.7150272700746384,0.6847918015976028,0.6714395126267072,0.8121126751443157,0.6593989314913509,0.67989204326252,0.5673873307291235,0.683795560672818,0.7396243936021847,0.6731673758109442,0.6506447159424877,0.7034690939362482,1.0,0.6202410536908598,0.6671794108414989,0.7052068864899278,0.7486522094152204,0.6024712989163533,0.6518283767461255,0.6000281282887334,0.5960414407796325,0.292869052945281,0.6847152646767494,0.6244816268508879,0.6888377325431501,0.6699095403630935,0.6003976574231766,0.7706879642379285,0.6327859479621925,0.6554489015122344,0.5978998796798766,0.6760132772817512,0.6846317788580456,0.6255601022738002,0.6314462874111904,0.7306494162505153,0.6214502771481678,0.6828200826629949,0.6229417870217882,0.7021690063405779,0.592433643464863,0.6134366880754158,0.6867401109911393],[0.6373000764349266,0.6618026384387998,0.6354388614030444,0.6959354342146278,0.5640749555125703,0.6038097071241046,0.612558379985036,0.715984097272936,0.5225355168915949,0.5724068016993833,0.6280177377897821,0.5851477095917006,0.5822354184930532,0.6087938954925634,0.5344137245915159,0.6189125091490739,0.6695098954492957,0.6773703474150559,0.7485497625603563,0.6903636775113056,0.6296297822648312,0.7034604893722742,0.7247884169646799,0.6667003595167785,0.64867990573127,0.5999678063889495,0.643925946186551,0.6202410536908598,0.9999999999999993,0.638545608516272,0.6223038528985836,0.661405658478994,0.5652867393388257,0.6738796830059808,0.5758700739502914,0.5188069220454288,0.22436637591864306,0.6643158596483705,0.5332241541877377,0.5897460935341623,0.6428068127570853,0.5806608372173331,0.6304103584135906,0.6643437423305519,0.7530287198628001,0.5699938366726885,0.6458757602645893,0.7507167090109677,0.6702604266180388,0.6257688766873832,0.7155837340966815,0.6342341764536137,0.6947844969303121,0.6087461095730717,0.6754185373915788,0.5428861316523412,0.6415280840651403,0.5723823949404754],[0.622490782889801,0.6335290751561795,0.6340691010225565,0.6890286050912404,0.7667416800603648,0.5619044373624158,0.6253070497684279,0.728282571587604,0.5117066946047475,0.5704667611218701,0.5945163965850528,0.5754010018207532,0.5556721203451991,0.6710944062048863,0.5813654673599793,0.6908626626116678,0.6359902401949104,0.6926804505942197,0.7390320550042193,0.5922108606286988,0.6755553377849685,0.5777704173762465,0.6692583275598485,0.7145357460581128,0.6661186682386071,0.811955276046268,0.6926254066695677,0.6671794108414989,0.638545608516272,0.9999999999999998,0.7182162258275826,0.676929683684969,0.5475140387761768,0.6745143448429307,0.5941307968811174,0.7187236579719991,0.2743261132207161,0.6567666167009332,0.529220960197885,0.7224300678743643,0.6507345132009926,0.618832409508971,0.6778649157453576,0.7407379981321691,0.7110811071095284,0.619609206329707,0.6362493900710953,0.6776215051213034,0.6568682075435192,0.5896052518372772,0.7323236456811573,0.6156815242024374,0.672559075916545,0.7269101563928582,0.7513206832408516,0.6004160522434879,0.6251918945059166,0.6254480699670633],[0.7279885499578178,0.745620191774016,0.7257021181514431,0.7034107970005131,0.7603595906237092,0.7092101592254678,0.7460532369411612,0.7111151400422802,0.650486649795391,0.6228623967517906,0.7291721524365297,0.640022521707702,0.6689525532469115,0.7345193457705632,0.703425764642913,0.7597891472323743,0.7095230068337823,0.7085881446414897,0.6670646492651389,0.6947777507148238,0.7717699061190086,0.5791397299121102,0.7395002310957566,0.6717355751353151,0.6998994396098317,0.734702453027843,0.7319396134061671,0.7052068864899278,0.6223038528985836,0.7182162258275826,0.9999999999999993,0.654814610861483,0.6123530713357557,0.7284268432298573,0.6670119447555386,0.6819806924413843,0.3642411731693129,0.7211276957490559,0.6379882028880186,0.7060556995716492,0.733104094450334,0.6429206120514822,0.7342224832194273,0.7381758906210725,0.7181315726155092,0.67070872717432,0.7252444085335519,0.6762865282040555,0.701753858372238,0.6757206034250822,0.7304560179833881,0.7276989448265739,0.6947887654545639,0.7361148298603932,0.7590217302845769,0.6369652448757974,0.7012501872602062,0.7470809053707034],[0.6851788106318782,0.6847263724402973,0.6644344242933453,0.7337329200589482,0.6992439604207075,0.6151385718545563,0.7018838539846215,0.7340076184403673,0.5858621675849862,0.6353444203741503,0.6621986378441941,0.6328312306893351,0.5622503407543399,0.6988337561239786,0.5772336196706892,0.7077175026770991,0.7341699847728564,0.7328968572052048,0.7593318449759481,0.6510729776716471,0.6722659045708808,0.6291471454432693,0.7314467035267311,0.7527982163228255,0.6475680309484875,0.6586043822350103,0.6814544603864257,0.7486522094152204,0.661405658478994,0.676929683684969,0.654814610861483,1.0000000000000002,0.5556455167336212,0.683035953734167,0.5704483267691599,0.6130091130575693,0.292413890231097,0.722959002175356,0.5332763987905479,0.6726652315023226,0.7120162159535046,0.6424211513967883,0.6725353847227309,0.6906512658883251,0.6726107234848664,0.6436500775556913,0.6496683373502097,0.7344093278342083,0.593731875164871,0.656205781256596,0.7332263983448535,0.6572036727454414,0.7033255888004991,0.6652642438045768,0.7018978407133252,0.5819658276129724,0.6106240825237598,0.636565731340331],[0.6329626451036243,0.6404686437414462,0.6123237889902682,0.6326625683324865,0.5749601699373053,0.6325592546769594,0.6441320452954005,0.543273282674958,0.5148503953495197,0.5872428831401459,0.620201206418727,0.5058378688654053,0.6007635097990858,0.6038775637503632,0.6130378709371224,0.6328211575896763,0.6805492666561697,0.6112090921104082,0.5858260535503225,0.616144797939881,0.6242266361595417,0.5807061559954729,0.5858706781670238,0.6168574326859773,0.6125297147469159,0.5165057805861821,0.6189141855740956,0.6024712989163533,0.5652867393388257,0.5475140387761768,0.6123530713357557,0.5556455167336212,0.9999999999999994,0.6514021927495066,0.5841474612956313,0.5136311394062552,0.28257078392934076,0.6468061820202456,0.6125959660071385,0.509675359896285,0.6264096974412704,0.585847868609775,0.7071678693143565,0.649932313582781,0.5570765954056124,0.6006378332028195,0.5935169723411371,0.6457114648084321,0.6262555370642349,0.6823366936575517,0.6113165311481504,0.6120661769361841,0.667918230609682,0.5259870696236846,0.6588190672763254,0.5481974170385657,0.6391681475624986,0.5973002973752901],[0.7591915479642302,0.7813062472020221,0.7388989601399871,0.7241553104021174,0.7564567366395086,0.7411324783738531,0.7717680829884574,0.7388178761906705,0.6310831571103817,0.6768044389330556,0.7410628801183106,0.6957228497801932,0.6713979043748317,0.7176304465829577,0.7213360396531439,0.7938409057307743,0.737287351995084,0.7437927196796064,0.6759608749483463,0.6793968382308202,0.7737385038380467,0.6811408110938779,0.7696368702539206,0.7832372442604327,0.6819999685229513,0.672785303129978,0.7468833434912783,0.6518283767461255,0.6738796830059808,0.6745143448429307,0.7284268432298573,0.683035953734167,0.6514021927495066,1.0000000000000004,0.6750925091815599,0.6884202613760984,0.36673594529410736,0.7283150688979799,0.6204763462469731,0.6574963866396333,0.772929071991939,0.6779795320106331,0.7535791465168318,0.773256362666113,0.7003025516867694,0.7841357501511907,0.7454973960157454,0.742062880199168,0.6922978774741447,0.7154052081441831,0.7301119673798468,0.8013476622584502,0.7515259692747864,0.755676615923623,0.7520683156297177,0.6364744133607314,0.7502494538407547,0.7721848935591356],[0.6364180583665466,0.6308628163027568,0.6122959610658343,0.6535867660172381,0.6176555593297379,0.5909544917199103,0.6036230952009359,0.6430051292515295,0.5225676592745357,0.5766209420871661,0.6274109503949868,0.493578568326419,0.5225427603383406,0.5933429433687315,0.5161883908779855,0.6094691439569946,0.6246147336822947,0.6232352291552052,0.6054690496091406,0.6216394635195656,0.6312444586529766,0.6028758404996879,0.6310952766854065,0.6306097248148492,0.6630447425470438,0.6093545004704162,0.5990096107035462,0.6000281282887334,0.5758700739502914,0.5941307968811174,0.6670119447555386,0.5704483267691599,0.5841474612956313,0.6750925091815599,1.0,0.5818807531875012,0.2859155587367056,0.6492416830093527,0.7037751859894681,0.5730160028891504,0.6137797272836034,0.5170422547753436,0.6441260248519273,0.6029412167704049,0.6404249168358261,0.6534429425624083,0.6098040753206769,0.6229190588810928,0.604708600088763,0.6711329183798369,0.6227983927879366,0.6896995850515542,0.6606980812431077,0.6120228558613776,0.6551025505392176,0.5421628043846716,0.6853918341202816,0.6133775578265069],[0.6358960590087537,0.655503431992616,0.6638134159634863,0.6161233987707113,0.8325905808053784,0.5563394890682656,0.6238516711314397,0.6855474398091963,0.47747796161515665,0.5840328111081813,0.6208944946952328,0.5962598551920139,0.5177684081276762,0.6582444550411972,0.5782194921507215,0.6894255006168206,0.5974691908958583,0.6532925631656972,0.6552158274187154,0.5583003385124093,0.706916600226294,0.5293115648175717,0.6197428371723366,0.6252482931642089,0.619062654197315,0.6997991802159574,0.6728300973150323,0.5960414407796325,0.5188069220454288,0.7187236579719991,0.6819806924413843,0.6130091130575693,0.5136311394062552,0.6884202613760984,0.5818807531875012,1.0000000000000004,0.2928018594984878,0.6367860066335305,0.5023822804650109,0.7467769624267308,0.6388641187450215,0.6040829076623194,0.6571981621177881,0.795914217775961,0.6179165517276486,0.68962873237645,0.6181836667020719,0.6679688104885406,0.6264160614312758,0.5515381023681806,0.65091765577567,0.6441811271893002,0.6566140484923058,0.7256994592225302,0.6447792799326211,0.5753244291600093,0.6148299145035397,0.6104757018633356],[0.3084005443251818,0.3196315297021321,0.2956715756314079,0.3205133044325168,0.3739367537505146,0.3612428242708215,0.3231713971358996,0.3386619536493459,0.3961545567156549,0.2541162920238724,0.3306404917578009,0.3620933682974041,0.39930816191365015,0.34790531322694773,0.41947411903562876,0.3150957563658555,0.3344110547744954,0.27006173892428353,0.27800286615563563,0.26481398177482757,0.41749563149871444,0.2571615329693912,0.3458073558273492,0.289031044409388,0.32306467439296543,0.38367540720895404,0.33166839131701975,0.292869052945281,0.22436637591864306,0.2743261132207161,0.3642411731693129,0.292413890231097,0.28257078392934076,0.36673594529410736,0.2859155587367056,0.2928018594984878,0.9999999999999996,0.27917038566289065,0.24572472900235642,0.28627331343464313,0.3176679524446991,0.40959991227878106,0.3123856402881937,0.30612691369031275,0.3583853885112046,0.3210765618728997,0.3495312502360264,0.30998203840945715,0.37440385272595694,0.3137336407260307,0.30538824973719897,0.2831428724507878,0.36223960578371783,0.34143247944948985,0.3373032002052465,0.3310287337361135,0.34193815767999053,0.46424038005257345],[0.7342063611268602,0.7451951861508468,0.7210174732300265,0.7653502483214729,0.6923053315727608,0.6992821441420966,0.7411217617698742,0.7262003293453361,0.7424472969476146,0.644778804660735,0.7489021452059862,0.6296869312274228,0.6187594012599675,0.6966034015148568,0.6346836362078128,0.7294085670591736,0.7738760831275684,0.7606406565788706,0.7202173529078689,0.759432700951777,0.7493710054488034,0.6922967425432306,0.7372528767753637,0.7310469086924678,0.6955850577192435,0.6652991049638928,0.6928445385853171,0.6847152646767494,0.6643158596483705,0.6567666167009332,0.7211276957490559,0.722959002175356,0.6468061820202456,0.7283150688979799,0.6492416830093527,0.6367860066335305,0.27917038566289065,1.0000000000000002,0.6125695745887767,0.7581640530374809,0.7428155030331343,0.6125599803273073,0.7134559687137199,0.7046114985119882,0.6849228384002193,0.7173477161719732,0.7180332493621648,0.7597640470822538,0.6695961152439234,0.7061058903052457,0.7251657793604287,0.7472761972964547,0.7416058711458036,0.703934253336495,0.760389206052529,0.675626959697192,0.7606609683399993,0.7053414014292625],[0.5526205016671155,0.5698306635245851,0.5738999932668434,0.5710018873971074,0.5485880867135349,0.5535269248599087,0.5375631474237225,0.6051254734459434,0.4924579933624569,0.49741425353333185,0.5835787527523283,0.44179498925042926,0.48634463596690714,0.542553042677886,0.498969658571466,0.5533509354762652,0.5691536211930945,0.5493770479043703,0.5573518802145336,0.5386532815584231,0.6225482313000732,0.5288951869040405,0.572153655913345,0.5697018374751353,0.5874358566597846,0.5289662710948195,0.5634287080651913,0.6244816268508879,0.5332241541877377,0.529220960197885,0.6379882028880186,0.5332763987905479,0.6125959660071385,0.6204763462469731,0.7037751859894681,0.5023822804650109,0.24572472900235642,0.6125695745887767,1.0,0.5451626476229003,0.5704779384184303,0.47061171617329167,0.6912207684644431,0.5376100174906805,0.5392785218073544,0.5794563067126586,0.5505251890669698,0.5897143945274068,0.5429506003309206,0.6281759081377152,0.5887345501731636,0.6200349088899417,0.5881333236437315,0.6035380753227502,0.6429908803346667,0.5092236610436583,0.5627596342774066,0.5568698570797899],[0.6203555301268485,0.6260361655760857,0.6240551397404754,0.6893335431496534,0.8024468468306325,0.5795694449964035,0.6246146787973064,0.7726918465890158,0.6863301313991994,0.5704778695204027,0.6039179784815358,0.5796271669999946,0.49777357483876356,0.6935419310716069,0.5520536374535614,0.6815079113871417,0.6152805447400274,0.6957552775710983,0.7569818362783278,0.5978372635110049,0.7408430129237888,0.5347313463845206,0.6773546654290682,0.7247010643854028,0.6010298422496126,0.7695000737787643,0.6836431762889081,0.6888377325431501,0.5897460935341623,0.7224300678743643,0.7060556995716492,0.6726652315023226,0.509675359896285,0.6574963866396333,0.5730160028891504,0.7467769624267308,0.28627331343464313,0.7581640530374809,0.5451626476229003,1.0,0.6087425381106665,0.6148284143744376,0.6633785233668701,0.703930437826415,0.6648670567907593,0.660340980508255,0.6109733031113844,0.6826561578906305,0.6309083480014634,0.5736288104724129,0.7206503706051124,0.6106004120948023,0.7048953804680222,0.7250008604026468,0.6812533436070601,0.6456890010395859,0.6104218413833695,0.6301724842300993],[0.7783145003623961,0.7957312326800599,0.7456264130343657,0.7553904538052201,0.739403451136036,0.7572517439536963,0.7898202307157973,0.7290932479635014,0.5952074734857697,0.7045538066046098,0.738949864287975,0.6861428650726411,0.6221303479030358,0.7450234497664496,0.7057216423805934,0.8161820462984476,0.770075553511882,0.7935788582790511,0.6999506966465097,0.691211425523744,0.7384967036637087,0.6730441836031474,0.7198894516413341,0.7136036850285485,0.7426697095810955,0.6757500315248425,0.7328207401283342,0.6699095403630935,0.6428068127570853,0.6507345132009926,0.733104094450334,0.7120162159535046,0.6264096974412704,0.772929071991939,0.6137797272836034,0.6388641187450215,0.3176679524446991,0.7428155030331343,0.5704779384184303,0.6087425381106665,1.0,0.6689280119840489,0.7397776653708401,0.7188329610180191,0.727618528327016,0.7040368482031855,0.780557478448966,0.7248071176916429,0.6491721502581456,0.6843521591943886,0.7043811524267858,0.7777124454429449,0.682721758048355,0.6955262730989653,0.7486306369289497,0.6377666981066056,0.7458851029214858,0.7998593366867613],[0.6295868026613867,0.6550588508080761,0.6311914574231485,0.6196549969041516,0.6810076391147828,0.6160765209774707,0.6695129427725119,0.6690044177269172,0.5359797383821363,0.5801368967755305,0.6371028369334917,0.5953876157892036,0.5818427054079596,0.6942037773297267,0.6461104932592281,0.6919311085441967,0.703397099704204,0.6442489756501486,0.6480678961165613,0.6070774610407473,0.6683076272518829,0.5533478609676827,0.6624587647155884,0.6397787575285157,0.6696217196604328,0.6378794891735353,0.7065566319754912,0.6003976574231766,0.5806608372173331,0.618832409508971,0.6429206120514822,0.6424211513967883,0.585847868609775,0.6779795320106331,0.5170422547753436,0.6040829076623194,0.40959991227878106,0.6125599803273073,0.47061171617329167,0.6148284143744376,0.6689280119840489,0.9999999999999998,0.6846039895895821,0.6482009289747868,0.6848326655302546,0.629955482102486,0.6729206612915587,0.6526033762159036,0.625231103013384,0.6525964919080337,0.6890598845266407,0.6069260185960192,0.6948212991551417,0.6016198873271297,0.7164890461527871,0.6426667963073669,0.6228824115144674,0.6874738893824788],[0.7260208976830176,0.7225884166266795,0.6940377890602193,0.7066538399340548,0.7380379216134401,0.6923913838601623,0.7402887182906481,0.6745235480628945,0.579059225273389,0.638294413380821,0.7311274820269769,0.6148874890407928,0.6173022962424282,0.7031750751865675,0.6504113346670473,0.7321735420563515,0.753381638534641,0.726681669463954,0.7451946291173057,0.6571854958399377,0.7462528050084992,0.6498707182829323,0.7029997656083947,0.7286222475663033,0.7274600459887368,0.6557497078259079,0.7291151429721034,0.7706879642379285,0.6304103584135906,0.6778649157453576,0.7342224832194273,0.6725353847227309,0.7071678693143565,0.7535791465168318,0.6441260248519273,0.6571981621177881,0.3123856402881937,0.7134559687137199,0.6912207684644431,0.6633785233668701,0.7397776653708401,0.6846039895895821,1.0000000000000004,0.6964724742317138,0.7065691943772798,0.6995769576094115,0.7391321175342951,0.7031129256755198,0.6833947025998001,0.7071602049199889,0.7227757713127155,0.7139617725275604,0.707648207613587,0.6682585495011546,0.7477619568323757,0.6378694029818932,0.6972342623882356,0.7520867682342283],[0.731040570590576,0.755901464979051,0.763868234423821,0.7049515045994295,0.7954423956358021,0.6487678790412595,0.7259352241635888,0.7208454417675889,0.5713842954134454,0.6511967347749599,0.7032944446398819,0.6827427432603987,0.6368017014264802,0.7296384001662054,0.6676810708143606,0.7603187959875048,0.7108594733821476,0.7265241106984066,0.6881657873242304,0.6770849213028997,0.7475429401837356,0.630430665660159,0.7392076328458079,0.7108342838711244,0.6630537617052793,0.7097561731767397,0.743376153719556,0.6327859479621925,0.6643437423305519,0.7407379981321691,0.7381758906210725,0.6906512658883251,0.649932313582781,0.773256362666113,0.6029412167704049,0.795914217775961,0.30612691369031275,0.7046114985119882,0.5376100174906805,0.703930437826415,0.7188329610180191,0.6482009289747868,0.6964724742317138,0.999999999999999,0.6849148213627223,0.7150264855245902,0.6883331039282936,0.7332418726229806,0.7010529026596934,0.6597858630322261,0.730127273014763,0.698179685192009,0.7105394776321045,0.7376235278104764,0.7646620790825656,0.6320547385886015,0.7035746773740257,0.6706330476341132],[0.6816057994578978,0.6872615979938272,0.6486946746883278,0.7377620105967351,0.7146581002614227,0.7051875551157212,0.6950650707752977,0.736156778089196,0.5473160902709,0.6100268656564423,0.6804518285313794,0.6618170106122139,0.600348884931392,0.7093308835398153,0.6326180930675047,0.7220111230920538,0.7205400314051865,0.718921668219515,0.7743250195142368,0.6971497873328332,0.7160296392314096,0.640582563255202,0.7441808605334219,0.7216608141104979,0.7243357021552832,0.705524324858623,0.6975655604170168,0.6554489015122344,0.7530287198628001,0.7110811071095284,0.7181315726155092,0.6726107234848664,0.5570765954056124,0.7003025516867694,0.6404249168358261,0.6179165517276486,0.3583853885112046,0.6849228384002193,0.5392785218073544,0.6648670567907593,0.727618528327016,0.6848326655302546,0.7065691943772798,0.6849148213627223,1.0000000000000004,0.6494202210276019,0.7261992671768003,0.7501304171547026,0.6687066239227497,0.6560776047939525,0.7283550496247573,0.702505333958227,0.7073127054045527,0.7255324525179134,0.7368942851361469,0.6344229870376558,0.655474577688768,0.7281241599722288],[0.6849674526511356,0.6988134084786062,0.6814988408118539,0.667561083202004,0.7066164582482397,0.649841245304061,0.684942093247058,0.6836774622031576,0.6107567498551233,0.652444813891639,0.6866229822422844,0.6173944755283519,0.5654170816898749,0.671218835479429,0.6169349270121411,0.7179156390957533,0.7157985371494774,0.6659236246248141,0.6221534442284897,0.6092813962569688,0.7351493302761622,0.6090741997145434,0.6667273244695816,0.7013797391612686,0.6548026244168765,0.6235543212691654,0.6692613595285393,0.5978998796798766,0.5699938366726885,0.619609206329707,0.67070872717432,0.6436500775556913,0.6006378332028195,0.7841357501511907,0.6534429425624083,0.68962873237645,0.3210765618728997,0.7173477161719732,0.5794563067126586,0.660340980508255,0.7040368482031855,0.629955482102486,0.6995769576094115,0.7150264855245902,0.6494202210276019,1.0000000000000002,0.7017755432528039,0.6993636262499106,0.6678168177833832,0.6940080567407981,0.6635999479968551,0.7472365325019495,0.6938350664552907,0.7000070480374369,0.6881660975754463,0.5876717469817425,0.6939909770332483,0.6628387720774261],[0.7399704920047585,0.7608816579965774,0.7258465033403434,0.677777456557235,0.7140564509272542,0.7186670768049714,0.756961336121446,0.6992912000427746,0.5690107490477492,0.6525070347411752,0.7244264108109961,0.6745964521146487,0.5893463729573016,0.6907873982092065,0.6477109032556397,0.7551265018235946,0.749320041115453,0.7376440561845007,0.6776875955334117,0.6500034792639726,0.7332851025716364,0.6119957709859167,0.7129030883830811,0.6665180014735004,0.6892318302244991,0.6402348333875871,0.7401991274563664,0.6760132772817512,0.6458757602645893,0.6362493900710953,0.7252444085335519,0.6496683373502097,0.5935169723411371,0.7454973960157454,0.6098040753206769,0.6181836667020719,0.3495312502360264,0.7180332493621648,0.5505251890669698,0.6109733031113844,0.780557478448966,0.6729206612915587,0.7391321175342951,0.6883331039282936,0.7261992671768003,0.7017755432528039,0.9999999999999996,0.7127764301417793,0.6489483720522871,0.6574370324215393,0.7026551443229013,0.7240404567209253,0.6818274599182274,0.6704323187770561,0.7512903633903889,0.5829026987234038,0.6983190964612422,0.7587611112539101],[0.7146214320651638,0.7118431599688924,0.6821103024031239,0.7667773209894193,0.6957381779467628,0.6608499846451006,0.7276898586080407,0.7203495579008683,0.6179935784115633,0.6304866224770049,0.7319105424741557,0.6521909905159122,0.6020891068724122,0.7058102579670114,0.6252353630882157,0.6925863263162295,0.7480561558821559,0.7557359546569914,0.730881408980457,0.7631740718810857,0.6974257748319579,0.7218645341429265,0.7602016768548382,0.7384233822948101,0.6739255680871338,0.6616574490564222,0.690808402181506,0.6846317788580456,0.7507167090109677,0.6776215051213034,0.6762865282040555,0.7344093278342083,0.6457114648084321,0.742062880199168,0.6229190588810928,0.6679688104885406,0.30998203840945715,0.7597640470822538,0.5897143945274068,0.6826561578906305,0.7248071176916429,0.6526033762159036,0.7031129256755198,0.7332418726229806,0.7501304171547026,0.6993636262499106,0.7127764301417793,0.9999999999999997,0.6873559963076564,0.7212638822031914,0.7364882903991002,0.7044209480711139,0.7468162978486612,0.6841821005555573,0.7514805741424155,0.6762767531141659,0.707315906815437,0.6485366005135369],[0.6707602968206019,0.6771032790798794,0.647525848460436,0.6728606150665782,0.6743269312612191,0.6407605500250191,0.6567628537257462,0.6607515994278834,0.5575077102597383,0.5791619884805972,0.6595875393707334,0.5544739982468022,0.6339885496217734,0.6162586196920806,0.6104983119680925,0.6606560056137905,0.6666942182372887,0.6455481725119334,0.6493466602627969,0.6574001970159001,0.6760804716019375,0.5784960957751845,0.6867822079367967,0.6789198667203803,0.6646589200959357,0.614679422807368,0.6545046308877174,0.6255601022738002,0.6702604266180388,0.6568682075435192,0.701753858372238,0.593731875164871,0.6262555370642349,0.6922978774741447,0.604708600088763,0.6264160614312758,0.37440385272595694,0.6695961152439234,0.5429506003309206,0.6309083480014634,0.6491721502581456,0.625231103013384,0.6833947025998001,0.7010529026596934,0.6687066239227497,0.6678168177833832,0.6489483720522871,0.6873559963076564,1.0000000000000004,0.6401562171301625,0.6833434651027789,0.6506417910733623,0.6901881744916483,0.6148726418135955,0.695018513563233,0.5742707426170841,0.6841773926203456,0.6148760132341025],[0.6678968211095406,0.6650746860718411,0.6627051049708903,0.7056308506699663,0.6170167064273151,0.6494021381879089,0.7000939081686126,0.6317048451513054,0.6116995432738053,0.6670806997082108,0.6765722950712951,0.6048320189511711,0.6119105448522622,0.6707870760931975,0.623098907136619,0.6724416487627979,0.7210618877746178,0.6804342399129173,0.6341520350617442,0.6748185783601297,0.6451117990024651,0.6747335078587597,0.6959868964383206,0.6877872832326787,0.6674064602912739,0.582725169257308,0.6608476192931931,0.6314462874111904,0.6257688766873832,0.5896052518372772,0.6757206034250822,0.656205781256596,0.6823366936575517,0.7154052081441831,0.6711329183798369,0.5515381023681806,0.3137336407260307,0.7061058903052457,0.6281759081377152,0.5736288104724129,0.6843521591943886,0.6525964919080337,0.7071602049199889,0.6597858630322261,0.6560776047939525,0.6940080567407981,0.6574370324215393,0.7212638822031914,0.6401562171301625,1.0000000000000002,0.6858292091483604,0.6861373954384139,0.7010358447808029,0.5861276136526682,0.7235986748502592,0.6410567753190044,0.7234106495024353,0.6684202837898586],[0.7188311753154697,0.7532089939653299,0.7399881827866481,0.7424720636526044,0.7415233916059277,0.6520348111534425,0.7113504350560519,0.7816573013161869,0.6070834196425656,0.6590307241530855,0.7112440886160964,0.6438470197074466,0.6499202631913956,0.7509390810664289,0.6825814355690627,0.7327156688843086,0.7132048215536841,0.7495039824629859,0.7812917696090662,0.6895432736748797,0.7435022408976447,0.6520349789339474,0.7553621577381175,0.7221988227324957,0.7150982624921691,0.7283365829651416,0.7773977232748992,0.7306494162505153,0.7155837340966815,0.7323236456811573,0.7304560179833881,0.7332263983448535,0.6113165311481504,0.7301119673798468,0.6227983927879366,0.65091765577567,0.30538824973719897,0.7251657793604287,0.5887345501731636,0.7206503706051124,0.7043811524267858,0.6890598845266407,0.7227757713127155,0.730127273014763,0.7283550496247573,0.6635999479968551,0.7026551443229013,0.7364882903991002,0.6833434651027789,0.6858292091483604,0.9999999999999993,0.7186087933852333,0.7771167914686128,0.7231182898958649,0.7848515473620692,0.6367890532818146,0.7006800325989063,0.7149785310087569],[0.7772008011398674,0.7837699418487748,0.7371254817930687,0.7489158738218861,0.7037159822834846,0.7309425761691513,0.7583781081549141,0.6951975548750244,0.6103482797840247,0.7186151730916508,0.7611739360534793,0.6258157832174219,0.6089985679433685,0.6995432493012352,0.6283477315988811,0.7742005718995393,0.7307040112665077,0.7215879162878944,0.6460614836044662,0.6899105321262532,0.7602807819761721,0.6833068757564538,0.6937832060363083,0.6830708953811945,0.7305209866529254,0.6422501108732455,0.6997095960394133,0.6214502771481678,0.6342341764536137,0.6156815242024374,0.7276989448265739,0.6572036727454414,0.6120661769361841,0.8013476622584502,0.6896995850515542,0.6441811271893002,0.2831428724507878,0.7472761972964547,0.6200349088899417,0.6106004120948023,0.7777124454429449,0.6069260185960192,0.7139617725275604,0.698179685192009,0.702505333958227,0.7472365325019495,0.7240404567209253,0.7044209480711139,0.6506417910733623,0.6861373954384139,0.7186087933852333,0.9999999999999998,0.7228167925517669,0.706071622599508,0.7071174057940229,0.6033124357072621,0.7516676506798847,0.748131046857663],[0.7085456747010523,0.7259643573295339,0.6994289767378101,0.7358906395412201,0.7070005954248322,0.6739792756973897,0.6930787295705922,0.7413195101920311,0.6255954440388056,0.6571659136594155,0.7000123109647902,0.6156991964829615,0.6504248917012558,0.7403974350838511,0.6736345574316756,0.706149078600742,0.7251334618912495,0.7312201249274439,0.7535480663789318,0.7041719116422483,0.7187192992088494,0.6341112858563756,0.7086554317811427,0.7617746107590166,0.7437824106985778,0.670886416031015,0.7306264089352097,0.6828200826629949,0.6947844969303121,0.672559075916545,0.6947887654545639,0.7033255888004991,0.667918230609682,0.7515259692747864,0.6606980812431077,0.6566140484923058,0.36223960578371783,0.7416058711458036,0.5881333236437315,0.7048953804680222,0.682721758048355,0.6948212991551417,0.707648207613587,0.7105394776321045,0.7073127054045527,0.6938350664552907,0.6818274599182274,0.7468162978486612,0.6901881744916483,0.7010358447808029,0.7771167914686128,0.7228167925517669,1.0000000000000004,0.6822537487645475,0.7356574646398232,0.6797790686647808,0.7197540769811525,0.6913475897939604],[0.660484426651218,0.6752283972059241,0.6386896716602468,0.6894129620810014,0.7917797540008485,0.6301516856231546,0.659245372472985,0.7836637272152507,0.5618825688987387,0.6004844968353813,0.6802329186107059,0.6477315658556786,0.5769401447146829,0.7159652618286743,0.6326364781353324,0.6969634042958581,0.6583966299005701,0.6948940567023942,0.6827713614202584,0.6864492440059236,0.8138076130949765,0.5952368517661292,0.6997077318160627,0.7239739979425597,0.6547397709631952,0.740597786872564,0.681656867225316,0.6229417870217882,0.6087461095730717,0.7269101563928582,0.7361148298603932,0.6652642438045768,0.5259870696236846,0.755676615923623,0.6120228558613776,0.7256994592225302,0.34143247944948985,0.703934253336495,0.6035380753227502,0.7250008604026468,0.6955262730989653,0.6016198873271297,0.6682585495011546,0.7376235278104764,0.7255324525179134,0.7000070480374369,0.6704323187770561,0.6841821005555573,0.6148726418135955,0.5861276136526682,0.7231182898958649,0.706071622599508,0.6822537487645475,1.0000000000000002,0.7125439431052114,0.6029122850728074,0.6630373066396393,0.6803402714531486],[0.7216428633959605,0.7397554508756643,0.7309863296502883,0.715429571487874,0.7258925877717011,0.6822742659318577,0.7423124446240288,0.7400575944265708,0.6220893376448864,0.64661002965584,0.7254637272818827,0.639718863338955,0.6415442059680516,0.7375801625141973,0.6787437059919879,0.7547994115960561,0.7508834592095007,0.7610122883192736,0.7234458560684249,0.7127707694607704,0.7162037551517761,0.676727726287975,0.7486663006827415,0.7411884898158245,0.7052856424869776,0.7373290437256665,0.743085167125028,0.7021690063405779,0.6754185373915788,0.7513206832408516,0.7590217302845769,0.7018978407133252,0.6588190672763254,0.7520683156297177,0.6551025505392176,0.6447792799326211,0.3373032002052465,0.760389206052529,0.6429908803346667,0.6812533436070601,0.7486306369289497,0.7164890461527871,0.7477619568323757,0.7646620790825656,0.7368942851361469,0.6881660975754463,0.7512903633903889,0.7514805741424155,0.695018513563233,0.7235986748502592,0.7848515473620692,0.7071174057940229,0.7356574646398232,0.7125439431052114,1.0000000000000007,0.6722880448457598,0.7185421835423218,0.7411146537885367],[0.6211032186089503,0.6207242564057269,0.582161752034838,0.6662526965424977,0.6247030353588471,0.6174449202099346,0.6245675258974095,0.6303474052573715,0.5965396970195875,0.5993330201415801,0.6143293060226596,0.5943964982097336,0.6039978853616024,0.6487442357184418,0.6130568123224939,0.6493132414002909,0.6629591769556832,0.6396335770311635,0.6348311689349855,0.6420790403166174,0.6468288431540572,0.5986999370914963,0.6296845145319352,0.6711063331111893,0.6202795251996911,0.6469561446131447,0.6346160290703002,0.592433643464863,0.5428861316523412,0.6004160522434879,0.6369652448757974,0.5819658276129724,0.5481974170385657,0.6364744133607314,0.5421628043846716,0.5753244291600093,0.3310287337361135,0.675626959697192,0.5092236610436583,0.6456890010395859,0.6377666981066056,0.6426667963073669,0.6378694029818932,0.6320547385886015,0.6344229870376558,0.5876717469817425,0.5829026987234038,0.6762767531141659,0.5742707426170841,0.6410567753190044,0.6367890532818146,0.6033124357072621,0.6797790686647808,0.6029122850728074,0.6722880448457598,0.9999999999999987,0.6296082083944239,0.6328022395627929],[0.7150020545429487,0.7180083727839497,0.692486275973084,0.7356994775165325,0.6822473517671886,0.703815479673762,0.7183541017330795,0.6963363064473865,0.6264103200069062,0.6652765937398386,0.7330596355054244,0.6213934256026152,0.6857919883550918,0.6908628009420323,0.6596181586064421,0.7238209808004012,0.7562901038634251,0.6847239958979752,0.6227851381914387,0.7271308851417255,0.7415106922447594,0.6861730283122296,0.6910791768833286,0.6840092348481054,0.7244789380690573,0.6508746518459414,0.7033386293230202,0.6134366880754158,0.6415280840651403,0.6251918945059166,0.7012501872602062,0.6106240825237598,0.6391681475624986,0.7502494538407547,0.6853918341202816,0.6148299145035397,0.34193815767999053,0.7606609683399993,0.5627596342774066,0.6104218413833695,0.7458851029214858,0.6228824115144674,0.6972342623882356,0.7035746773740257,0.655474577688768,0.6939909770332483,0.6983190964612422,0.707315906815437,0.6841773926203456,0.7234106495024353,0.7006800325989063,0.7516676506798847,0.7197540769811525,0.6630373066396393,0.7185421835423218,0.6296082083944239,0.9999999999999997,0.7201042606597374],[0.7857081902474556,0.7894434707340297,0.7145703070534493,0.7227959688527017,0.7392186159091476,0.8544299612324571,0.8179313730914768,0.6966425315843918,0.6332719990284731,0.61870490621176,0.7335088226411728,0.6690687273560229,0.6421847096387506,0.7433161229527923,0.7371080242779755,0.8282262981396238,0.7307458688212299,0.7347572608034068,0.6867548014632834,0.6391977588539315,0.7955645399265637,0.6403318540245118,0.7147941874317805,0.7008539109014973,0.7130132590628987,0.6716121533824257,0.7222782802487396,0.6867401109911393,0.5723823949404754,0.6254480699670633,0.7470809053707034,0.636565731340331,0.5973002973752901,0.7721848935591356,0.6133775578265069,0.6104757018633356,0.46424038005257345,0.7053414014292625,0.5568698570797899,0.6301724842300993,0.7998593366867613,0.6874738893824788,0.7520867682342283,0.6706330476341132,0.7281241599722288,0.6628387720774261,0.7587611112539101,0.6485366005135369,0.6148760132341025,0.6684202837898586,0.7149785310087569,0.748131046857663,0.6913475897939604,0.6803402714531486,0.7411146537885367,0.6328022395627929,0.7201042606597374,0.9999999999999999]],\"type\":\"heatmap\",\"xaxis\":\"x\",\"yaxis\":\"y\",\"hovertemplate\":\"x: %{x}<br>y: %{y}<br>Similarity Score: %{z}<extra></extra>\"}],                        {\"template\":{\"data\":{\"histogram2dcontour\":[{\"type\":\"histogram2dcontour\",\"colorbar\":{\"outlinewidth\":0,\"ticks\":\"\"},\"colorscale\":[[0.0,\"#0d0887\"],[0.1111111111111111,\"#46039f\"],[0.2222222222222222,\"#7201a8\"],[0.3333333333333333,\"#9c179e\"],[0.4444444444444444,\"#bd3786\"],[0.5555555555555556,\"#d8576b\"],[0.6666666666666666,\"#ed7953\"],[0.7777777777777778,\"#fb9f3a\"],[0.8888888888888888,\"#fdca26\"],[1.0,\"#f0f921\"]]}],\"choropleth\":[{\"type\":\"choropleth\",\"colorbar\":{\"outlinewidth\":0,\"ticks\":\"\"}}],\"histogram2d\":[{\"type\":\"histogram2d\",\"colorbar\":{\"outlinewidth\":0,\"ticks\":\"\"},\"colorscale\":[[0.0,\"#0d0887\"],[0.1111111111111111,\"#46039f\"],[0.2222222222222222,\"#7201a8\"],[0.3333333333333333,\"#9c179e\"],[0.4444444444444444,\"#bd3786\"],[0.5555555555555556,\"#d8576b\"],[0.6666666666666666,\"#ed7953\"],[0.7777777777777778,\"#fb9f3a\"],[0.8888888888888888,\"#fdca26\"],[1.0,\"#f0f921\"]]}],\"heatmap\":[{\"type\":\"heatmap\",\"colorbar\":{\"outlinewidth\":0,\"ticks\":\"\"},\"colorscale\":[[0.0,\"#0d0887\"],[0.1111111111111111,\"#46039f\"],[0.2222222222222222,\"#7201a8\"],[0.3333333333333333,\"#9c179e\"],[0.4444444444444444,\"#bd3786\"],[0.5555555555555556,\"#d8576b\"],[0.6666666666666666,\"#ed7953\"],[0.7777777777777778,\"#fb9f3a\"],[0.8888888888888888,\"#fdca26\"],[1.0,\"#f0f921\"]]}],\"heatmapgl\":[{\"type\":\"heatmapgl\",\"colorbar\":{\"outlinewidth\":0,\"ticks\":\"\"},\"colorscale\":[[0.0,\"#0d0887\"],[0.1111111111111111,\"#46039f\"],[0.2222222222222222,\"#7201a8\"],[0.3333333333333333,\"#9c179e\"],[0.4444444444444444,\"#bd3786\"],[0.5555555555555556,\"#d8576b\"],[0.6666666666666666,\"#ed7953\"],[0.7777777777777778,\"#fb9f3a\"],[0.8888888888888888,\"#fdca26\"],[1.0,\"#f0f921\"]]}],\"contourcarpet\":[{\"type\":\"contourcarpet\",\"colorbar\":{\"outlinewidth\":0,\"ticks\":\"\"}}],\"contour\":[{\"type\":\"contour\",\"colorbar\":{\"outlinewidth\":0,\"ticks\":\"\"},\"colorscale\":[[0.0,\"#0d0887\"],[0.1111111111111111,\"#46039f\"],[0.2222222222222222,\"#7201a8\"],[0.3333333333333333,\"#9c179e\"],[0.4444444444444444,\"#bd3786\"],[0.5555555555555556,\"#d8576b\"],[0.6666666666666666,\"#ed7953\"],[0.7777777777777778,\"#fb9f3a\"],[0.8888888888888888,\"#fdca26\"],[1.0,\"#f0f921\"]]}],\"surface\":[{\"type\":\"surface\",\"colorbar\":{\"outlinewidth\":0,\"ticks\":\"\"},\"colorscale\":[[0.0,\"#0d0887\"],[0.1111111111111111,\"#46039f\"],[0.2222222222222222,\"#7201a8\"],[0.3333333333333333,\"#9c179e\"],[0.4444444444444444,\"#bd3786\"],[0.5555555555555556,\"#d8576b\"],[0.6666666666666666,\"#ed7953\"],[0.7777777777777778,\"#fb9f3a\"],[0.8888888888888888,\"#fdca26\"],[1.0,\"#f0f921\"]]}],\"mesh3d\":[{\"type\":\"mesh3d\",\"colorbar\":{\"outlinewidth\":0,\"ticks\":\"\"}}],\"scatter\":[{\"fillpattern\":{\"fillmode\":\"overlay\",\"size\":10,\"solidity\":0.2},\"type\":\"scatter\"}],\"parcoords\":[{\"type\":\"parcoords\",\"line\":{\"colorbar\":{\"outlinewidth\":0,\"ticks\":\"\"}}}],\"scatterpolargl\":[{\"type\":\"scatterpolargl\",\"marker\":{\"colorbar\":{\"outlinewidth\":0,\"ticks\":\"\"}}}],\"bar\":[{\"error_x\":{\"color\":\"#2a3f5f\"},\"error_y\":{\"color\":\"#2a3f5f\"},\"marker\":{\"line\":{\"color\":\"#E5ECF6\",\"width\":0.5},\"pattern\":{\"fillmode\":\"overlay\",\"size\":10,\"solidity\":0.2}},\"type\":\"bar\"}],\"scattergeo\":[{\"type\":\"scattergeo\",\"marker\":{\"colorbar\":{\"outlinewidth\":0,\"ticks\":\"\"}}}],\"scatterpolar\":[{\"type\":\"scatterpolar\",\"marker\":{\"colorbar\":{\"outlinewidth\":0,\"ticks\":\"\"}}}],\"histogram\":[{\"marker\":{\"pattern\":{\"fillmode\":\"overlay\",\"size\":10,\"solidity\":0.2}},\"type\":\"histogram\"}],\"scattergl\":[{\"type\":\"scattergl\",\"marker\":{\"colorbar\":{\"outlinewidth\":0,\"ticks\":\"\"}}}],\"scatter3d\":[{\"type\":\"scatter3d\",\"line\":{\"colorbar\":{\"outlinewidth\":0,\"ticks\":\"\"}},\"marker\":{\"colorbar\":{\"outlinewidth\":0,\"ticks\":\"\"}}}],\"scattermapbox\":[{\"type\":\"scattermapbox\",\"marker\":{\"colorbar\":{\"outlinewidth\":0,\"ticks\":\"\"}}}],\"scatterternary\":[{\"type\":\"scatterternary\",\"marker\":{\"colorbar\":{\"outlinewidth\":0,\"ticks\":\"\"}}}],\"scattercarpet\":[{\"type\":\"scattercarpet\",\"marker\":{\"colorbar\":{\"outlinewidth\":0,\"ticks\":\"\"}}}],\"carpet\":[{\"aaxis\":{\"endlinecolor\":\"#2a3f5f\",\"gridcolor\":\"white\",\"linecolor\":\"white\",\"minorgridcolor\":\"white\",\"startlinecolor\":\"#2a3f5f\"},\"baxis\":{\"endlinecolor\":\"#2a3f5f\",\"gridcolor\":\"white\",\"linecolor\":\"white\",\"minorgridcolor\":\"white\",\"startlinecolor\":\"#2a3f5f\"},\"type\":\"carpet\"}],\"table\":[{\"cells\":{\"fill\":{\"color\":\"#EBF0F8\"},\"line\":{\"color\":\"white\"}},\"header\":{\"fill\":{\"color\":\"#C8D4E3\"},\"line\":{\"color\":\"white\"}},\"type\":\"table\"}],\"barpolar\":[{\"marker\":{\"line\":{\"color\":\"#E5ECF6\",\"width\":0.5},\"pattern\":{\"fillmode\":\"overlay\",\"size\":10,\"solidity\":0.2}},\"type\":\"barpolar\"}],\"pie\":[{\"automargin\":true,\"type\":\"pie\"}]},\"layout\":{\"autotypenumbers\":\"strict\",\"colorway\":[\"#636efa\",\"#EF553B\",\"#00cc96\",\"#ab63fa\",\"#FFA15A\",\"#19d3f3\",\"#FF6692\",\"#B6E880\",\"#FF97FF\",\"#FECB52\"],\"font\":{\"color\":\"#2a3f5f\"},\"hovermode\":\"closest\",\"hoverlabel\":{\"align\":\"left\"},\"paper_bgcolor\":\"white\",\"plot_bgcolor\":\"#E5ECF6\",\"polar\":{\"bgcolor\":\"#E5ECF6\",\"angularaxis\":{\"gridcolor\":\"white\",\"linecolor\":\"white\",\"ticks\":\"\"},\"radialaxis\":{\"gridcolor\":\"white\",\"linecolor\":\"white\",\"ticks\":\"\"}},\"ternary\":{\"bgcolor\":\"#E5ECF6\",\"aaxis\":{\"gridcolor\":\"white\",\"linecolor\":\"white\",\"ticks\":\"\"},\"baxis\":{\"gridcolor\":\"white\",\"linecolor\":\"white\",\"ticks\":\"\"},\"caxis\":{\"gridcolor\":\"white\",\"linecolor\":\"white\",\"ticks\":\"\"}},\"coloraxis\":{\"colorbar\":{\"outlinewidth\":0,\"ticks\":\"\"}},\"colorscale\":{\"sequential\":[[0.0,\"#0d0887\"],[0.1111111111111111,\"#46039f\"],[0.2222222222222222,\"#7201a8\"],[0.3333333333333333,\"#9c179e\"],[0.4444444444444444,\"#bd3786\"],[0.5555555555555556,\"#d8576b\"],[0.6666666666666666,\"#ed7953\"],[0.7777777777777778,\"#fb9f3a\"],[0.8888888888888888,\"#fdca26\"],[1.0,\"#f0f921\"]],\"sequentialminus\":[[0.0,\"#0d0887\"],[0.1111111111111111,\"#46039f\"],[0.2222222222222222,\"#7201a8\"],[0.3333333333333333,\"#9c179e\"],[0.4444444444444444,\"#bd3786\"],[0.5555555555555556,\"#d8576b\"],[0.6666666666666666,\"#ed7953\"],[0.7777777777777778,\"#fb9f3a\"],[0.8888888888888888,\"#fdca26\"],[1.0,\"#f0f921\"]],\"diverging\":[[0,\"#8e0152\"],[0.1,\"#c51b7d\"],[0.2,\"#de77ae\"],[0.3,\"#f1b6da\"],[0.4,\"#fde0ef\"],[0.5,\"#f7f7f7\"],[0.6,\"#e6f5d0\"],[0.7,\"#b8e186\"],[0.8,\"#7fbc41\"],[0.9,\"#4d9221\"],[1,\"#276419\"]]},\"xaxis\":{\"gridcolor\":\"white\",\"linecolor\":\"white\",\"ticks\":\"\",\"title\":{\"standoff\":15},\"zerolinecolor\":\"white\",\"automargin\":true,\"zerolinewidth\":2},\"yaxis\":{\"gridcolor\":\"white\",\"linecolor\":\"white\",\"ticks\":\"\",\"title\":{\"standoff\":15},\"zerolinecolor\":\"white\",\"automargin\":true,\"zerolinewidth\":2},\"scene\":{\"xaxis\":{\"backgroundcolor\":\"#E5ECF6\",\"gridcolor\":\"white\",\"linecolor\":\"white\",\"showbackground\":true,\"ticks\":\"\",\"zerolinecolor\":\"white\",\"gridwidth\":2},\"yaxis\":{\"backgroundcolor\":\"#E5ECF6\",\"gridcolor\":\"white\",\"linecolor\":\"white\",\"showbackground\":true,\"ticks\":\"\",\"zerolinecolor\":\"white\",\"gridwidth\":2},\"zaxis\":{\"backgroundcolor\":\"#E5ECF6\",\"gridcolor\":\"white\",\"linecolor\":\"white\",\"showbackground\":true,\"ticks\":\"\",\"zerolinecolor\":\"white\",\"gridwidth\":2}},\"shapedefaults\":{\"line\":{\"color\":\"#2a3f5f\"}},\"annotationdefaults\":{\"arrowcolor\":\"#2a3f5f\",\"arrowhead\":0,\"arrowwidth\":1},\"geo\":{\"bgcolor\":\"white\",\"landcolor\":\"#E5ECF6\",\"subunitcolor\":\"white\",\"showland\":true,\"showlakes\":true,\"lakecolor\":\"white\"},\"title\":{\"x\":0.05},\"mapbox\":{\"style\":\"light\"}}},\"xaxis\":{\"anchor\":\"y\",\"domain\":[0.0,1.0],\"scaleanchor\":\"y\",\"constrain\":\"domain\"},\"yaxis\":{\"anchor\":\"x\",\"domain\":[0.0,1.0],\"autorange\":\"reversed\",\"constrain\":\"domain\"},\"coloraxis\":{\"colorbar\":{\"title\":{\"text\":\"Similarity Score\"}},\"colorscale\":[[0.0,\"rgb(247,252,240)\"],[0.125,\"rgb(224,243,219)\"],[0.25,\"rgb(204,235,197)\"],[0.375,\"rgb(168,221,181)\"],[0.5,\"rgb(123,204,196)\"],[0.625,\"rgb(78,179,211)\"],[0.75,\"rgb(43,140,190)\"],[0.875,\"rgb(8,104,172)\"],[1.0,\"rgb(8,64,129)\"]]},\"margin\":{\"t\":60},\"title\":{\"font\":{\"size\":22,\"color\":\"Black\"},\"text\":\"<b>Similarity Matrix\",\"y\":0.95,\"x\":0.55,\"xanchor\":\"center\",\"yanchor\":\"top\"},\"hoverlabel\":{\"font\":{\"size\":16,\"family\":\"Rockwell\"},\"bgcolor\":\"white\"},\"width\":800,\"height\":800,\"showlegend\":true,\"legend\":{\"title\":{\"text\":\"Trend\"}}},                        {\"responsive\": true}                    ).then(function(){\n",
       "                            \n",
       "var gd = document.getElementById('302d1964-4a9e-435b-8382-6f22dd7629b9');\n",
       "var x = new MutationObserver(function (mutations, observer) {{\n",
       "        var display = window.getComputedStyle(gd).display;\n",
       "        if (!display || display === 'none') {{\n",
       "            console.log([gd, 'removed!']);\n",
       "            Plotly.purge(gd);\n",
       "            observer.disconnect();\n",
       "        }}\n",
       "}});\n",
       "\n",
       "// Listen for the removal of the full notebook cells\n",
       "var notebookContainer = gd.closest('#notebook-container');\n",
       "if (notebookContainer) {{\n",
       "    x.observe(notebookContainer, {childList: true});\n",
       "}}\n",
       "\n",
       "// Listen for the clearing of the current output cell\n",
       "var outputEl = gd.closest('.output');\n",
       "if (outputEl) {{\n",
       "    x.observe(outputEl, {childList: true});\n",
       "}}\n",
       "\n",
       "                        })                };                });            </script>        </div>"
      ]
     },
     "metadata": {},
     "output_type": "display_data"
    }
   ],
   "source": [
    "model.visualize_heatmap()"
   ]
  },
  {
   "cell_type": "code",
   "execution_count": 24,
   "id": "01ecab88",
   "metadata": {},
   "outputs": [
    {
     "data": {
      "text/plain": [
       "(31, 1.0)"
      ]
     },
     "execution_count": 24,
     "metadata": {},
     "output_type": "execute_result"
    }
   ],
   "source": [
    "topics[0], probabilities[0]"
   ]
  }
 ],
 "metadata": {
  "kernelspec": {
   "display_name": "Python 3 (ipykernel)",
   "language": "python",
   "name": "python3"
  },
  "language_info": {
   "codemirror_mode": {
    "name": "ipython",
    "version": 3
   },
   "file_extension": ".py",
   "mimetype": "text/x-python",
   "name": "python",
   "nbconvert_exporter": "python",
   "pygments_lexer": "ipython3",
   "version": "3.9.7"
  }
 },
 "nbformat": 4,
 "nbformat_minor": 5
}
